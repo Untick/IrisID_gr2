{
  "nbformat": 4,
  "nbformat_minor": 0,
  "metadata": {
    "colab": {
      "provenance": [],
      "authorship_tag": "ABX9TyOw85D38wc1OKo6JlADwGpm",
      "include_colab_link": true
    },
    "kernelspec": {
      "name": "python3",
      "display_name": "Python 3"
    },
    "language_info": {
      "name": "python"
    }
  },
  "cells": [
    {
      "cell_type": "markdown",
      "metadata": {
        "id": "view-in-github",
        "colab_type": "text"
      },
      "source": [
        "<a href=\"https://colab.research.google.com/github/Untick/IrisID_gr2/blob/Gaidash-Alexey-folder/Gaidash%20Aleksey/Identification-of-patients.ipynb\" target=\"_parent\"><img src=\"https://colab.research.google.com/assets/colab-badge.svg\" alt=\"Open In Colab\"/></a>"
      ]
    },
    {
      "cell_type": "markdown",
      "source": [
        "Подключим библиотеки"
      ],
      "metadata": {
        "id": "F6vwECPJK1cN"
      }
    },
    {
      "cell_type": "code",
      "execution_count": 11,
      "metadata": {
        "id": "WtfSqh3VJfgm"
      },
      "outputs": [],
      "source": [
        "# Подключение класса для создания нейронной сети прямого распространения\n",
        "from tensorflow.keras.models import Sequential \n",
        "# Подключение класса для создания полносвязного слоя\n",
        "from tensorflow.keras.layers import Dense \n",
        "# Подключение оптимизатора\n",
        "from tensorflow.keras.optimizers import Adam \n",
        "# Подключение утилит для to_categorical\n",
        "from tensorflow.keras import utils \n",
        "# Подключение библиотеки для загрузки изображений\n",
        "from tensorflow.keras.preprocessing import image \n",
        "# Подключение библиотеки для работы с массивами\n",
        "import numpy as np \n",
        "# Подключение библиотек для отрисовки изображений\n",
        "import matplotlib.pyplot as plt \n",
        "# Подключение модуля для работы с файлами\n",
        "import os\n",
        "\n",
        "from PIL import Image;\n",
        "# для распаковки архивов\n",
        "import zipfile\n",
        "# Вывод изображения в ноутбуке, а не в консоли или файле\n",
        "%matplotlib inline"
      ]
    },
    {
      "cell_type": "code",
      "source": [
        "# Загрузка датасета из облака\n",
        "import gdown\n",
        "gdown.download('https://drive.google.com/uc?id=1ZAXRuE6ly8nJG-eGFTkD9Pn663ihCedB', None, quiet=True)"
      ],
      "metadata": {
        "colab": {
          "base_uri": "https://localhost:8080/",
          "height": 36
        },
        "id": "YXtx0HIFK6EL",
        "outputId": "dd2b27b9-6a53-4d09-fccd-665d041028f0"
      },
      "execution_count": 2,
      "outputs": [
        {
          "output_type": "execute_result",
          "data": {
            "text/plain": [
              "'Iris_ID.zip'"
            ],
            "application/vnd.google.colaboratory.intrinsic+json": {
              "type": "string"
            }
          },
          "metadata": {},
          "execution_count": 2
        }
      ]
    },
    {
      "cell_type": "code",
      "source": [
        "# Распаковываем архив Iris_ID.zip в папку Iris_ID\n",
        "!unzip -q Iris_ID.zip"
      ],
      "metadata": {
        "id": "TK8GSwCCLQul"
      },
      "execution_count": 3,
      "outputs": []
    },
    {
      "cell_type": "code",
      "source": [
        "# Распакуем вложенные архивы\n",
        "# Путь к директории с базой\n",
        "base_dir = '/content/Iris_ID';\n",
        "\n",
        "for patch in os.listdir(base_dir):\n",
        "  with zipfile.ZipFile(base_dir + '/' + patch, 'r') as zip_ref:\n",
        "    zip_ref.extractall('dataset' + '/' + patch.split('.')[0]);"
      ],
      "metadata": {
        "id": "7X71Hq5FSO4I"
      },
      "execution_count": 4,
      "outputs": []
    },
    {
      "cell_type": "code",
      "source": [
        "# Получим данные изображений в виде масива\n",
        "datasetPath = '/content/dataset';\n",
        "\n",
        "# Создание пустого списка для загрузки изображений обучающей выборки\n",
        "x_train = [];\n",
        "# Создание списка для меток классов\n",
        "y_train = [];\n",
        "\n",
        "# Перебираем каждую директорию\n",
        "for dir in os.listdir(datasetPath):\n",
        "  # Преобразовываем каждую картинку в массив байт\n",
        "  for img in os.listdir(datasetPath + '/' + dir):\n",
        "    i = Image.open(datasetPath + '/' + dir + '/' + img);\n",
        "    width, height = i.size;\n",
        "    x_train.append(image.img_to_array(image.load_img(datasetPath + '/' + dir + '/' + img,\n",
        "                                                     target_size=(int(height / 2), int(width / 2)), \n",
        "                                                     color_mode='grayscale')))\n",
        "\n",
        "    if 'L' not in img:\n",
        "      spliterator = 'R';\n",
        "      id = img.split(spliterator + '_')[0];\n",
        "      y_train.append(id + spliterator);\n",
        "    elif 'R' not in img:\n",
        "      spliterator = 'L';\n",
        "      id = img.split(spliterator + '_')[0];\n",
        "      y_train.append(id + spliterator);\n",
        "\n",
        "# Преобразование в numpy-массив загруженных изображений и меток классов\n",
        "x_train = np.array(x_train);\n",
        "y_train = np.array(y_train);\n",
        "\n",
        "# Вывод размерностей\n",
        "print('Размер массива x_train', x_train.shape)\n",
        "print('Размер массива y_train', y_train.shape)"
      ],
      "metadata": {
        "colab": {
          "base_uri": "https://localhost:8080/"
        },
        "id": "4ISbYTEUXDwP",
        "outputId": "d634faaa-a06d-44da-f0c2-f0e70e4ba2b2"
      },
      "execution_count": 25,
      "outputs": [
        {
          "output_type": "stream",
          "name": "stdout",
          "text": [
            "Размер массива x_train (384, 288, 384, 1)\n",
            "Размер массива y_train (384,)\n"
          ]
        }
      ]
    },
    {
      "cell_type": "code",
      "source": [],
      "metadata": {
        "id": "EMT68E8HrX01"
      },
      "execution_count": null,
      "outputs": []
    }
  ]
}