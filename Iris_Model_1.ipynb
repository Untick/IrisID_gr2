{
  "nbformat": 4,
  "nbformat_minor": 0,
  "metadata": {
    "colab": {
      "provenance": [],
      "collapsed_sections": [
        "zF9D5Fn2OSQW",
        "w-WCKvh-bPDH",
        "1Nuho1BTbdmf",
        "Uxl5sULeb-lO",
        "oWsHTIn-mpLM",
        "u6KmeXgXpNPy",
        "ffV1euwEpZ35",
        "LKz3yaLitD6k"
      ],
      "gpuType": "T4",
      "authorship_tag": "ABX9TyM5mt5NLJmRkZdz6FcXPeol",
      "include_colab_link": true
    },
    "kernelspec": {
      "name": "python3",
      "display_name": "Python 3"
    },
    "language_info": {
      "name": "python"
    },
    "accelerator": "GPU",
    "gpuClass": "standard"
  },
  "cells": [
    {
      "cell_type": "markdown",
      "metadata": {
        "id": "view-in-github",
        "colab_type": "text"
      },
      "source": [
        "<a href=\"https://colab.research.google.com/github/Untick/IrisID_gr2/blob/Alexey-Tatarinov-folder/Iris_Model_1.ipynb\" target=\"_parent\"><img src=\"https://colab.research.google.com/assets/colab-badge.svg\" alt=\"Open In Colab\"/></a>"
      ]
    },
    {
      "cell_type": "markdown",
      "source": [
        "# **Импорт библиотек и модулей**"
      ],
      "metadata": {
        "id": "zF9D5Fn2OSQW"
      }
    },
    {
      "cell_type": "code",
      "execution_count": 1,
      "metadata": {
        "colab": {
          "base_uri": "https://localhost:8080/"
        },
        "id": "YzRcKkv4LE6P",
        "outputId": "3b509b33-db78-46be-a73b-eda3c123586d"
      },
      "outputs": [
        {
          "output_type": "stream",
          "name": "stdout",
          "text": [
            "Looking in indexes: https://pypi.org/simple, https://us-python.pkg.dev/colab-wheels/public/simple/\n",
            "Collecting autokeras\n",
            "  Downloading autokeras-1.1.0-py3-none-any.whl (148 kB)\n",
            "\u001b[2K     \u001b[90m━━━━━━━━━━━━━━━━━━━━━━━━━━━━━━━━━━━━━━━\u001b[0m \u001b[32m148.6/148.6 kB\u001b[0m \u001b[31m7.6 MB/s\u001b[0m eta \u001b[36m0:00:00\u001b[0m\n",
            "\u001b[?25hRequirement already satisfied: packaging in /usr/local/lib/python3.10/dist-packages (from autokeras) (23.1)\n",
            "Requirement already satisfied: tensorflow>=2.8.0 in /usr/local/lib/python3.10/dist-packages (from autokeras) (2.12.0)\n",
            "Collecting keras-tuner>=1.1.0 (from autokeras)\n",
            "  Downloading keras_tuner-1.3.5-py3-none-any.whl (176 kB)\n",
            "\u001b[2K     \u001b[90m━━━━━━━━━━━━━━━━━━━━━━━━━━━━━━━━━━━━━━\u001b[0m \u001b[32m176.1/176.1 kB\u001b[0m \u001b[31m21.6 MB/s\u001b[0m eta \u001b[36m0:00:00\u001b[0m\n",
            "\u001b[?25hCollecting keras-nlp>=0.4.0 (from autokeras)\n",
            "  Downloading keras_nlp-0.5.2-py3-none-any.whl (527 kB)\n",
            "\u001b[2K     \u001b[90m━━━━━━━━━━━━━━━━━━━━━━━━━━━━━━━━━━━━━━\u001b[0m \u001b[32m527.7/527.7 kB\u001b[0m \u001b[31m46.6 MB/s\u001b[0m eta \u001b[36m0:00:00\u001b[0m\n",
            "\u001b[?25hRequirement already satisfied: pandas in /usr/local/lib/python3.10/dist-packages (from autokeras) (1.5.3)\n",
            "Requirement already satisfied: absl-py in /usr/local/lib/python3.10/dist-packages (from keras-nlp>=0.4.0->autokeras) (1.4.0)\n",
            "Requirement already satisfied: numpy in /usr/local/lib/python3.10/dist-packages (from keras-nlp>=0.4.0->autokeras) (1.22.4)\n",
            "Collecting tensorflow-text (from keras-nlp>=0.4.0->autokeras)\n",
            "  Downloading tensorflow_text-2.12.1-cp310-cp310-manylinux_2_17_x86_64.manylinux2014_x86_64.whl (6.0 MB)\n",
            "\u001b[2K     \u001b[90m━━━━━━━━━━━━━━━━━━━━━━━━━━━━━━━━━━━━━━━━\u001b[0m \u001b[32m6.0/6.0 MB\u001b[0m \u001b[31m87.1 MB/s\u001b[0m eta \u001b[36m0:00:00\u001b[0m\n",
            "\u001b[?25hRequirement already satisfied: requests in /usr/local/lib/python3.10/dist-packages (from keras-tuner>=1.1.0->autokeras) (2.27.1)\n",
            "Collecting kt-legacy (from keras-tuner>=1.1.0->autokeras)\n",
            "  Downloading kt_legacy-1.0.5-py3-none-any.whl (9.6 kB)\n",
            "Requirement already satisfied: astunparse>=1.6.0 in /usr/local/lib/python3.10/dist-packages (from tensorflow>=2.8.0->autokeras) (1.6.3)\n",
            "Requirement already satisfied: flatbuffers>=2.0 in /usr/local/lib/python3.10/dist-packages (from tensorflow>=2.8.0->autokeras) (23.3.3)\n",
            "Requirement already satisfied: gast<=0.4.0,>=0.2.1 in /usr/local/lib/python3.10/dist-packages (from tensorflow>=2.8.0->autokeras) (0.4.0)\n",
            "Requirement already satisfied: google-pasta>=0.1.1 in /usr/local/lib/python3.10/dist-packages (from tensorflow>=2.8.0->autokeras) (0.2.0)\n",
            "Requirement already satisfied: grpcio<2.0,>=1.24.3 in /usr/local/lib/python3.10/dist-packages (from tensorflow>=2.8.0->autokeras) (1.54.0)\n",
            "Requirement already satisfied: h5py>=2.9.0 in /usr/local/lib/python3.10/dist-packages (from tensorflow>=2.8.0->autokeras) (3.8.0)\n",
            "Requirement already satisfied: jax>=0.3.15 in /usr/local/lib/python3.10/dist-packages (from tensorflow>=2.8.0->autokeras) (0.4.10)\n",
            "Requirement already satisfied: keras<2.13,>=2.12.0 in /usr/local/lib/python3.10/dist-packages (from tensorflow>=2.8.0->autokeras) (2.12.0)\n",
            "Requirement already satisfied: libclang>=13.0.0 in /usr/local/lib/python3.10/dist-packages (from tensorflow>=2.8.0->autokeras) (16.0.0)\n",
            "Requirement already satisfied: opt-einsum>=2.3.2 in /usr/local/lib/python3.10/dist-packages (from tensorflow>=2.8.0->autokeras) (3.3.0)\n",
            "Requirement already satisfied: protobuf!=4.21.0,!=4.21.1,!=4.21.2,!=4.21.3,!=4.21.4,!=4.21.5,<5.0.0dev,>=3.20.3 in /usr/local/lib/python3.10/dist-packages (from tensorflow>=2.8.0->autokeras) (3.20.3)\n",
            "Requirement already satisfied: setuptools in /usr/local/lib/python3.10/dist-packages (from tensorflow>=2.8.0->autokeras) (67.7.2)\n",
            "Requirement already satisfied: six>=1.12.0 in /usr/local/lib/python3.10/dist-packages (from tensorflow>=2.8.0->autokeras) (1.16.0)\n",
            "Requirement already satisfied: tensorboard<2.13,>=2.12 in /usr/local/lib/python3.10/dist-packages (from tensorflow>=2.8.0->autokeras) (2.12.2)\n",
            "Requirement already satisfied: tensorflow-estimator<2.13,>=2.12.0 in /usr/local/lib/python3.10/dist-packages (from tensorflow>=2.8.0->autokeras) (2.12.0)\n",
            "Requirement already satisfied: termcolor>=1.1.0 in /usr/local/lib/python3.10/dist-packages (from tensorflow>=2.8.0->autokeras) (2.3.0)\n",
            "Requirement already satisfied: typing-extensions>=3.6.6 in /usr/local/lib/python3.10/dist-packages (from tensorflow>=2.8.0->autokeras) (4.5.0)\n",
            "Requirement already satisfied: wrapt<1.15,>=1.11.0 in /usr/local/lib/python3.10/dist-packages (from tensorflow>=2.8.0->autokeras) (1.14.1)\n",
            "Requirement already satisfied: tensorflow-io-gcs-filesystem>=0.23.1 in /usr/local/lib/python3.10/dist-packages (from tensorflow>=2.8.0->autokeras) (0.32.0)\n",
            "Requirement already satisfied: python-dateutil>=2.8.1 in /usr/local/lib/python3.10/dist-packages (from pandas->autokeras) (2.8.2)\n",
            "Requirement already satisfied: pytz>=2020.1 in /usr/local/lib/python3.10/dist-packages (from pandas->autokeras) (2022.7.1)\n",
            "Requirement already satisfied: wheel<1.0,>=0.23.0 in /usr/local/lib/python3.10/dist-packages (from astunparse>=1.6.0->tensorflow>=2.8.0->autokeras) (0.40.0)\n",
            "Requirement already satisfied: ml-dtypes>=0.1.0 in /usr/local/lib/python3.10/dist-packages (from jax>=0.3.15->tensorflow>=2.8.0->autokeras) (0.1.0)\n",
            "Requirement already satisfied: scipy>=1.7 in /usr/local/lib/python3.10/dist-packages (from jax>=0.3.15->tensorflow>=2.8.0->autokeras) (1.10.1)\n",
            "Requirement already satisfied: google-auth<3,>=1.6.3 in /usr/local/lib/python3.10/dist-packages (from tensorboard<2.13,>=2.12->tensorflow>=2.8.0->autokeras) (2.17.3)\n",
            "Requirement already satisfied: google-auth-oauthlib<1.1,>=0.5 in /usr/local/lib/python3.10/dist-packages (from tensorboard<2.13,>=2.12->tensorflow>=2.8.0->autokeras) (1.0.0)\n",
            "Requirement already satisfied: markdown>=2.6.8 in /usr/local/lib/python3.10/dist-packages (from tensorboard<2.13,>=2.12->tensorflow>=2.8.0->autokeras) (3.4.3)\n",
            "Requirement already satisfied: tensorboard-data-server<0.8.0,>=0.7.0 in /usr/local/lib/python3.10/dist-packages (from tensorboard<2.13,>=2.12->tensorflow>=2.8.0->autokeras) (0.7.0)\n",
            "Requirement already satisfied: tensorboard-plugin-wit>=1.6.0 in /usr/local/lib/python3.10/dist-packages (from tensorboard<2.13,>=2.12->tensorflow>=2.8.0->autokeras) (1.8.1)\n",
            "Requirement already satisfied: werkzeug>=1.0.1 in /usr/local/lib/python3.10/dist-packages (from tensorboard<2.13,>=2.12->tensorflow>=2.8.0->autokeras) (2.3.0)\n",
            "Requirement already satisfied: urllib3<1.27,>=1.21.1 in /usr/local/lib/python3.10/dist-packages (from requests->keras-tuner>=1.1.0->autokeras) (1.26.15)\n",
            "Requirement already satisfied: certifi>=2017.4.17 in /usr/local/lib/python3.10/dist-packages (from requests->keras-tuner>=1.1.0->autokeras) (2022.12.7)\n",
            "Requirement already satisfied: charset-normalizer~=2.0.0 in /usr/local/lib/python3.10/dist-packages (from requests->keras-tuner>=1.1.0->autokeras) (2.0.12)\n",
            "Requirement already satisfied: idna<4,>=2.5 in /usr/local/lib/python3.10/dist-packages (from requests->keras-tuner>=1.1.0->autokeras) (3.4)\n",
            "Requirement already satisfied: tensorflow-hub>=0.8.0 in /usr/local/lib/python3.10/dist-packages (from tensorflow-text->keras-nlp>=0.4.0->autokeras) (0.13.0)\n",
            "Requirement already satisfied: cachetools<6.0,>=2.0.0 in /usr/local/lib/python3.10/dist-packages (from google-auth<3,>=1.6.3->tensorboard<2.13,>=2.12->tensorflow>=2.8.0->autokeras) (5.3.0)\n",
            "Requirement already satisfied: pyasn1-modules>=0.2.1 in /usr/local/lib/python3.10/dist-packages (from google-auth<3,>=1.6.3->tensorboard<2.13,>=2.12->tensorflow>=2.8.0->autokeras) (0.3.0)\n",
            "Requirement already satisfied: rsa<5,>=3.1.4 in /usr/local/lib/python3.10/dist-packages (from google-auth<3,>=1.6.3->tensorboard<2.13,>=2.12->tensorflow>=2.8.0->autokeras) (4.9)\n",
            "Requirement already satisfied: requests-oauthlib>=0.7.0 in /usr/local/lib/python3.10/dist-packages (from google-auth-oauthlib<1.1,>=0.5->tensorboard<2.13,>=2.12->tensorflow>=2.8.0->autokeras) (1.3.1)\n",
            "Requirement already satisfied: MarkupSafe>=2.1.1 in /usr/local/lib/python3.10/dist-packages (from werkzeug>=1.0.1->tensorboard<2.13,>=2.12->tensorflow>=2.8.0->autokeras) (2.1.2)\n",
            "Requirement already satisfied: pyasn1<0.6.0,>=0.4.6 in /usr/local/lib/python3.10/dist-packages (from pyasn1-modules>=0.2.1->google-auth<3,>=1.6.3->tensorboard<2.13,>=2.12->tensorflow>=2.8.0->autokeras) (0.5.0)\n",
            "Requirement already satisfied: oauthlib>=3.0.0 in /usr/local/lib/python3.10/dist-packages (from requests-oauthlib>=0.7.0->google-auth-oauthlib<1.1,>=0.5->tensorboard<2.13,>=2.12->tensorflow>=2.8.0->autokeras) (3.2.2)\n",
            "Installing collected packages: kt-legacy, keras-tuner, tensorflow-text, keras-nlp, autokeras\n",
            "Successfully installed autokeras-1.1.0 keras-nlp-0.5.2 keras-tuner-1.3.5 kt-legacy-1.0.5 tensorflow-text-2.12.1\n",
            "Looking in indexes: https://pypi.org/simple, https://us-python.pkg.dev/colab-wheels/public/simple/\n",
            "Collecting Augmentor\n",
            "  Downloading Augmentor-0.2.12-py2.py3-none-any.whl (38 kB)\n",
            "Requirement already satisfied: Pillow>=5.2.0 in /usr/local/lib/python3.10/dist-packages (from Augmentor) (8.4.0)\n",
            "Requirement already satisfied: tqdm>=4.9.0 in /usr/local/lib/python3.10/dist-packages (from Augmentor) (4.65.0)\n",
            "Requirement already satisfied: numpy>=1.11.0 in /usr/local/lib/python3.10/dist-packages (from Augmentor) (1.22.4)\n",
            "Installing collected packages: Augmentor\n",
            "Successfully installed Augmentor-0.2.12\n"
          ]
        }
      ],
      "source": [
        "import gdown\n",
        "\n",
        "import os\n",
        "\n",
        "! pip install autokeras\n",
        "import autokeras as ak\n",
        "\n",
        "! pip install Augmentor\n",
        "import Augmentor\n",
        "\n",
        "import zipfile\n",
        "\n",
        "import numpy as np\n",
        "\n",
        "import tensorflow as tf\n",
        "\n",
        "from tensorflow.keras.models import Sequential, load_model\n",
        "\n",
        "from tensorflow.keras.layers import (Dense, Conv2D, MaxPooling2D, Flatten, \n",
        "                                     Dropout, BatchNormalization, Rescaling,\n",
        "                                     GlobalAveragePooling2D, RandomFlip, Input,\n",
        "                                     RandomRotation, RandomZoom, RandomContrast)\n",
        "\n",
        "from tensorflow.keras.applications import VGG19, ResNet50, Xception\n",
        "\n",
        "# from tensorflow.keras.applications.resnet50 import ResNet50, preprocess_input\n",
        "\n",
        "from tensorflow.keras.utils import to_categorical\n",
        "\n",
        "from tensorflow.keras.preprocessing.image import (ImageDataGenerator, \n",
        "                                                 DirectoryIterator)\n",
        "\n",
        "from tensorflow.keras.optimizers import Adam\n",
        "\n",
        "from tensorflow.keras.callbacks import ModelCheckpoint\n",
        "\n",
        "from sklearn.model_selection import train_test_split\n",
        "\n",
        "from sklearn.metrics import confusion_matrix, ConfusionMatrixDisplay\n",
        "\n",
        "from sklearn.preprocessing import LabelEncoder\n",
        "\n",
        "from sklearn.preprocessing import OneHotEncoder\n",
        "\n",
        "from PIL import Image, ImageEnhance\n",
        "\n",
        "import matplotlib.pyplot as plt\n",
        "\n",
        "%matplotlib inline"
      ]
    },
    {
      "cell_type": "markdown",
      "source": [
        "# **Подготовка датасета**"
      ],
      "metadata": {
        "id": "pPRqWB_Sbn8Q"
      }
    },
    {
      "cell_type": "markdown",
      "source": [
        "## **Задание гиперпараметров**"
      ],
      "metadata": {
        "id": "w-WCKvh-bPDH"
      }
    },
    {
      "cell_type": "code",
      "source": [
        "PATH          = '/content/drive/MyDrive/iris_ds'\n",
        "PATH_AUG      = '/content/drive/MyDrive/Iris'\n",
        "TRAIN_VAL_PATH_AUG = '/content/drive/MyDrive/Iris_train_val_aug'\n",
        "TRAIN_VAL_PATH = '/content/drive/MyDrive/iris_ds_train_val'\n",
        "TEST_PATH = '/content/drive/MyDrive/iris_ds_test'\n",
        "\n",
        "VAL_SPLIT           = 0.2\n",
        "\n",
        "IMG_WIDTH_1         = 160\n",
        "IMG_HEIGHT_1        = 120\n",
        "IMG_WIDTH_2         = 80\n",
        "IMG_HEIGHT_2        = 60\n",
        "IMG_CHANNELS        = 3\n",
        "\n",
        "ROTATION_RANGE      = 10\n",
        "WIDTH_SHIFT_RANGE   = 0.1\n",
        "HEIGHT_SHIFT_RANGE  = 0.1\n",
        "ZOOM_RANGE          = 0.1\n",
        "BRIGHTNESS_RANGE    = (0.5, 1.3)\n",
        "HORIZONTAL_FLIP     = False\n",
        "\n",
        "EPOCHS              = 20\n",
        "BATCH_SIZE          = 24\n",
        "OPTIMIZER_LEGACY    = tf.keras.optimizers.legacy.Adam(0.0001)\n",
        "OPTIMIZER           = tf.keras.optimizers.Adam(0.0001)"
      ],
      "metadata": {
        "id": "gSCENm0FbPQa"
      },
      "execution_count": 2,
      "outputs": []
    },
    {
      "cell_type": "markdown",
      "source": [
        "## **Загрузка датасета**"
      ],
      "metadata": {
        "id": "1Nuho1BTbdmf"
      }
    },
    {
      "cell_type": "code",
      "source": [
        "from google.colab import drive\n",
        "drive.mount('/content/drive')"
      ],
      "metadata": {
        "colab": {
          "base_uri": "https://localhost:8080/"
        },
        "id": "PZYmJsQbbdzF",
        "outputId": "2e642ada-9995-495d-9688-b2679c988fa8"
      },
      "execution_count": 3,
      "outputs": [
        {
          "output_type": "stream",
          "name": "stdout",
          "text": [
            "Mounted at /content/drive\n"
          ]
        }
      ]
    },
    {
      "cell_type": "code",
      "source": [
        "import os\n",
        "import shutil\n",
        "\n",
        "# Создание целевых папок, если они не существуют\n",
        "os.makedirs(TEST_PATH, exist_ok=True)\n",
        "os.makedirs(TRAIN_VAL_PATH, exist_ok=True)\n",
        "\n",
        "# Получение списка подпапок в папке PATH\n",
        "subfolders = [f for f in os.listdir(PATH) if os.path.isdir(os.path.join(PATH, f))]\n",
        "\n",
        "# Обработка каждой подпапки\n",
        "for subfolder in subfolders:\n",
        "    # Путь к исходной папке клиента\n",
        "    client_folder = os.path.join(PATH, subfolder)\n",
        "    \n",
        "    # Путь к папке клиента в '/content/drive/MyDrive/iris_ds_test'\n",
        "    target_client_folder_1 = os.path.join(TEST_PATH, subfolder)\n",
        "    os.makedirs(target_client_folder_1, exist_ok=True)\n",
        "    \n",
        "    # Путь к папке клиента в '/content/drive/MyDrive/iris_ds_train_val'\n",
        "    target_client_folder_2 = os.path.join(TRAIN_VAL_PATH, subfolder)\n",
        "    os.makedirs(target_client_folder_2, exist_ok=True)\n",
        "    \n",
        "    # Получение списка файлов в папке клиента\n",
        "    files = os.listdir(client_folder)\n",
        "    \n",
        "    # Копирование первого файла в '/content/drive/MyDrive/iris_ds_test'\n",
        "    first_file = files[0]\n",
        "    source_path = os.path.join(client_folder, first_file)\n",
        "    target_path = os.path.join(target_client_folder_1, first_file)\n",
        "    shutil.copyfile(source_path, target_path)\n",
        "    \n",
        "    # Копирование оставшихся пяти файлов в '/content/drive/MyDrive/iris_ds_train_val'\n",
        "    remaining_files = files[1:]\n",
        "    for file in remaining_files:\n",
        "        source_path = os.path.join(client_folder, file)\n",
        "        target_path = os.path.join(target_client_folder_2, file)\n",
        "        shutil.copyfile(source_path, target_path)\n"
      ],
      "metadata": {
        "id": "GB0EwKbepWQe"
      },
      "execution_count": null,
      "outputs": []
    },
    {
      "cell_type": "markdown",
      "source": [
        "## **Аугментация**"
      ],
      "metadata": {
        "id": "Uxl5sULeb-lO"
      }
    },
    {
      "cell_type": "code",
      "source": [
        "for folder in os.listdir(TRAIN_VAL_PATH):\n",
        "    if os.path.isdir(os.path.join(TRAIN_VAL_PATH, folder)):\n",
        "        # Создаем генератор аугментации для каждой папки\n",
        "        p = Augmentor.Pipeline(os.path.join(TRAIN_VAL_PATH, folder), output_directory=os.path.join(f'/content/drive/MyDrive/Iris_train_val_aug/{folder}'))\n",
        "        # Добавляем операции аугментации\n",
        "        # Вращение изображения\n",
        "        p.rotate(probability=0.2, max_left_rotation=10, max_right_rotation=10)\n",
        "        # увеличение\n",
        "        #p.zoom(probability=0.2, min_factor=1.1, max_factor=1.2)\n",
        "        # Обрезание изображения\n",
        "        p.crop_random(probability=0.1, percentage_area=0.95)\n",
        "        # Изменение яркости\n",
        "        p.random_brightness(probability=0.5, min_factor=0.7, max_factor=1.3)\n",
        "        # Изменение контрасности\n",
        "        p.random_contrast(probability=0.5, min_factor=0.7, max_factor=1.3)\n",
        "        # Применяем аугментацию\n",
        "        p.sample(50)\n",
        "print('Аугментация завершена')"
      ],
      "metadata": {
        "colab": {
          "base_uri": "https://localhost:8080/"
        },
        "id": "G08WRtGbb-1R",
        "outputId": "eef95829-8aca-4108-b1ee-6ffb9da09a36"
      },
      "execution_count": 4,
      "outputs": [
        {
          "output_type": "stream",
          "name": "stdout",
          "text": [
            "Initialised with 5 image(s) found.\n",
            "Output directory set to /content/drive/MyDrive/Iris_train_val_aug/client_12."
          ]
        },
        {
          "output_type": "stream",
          "name": "stderr",
          "text": [
            "Processing <PIL.Image.Image image mode=RGB size=768x576 at 0x7F28A8A93A30>: 100%|██████████| 50/50 [00:08<00:00,  5.88 Samples/s]\n"
          ]
        },
        {
          "output_type": "stream",
          "name": "stdout",
          "text": [
            "Initialised with 5 image(s) found.\n",
            "Output directory set to /content/drive/MyDrive/Iris_train_val_aug/client_15."
          ]
        },
        {
          "output_type": "stream",
          "name": "stderr",
          "text": [
            "Processing <PIL.Image.Image image mode=RGB size=768x576 at 0x7F28B39DB880>: 100%|██████████| 50/50 [00:06<00:00,  7.48 Samples/s]\n"
          ]
        },
        {
          "output_type": "stream",
          "name": "stdout",
          "text": [
            "Initialised with 5 image(s) found.\n",
            "Output directory set to /content/drive/MyDrive/Iris_train_val_aug/client_23."
          ]
        },
        {
          "output_type": "stream",
          "name": "stderr",
          "text": [
            "Processing <PIL.Image.Image image mode=RGB size=768x576 at 0x7F28A8A92440>: 100%|██████████| 50/50 [00:08<00:00,  6.13 Samples/s]\n"
          ]
        },
        {
          "output_type": "stream",
          "name": "stdout",
          "text": [
            "Initialised with 5 image(s) found.\n",
            "Output directory set to /content/drive/MyDrive/Iris_train_val_aug/client_13."
          ]
        },
        {
          "output_type": "stream",
          "name": "stderr",
          "text": [
            "Processing <PIL.Image.Image image mode=RGB size=768x576 at 0x7F294267AD70>: 100%|██████████| 50/50 [00:09<00:00,  5.36 Samples/s]\n"
          ]
        },
        {
          "output_type": "stream",
          "name": "stdout",
          "text": [
            "Initialised with 5 image(s) found.\n",
            "Output directory set to /content/drive/MyDrive/Iris_train_val_aug/client_40."
          ]
        },
        {
          "output_type": "stream",
          "name": "stderr",
          "text": [
            "Processing <PIL.Image.Image image mode=RGB size=768x576 at 0x7F28A8AA71F0>: 100%|██████████| 50/50 [00:09<00:00,  5.51 Samples/s]\n"
          ]
        },
        {
          "output_type": "stream",
          "name": "stdout",
          "text": [
            "Initialised with 5 image(s) found.\n",
            "Output directory set to /content/drive/MyDrive/Iris_train_val_aug/client_49."
          ]
        },
        {
          "output_type": "stream",
          "name": "stderr",
          "text": [
            "Processing <PIL.Image.Image image mode=RGB size=768x576 at 0x7F28A8A93B20>: 100%|██████████| 50/50 [00:06<00:00,  7.16 Samples/s]\n"
          ]
        },
        {
          "output_type": "stream",
          "name": "stdout",
          "text": [
            "Initialised with 5 image(s) found.\n",
            "Output directory set to /content/drive/MyDrive/Iris_train_val_aug/client_25."
          ]
        },
        {
          "output_type": "stream",
          "name": "stderr",
          "text": [
            "Processing <PIL.Image.Image image mode=RGB size=768x576 at 0x7F28A8A91DB0>: 100%|██████████| 50/50 [00:07<00:00,  6.91 Samples/s]\n"
          ]
        },
        {
          "output_type": "stream",
          "name": "stdout",
          "text": [
            "Initialised with 5 image(s) found.\n",
            "Output directory set to /content/drive/MyDrive/Iris_train_val_aug/client_22."
          ]
        },
        {
          "output_type": "stream",
          "name": "stderr",
          "text": [
            "Processing <PIL.Image.Image image mode=RGB size=768x576 at 0x7F28A8AA6470>: 100%|██████████| 50/50 [00:09<00:00,  5.54 Samples/s]\n"
          ]
        },
        {
          "output_type": "stream",
          "name": "stdout",
          "text": [
            "Initialised with 5 image(s) found.\n",
            "Output directory set to /content/drive/MyDrive/Iris_train_val_aug/client_47."
          ]
        },
        {
          "output_type": "stream",
          "name": "stderr",
          "text": [
            "Processing <PIL.Image.Image image mode=RGB size=768x576 at 0x7F28A8A93F70>: 100%|██████████| 50/50 [00:07<00:00,  6.86 Samples/s]\n"
          ]
        },
        {
          "output_type": "stream",
          "name": "stdout",
          "text": [
            "Initialised with 5 image(s) found.\n",
            "Output directory set to /content/drive/MyDrive/Iris_train_val_aug/client_14."
          ]
        },
        {
          "output_type": "stream",
          "name": "stderr",
          "text": [
            "Processing <PIL.Image.Image image mode=RGB size=768x576 at 0x7F28B3993970>: 100%|██████████| 50/50 [00:07<00:00,  6.62 Samples/s]\n"
          ]
        },
        {
          "output_type": "stream",
          "name": "stdout",
          "text": [
            "Initialised with 5 image(s) found.\n",
            "Output directory set to /content/drive/MyDrive/Iris_train_val_aug/client_48."
          ]
        },
        {
          "output_type": "stream",
          "name": "stderr",
          "text": [
            "Processing <PIL.Image.Image image mode=RGB size=729x547 at 0x7F28A8AE30D0>: 100%|██████████| 50/50 [00:08<00:00,  5.94 Samples/s]\n"
          ]
        },
        {
          "output_type": "stream",
          "name": "stdout",
          "text": [
            "Initialised with 5 image(s) found.\n",
            "Output directory set to /content/drive/MyDrive/Iris_train_val_aug/client_64."
          ]
        },
        {
          "output_type": "stream",
          "name": "stderr",
          "text": [
            "Processing <PIL.Image.Image image mode=RGB size=768x576 at 0x7F28A8AE2830>: 100%|██████████| 50/50 [00:09<00:00,  5.19 Samples/s]\n"
          ]
        },
        {
          "output_type": "stream",
          "name": "stdout",
          "text": [
            "Initialised with 5 image(s) found.\n",
            "Output directory set to /content/drive/MyDrive/Iris_train_val_aug/client_8."
          ]
        },
        {
          "output_type": "stream",
          "name": "stderr",
          "text": [
            "Processing <PIL.Image.Image image mode=RGB size=768x576 at 0x7F28A8A91CF0>: 100%|██████████| 50/50 [00:08<00:00,  5.89 Samples/s]\n"
          ]
        },
        {
          "output_type": "stream",
          "name": "stdout",
          "text": [
            "Initialised with 5 image(s) found.\n",
            "Output directory set to /content/drive/MyDrive/Iris_train_val_aug/client_6."
          ]
        },
        {
          "output_type": "stream",
          "name": "stderr",
          "text": [
            "Processing <PIL.PngImagePlugin.PngImageFile image mode=RGB size=768x576 at 0x7F28A8AE3C70>: 100%|██████████| 50/50 [00:06<00:00,  7.37 Samples/s]\n"
          ]
        },
        {
          "output_type": "stream",
          "name": "stdout",
          "text": [
            "Initialised with 5 image(s) found.\n",
            "Output directory set to /content/drive/MyDrive/Iris_train_val_aug/client_7."
          ]
        },
        {
          "output_type": "stream",
          "name": "stderr",
          "text": [
            "Processing <PIL.Image.Image image mode=RGB size=729x547 at 0x7F28A8A92D10>: 100%|██████████| 50/50 [00:08<00:00,  5.98 Samples/s]\n"
          ]
        },
        {
          "output_type": "stream",
          "name": "stdout",
          "text": [
            "Initialised with 5 image(s) found.\n",
            "Output directory set to /content/drive/MyDrive/Iris_train_val_aug/client_9."
          ]
        },
        {
          "output_type": "stream",
          "name": "stderr",
          "text": [
            "Processing <PIL.PngImagePlugin.PngImageFile image mode=RGB size=768x576 at 0x7F28A8AE3BE0>: 100%|██████████| 50/50 [00:08<00:00,  5.68 Samples/s]\n"
          ]
        },
        {
          "output_type": "stream",
          "name": "stdout",
          "text": [
            "Initialised with 5 image(s) found.\n",
            "Output directory set to /content/drive/MyDrive/Iris_train_val_aug/client_46."
          ]
        },
        {
          "output_type": "stream",
          "name": "stderr",
          "text": [
            "Processing <PIL.Image.Image image mode=RGB size=768x576 at 0x7F28A8AE2FE0>: 100%|██████████| 50/50 [00:07<00:00,  6.44 Samples/s]\n"
          ]
        },
        {
          "output_type": "stream",
          "name": "stdout",
          "text": [
            "Initialised with 5 image(s) found.\n",
            "Output directory set to /content/drive/MyDrive/Iris_train_val_aug/client_1."
          ]
        },
        {
          "output_type": "stream",
          "name": "stderr",
          "text": [
            "Processing <PIL.Image.Image image mode=RGB size=768x576 at 0x7F28A8AFBAF0>: 100%|██████████| 50/50 [00:07<00:00,  6.77 Samples/s]\n"
          ]
        },
        {
          "output_type": "stream",
          "name": "stdout",
          "text": [
            "Initialised with 5 image(s) found.\n",
            "Output directory set to /content/drive/MyDrive/Iris_train_val_aug/client_24."
          ]
        },
        {
          "output_type": "stream",
          "name": "stderr",
          "text": [
            "Processing <PIL.Image.Image image mode=RGB size=768x576 at 0x7F28A8AE3BE0>: 100%|██████████| 50/50 [00:07<00:00,  6.73 Samples/s]\n"
          ]
        },
        {
          "output_type": "stream",
          "name": "stdout",
          "text": [
            "Initialised with 5 image(s) found.\n",
            "Output directory set to /content/drive/MyDrive/Iris_train_val_aug/client_41."
          ]
        },
        {
          "output_type": "stream",
          "name": "stderr",
          "text": [
            "Processing <PIL.Image.Image image mode=RGB size=768x576 at 0x7F28A8AF9450>: 100%|██████████| 50/50 [00:09<00:00,  5.27 Samples/s]\n"
          ]
        },
        {
          "output_type": "stream",
          "name": "stdout",
          "text": [
            "Initialised with 5 image(s) found.\n",
            "Output directory set to /content/drive/MyDrive/Iris_train_val_aug/client_30."
          ]
        },
        {
          "output_type": "stream",
          "name": "stderr",
          "text": [
            "Processing <PIL.Image.Image image mode=RGB size=768x576 at 0x7F28A8AFBD30>: 100%|██████████| 50/50 [00:09<00:00,  5.34 Samples/s]\n"
          ]
        },
        {
          "output_type": "stream",
          "name": "stdout",
          "text": [
            "Initialised with 5 image(s) found.\n",
            "Output directory set to /content/drive/MyDrive/Iris_train_val_aug/client_37."
          ]
        },
        {
          "output_type": "stream",
          "name": "stderr",
          "text": [
            "Processing <PIL.Image.Image image mode=RGB size=768x576 at 0x7F28A8AA7A60>: 100%|██████████| 50/50 [00:09<00:00,  5.48 Samples/s]\n"
          ]
        },
        {
          "output_type": "stream",
          "name": "stdout",
          "text": [
            "Initialised with 5 image(s) found.\n",
            "Output directory set to /content/drive/MyDrive/Iris_train_val_aug/client_63."
          ]
        },
        {
          "output_type": "stream",
          "name": "stderr",
          "text": [
            "Processing <PIL.Image.Image image mode=RGB size=768x576 at 0x7F28B39DB550>: 100%|██████████| 50/50 [00:06<00:00,  7.43 Samples/s]\n"
          ]
        },
        {
          "output_type": "stream",
          "name": "stdout",
          "text": [
            "Initialised with 5 image(s) found.\n",
            "Output directory set to /content/drive/MyDrive/Iris_train_val_aug/client_55."
          ]
        },
        {
          "output_type": "stream",
          "name": "stderr",
          "text": [
            "Processing <PIL.Image.Image image mode=RGB size=768x576 at 0x7F28A8B08A90>: 100%|██████████| 50/50 [00:08<00:00,  6.19 Samples/s]\n"
          ]
        },
        {
          "output_type": "stream",
          "name": "stdout",
          "text": [
            "Initialised with 5 image(s) found.\n",
            "Output directory set to /content/drive/MyDrive/Iris_train_val_aug/client_39."
          ]
        },
        {
          "output_type": "stream",
          "name": "stderr",
          "text": [
            "Processing <PIL.Image.Image image mode=RGB size=768x576 at 0x7F28A8AE3040>: 100%|██████████| 50/50 [00:08<00:00,  5.60 Samples/s]\n"
          ]
        },
        {
          "output_type": "stream",
          "name": "stdout",
          "text": [
            "Initialised with 5 image(s) found.\n",
            "Output directory set to /content/drive/MyDrive/Iris_train_val_aug/client_62."
          ]
        },
        {
          "output_type": "stream",
          "name": "stderr",
          "text": [
            "Processing <PIL.Image.Image image mode=RGB size=768x576 at 0x7F28A8AF9B70>: 100%|██████████| 50/50 [00:10<00:00,  4.77 Samples/s]\n"
          ]
        },
        {
          "output_type": "stream",
          "name": "stdout",
          "text": [
            "Initialised with 5 image(s) found.\n",
            "Output directory set to /content/drive/MyDrive/Iris_train_val_aug/client_31."
          ]
        },
        {
          "output_type": "stream",
          "name": "stderr",
          "text": [
            "Processing <PIL.Image.Image image mode=RGB size=768x576 at 0x7F28A8B08790>: 100%|██████████| 50/50 [00:07<00:00,  6.39 Samples/s]\n"
          ]
        },
        {
          "output_type": "stream",
          "name": "stdout",
          "text": [
            "Initialised with 5 image(s) found.\n",
            "Output directory set to /content/drive/MyDrive/Iris_train_val_aug/client_54."
          ]
        },
        {
          "output_type": "stream",
          "name": "stderr",
          "text": [
            "Processing <PIL.PngImagePlugin.PngImageFile image mode=RGB size=768x576 at 0x7F28A8B2AAD0>: 100%|██████████| 50/50 [00:07<00:00,  6.83 Samples/s]\n"
          ]
        },
        {
          "output_type": "stream",
          "name": "stdout",
          "text": [
            "Initialised with 5 image(s) found.\n",
            "Output directory set to /content/drive/MyDrive/Iris_train_val_aug/client_53."
          ]
        },
        {
          "output_type": "stream",
          "name": "stderr",
          "text": [
            "Processing <PIL.Image.Image image mode=RGB size=729x547 at 0x7F28A8B29C30>: 100%|██████████| 50/50 [00:09<00:00,  5.17 Samples/s]\n"
          ]
        },
        {
          "output_type": "stream",
          "name": "stdout",
          "text": [
            "Initialised with 5 image(s) found.\n",
            "Output directory set to /content/drive/MyDrive/Iris_train_val_aug/client_52."
          ]
        },
        {
          "output_type": "stream",
          "name": "stderr",
          "text": [
            "Processing <PIL.PngImagePlugin.PngImageFile image mode=RGB size=768x576 at 0x7F28A8B2BB80>: 100%|██████████| 50/50 [00:09<00:00,  5.23 Samples/s]\n"
          ]
        },
        {
          "output_type": "stream",
          "name": "stdout",
          "text": [
            "Initialised with 5 image(s) found.\n",
            "Output directory set to /content/drive/MyDrive/Iris_train_val_aug/client_26."
          ]
        },
        {
          "output_type": "stream",
          "name": "stderr",
          "text": [
            "Processing <PIL.Image.Image image mode=RGB size=729x547 at 0x7F28A8B0A470>: 100%|██████████| 50/50 [00:07<00:00,  6.27 Samples/s]\n"
          ]
        },
        {
          "output_type": "stream",
          "name": "stdout",
          "text": [
            "Initialised with 5 image(s) found.\n",
            "Output directory set to /content/drive/MyDrive/Iris_train_val_aug/client_28."
          ]
        },
        {
          "output_type": "stream",
          "name": "stderr",
          "text": [
            "Processing <PIL.Image.Image image mode=RGB size=768x576 at 0x7F28A8AE0250>: 100%|██████████| 50/50 [00:07<00:00,  6.88 Samples/s]\n"
          ]
        },
        {
          "output_type": "stream",
          "name": "stdout",
          "text": [
            "Initialised with 5 image(s) found.\n",
            "Output directory set to /content/drive/MyDrive/Iris_train_val_aug/client_17."
          ]
        },
        {
          "output_type": "stream",
          "name": "stderr",
          "text": [
            "Processing <PIL.Image.Image image mode=RGB size=768x576 at 0x7F28A8B2AFB0>: 100%|██████████| 50/50 [00:08<00:00,  5.64 Samples/s]\n"
          ]
        },
        {
          "output_type": "stream",
          "name": "stdout",
          "text": [
            "Initialised with 5 image(s) found.\n",
            "Output directory set to /content/drive/MyDrive/Iris_train_val_aug/client_10."
          ]
        },
        {
          "output_type": "stream",
          "name": "stderr",
          "text": [
            "Processing <PIL.Image.Image image mode=RGB size=729x547 at 0x7F28A8B0A470>: 100%|██████████| 50/50 [00:08<00:00,  5.60 Samples/s]\n"
          ]
        },
        {
          "output_type": "stream",
          "name": "stdout",
          "text": [
            "Initialised with 5 image(s) found.\n",
            "Output directory set to /content/drive/MyDrive/Iris_train_val_aug/client_38."
          ]
        },
        {
          "output_type": "stream",
          "name": "stderr",
          "text": [
            "Processing <PIL.Image.Image image mode=RGB size=768x576 at 0x7F28A8B34550>: 100%|██████████| 50/50 [00:07<00:00,  6.97 Samples/s]\n"
          ]
        },
        {
          "output_type": "stream",
          "name": "stdout",
          "text": [
            "Initialised with 5 image(s) found.\n",
            "Output directory set to /content/drive/MyDrive/Iris_train_val_aug/client_43."
          ]
        },
        {
          "output_type": "stream",
          "name": "stderr",
          "text": [
            "Processing <PIL.PngImagePlugin.PngImageFile image mode=RGB size=768x576 at 0x7F28A8B29420>: 100%|██████████| 50/50 [00:07<00:00,  6.82 Samples/s]\n"
          ]
        },
        {
          "output_type": "stream",
          "name": "stdout",
          "text": [
            "Initialised with 5 image(s) found.\n",
            "Output directory set to /content/drive/MyDrive/Iris_train_val_aug/client_19."
          ]
        },
        {
          "output_type": "stream",
          "name": "stderr",
          "text": [
            "Processing <PIL.Image.Image image mode=RGB size=729x547 at 0x7F28A8B345E0>: 100%|██████████| 50/50 [00:09<00:00,  5.46 Samples/s]\n"
          ]
        },
        {
          "output_type": "stream",
          "name": "stdout",
          "text": [
            "Initialised with 5 image(s) found.\n",
            "Output directory set to /content/drive/MyDrive/Iris_train_val_aug/client_36."
          ]
        },
        {
          "output_type": "stream",
          "name": "stderr",
          "text": [
            "Processing <PIL.Image.Image image mode=RGB size=768x576 at 0x7F28B3993970>: 100%|██████████| 50/50 [00:08<00:00,  5.72 Samples/s]\n"
          ]
        },
        {
          "output_type": "stream",
          "name": "stdout",
          "text": [
            "Initialised with 5 image(s) found.\n",
            "Output directory set to /content/drive/MyDrive/Iris_train_val_aug/client_44."
          ]
        },
        {
          "output_type": "stream",
          "name": "stderr",
          "text": [
            "Processing <PIL.Image.Image image mode=RGB size=768x576 at 0x7F28A8B28AC0>: 100%|██████████| 50/50 [00:07<00:00,  6.83 Samples/s]\n"
          ]
        },
        {
          "output_type": "stream",
          "name": "stdout",
          "text": [
            "Initialised with 5 image(s) found.\n",
            "Output directory set to /content/drive/MyDrive/Iris_train_val_aug/client_21."
          ]
        },
        {
          "output_type": "stream",
          "name": "stderr",
          "text": [
            "Processing <PIL.Image.Image image mode=RGB size=768x576 at 0x7F28A8AE1240>: 100%|██████████| 50/50 [00:07<00:00,  6.59 Samples/s]\n"
          ]
        },
        {
          "output_type": "stream",
          "name": "stdout",
          "text": [
            "Initialised with 5 image(s) found.\n",
            "Output directory set to /content/drive/MyDrive/Iris_train_val_aug/client_42."
          ]
        },
        {
          "output_type": "stream",
          "name": "stderr",
          "text": [
            "Processing <PIL.Image.Image image mode=RGB size=768x576 at 0x7F294267AD70>: 100%|██████████| 50/50 [00:09<00:00,  5.56 Samples/s]\n"
          ]
        },
        {
          "output_type": "stream",
          "name": "stdout",
          "text": [
            "Initialised with 5 image(s) found.\n",
            "Output directory set to /content/drive/MyDrive/Iris_train_val_aug/client_4."
          ]
        },
        {
          "output_type": "stream",
          "name": "stderr",
          "text": [
            "Processing <PIL.PngImagePlugin.PngImageFile image mode=RGB size=768x576 at 0x7F28A8B4DD20>: 100%|██████████| 50/50 [00:09<00:00,  5.27 Samples/s]\n"
          ]
        },
        {
          "output_type": "stream",
          "name": "stdout",
          "text": [
            "Initialised with 5 image(s) found.\n",
            "Output directory set to /content/drive/MyDrive/Iris_train_val_aug/client_45."
          ]
        },
        {
          "output_type": "stream",
          "name": "stderr",
          "text": [
            "Processing <PIL.PngImagePlugin.PngImageFile image mode=RGB size=768x576 at 0x7F28A8B4C9D0>: 100%|██████████| 50/50 [00:07<00:00,  6.89 Samples/s]\n"
          ]
        },
        {
          "output_type": "stream",
          "name": "stdout",
          "text": [
            "Initialised with 5 image(s) found.\n",
            "Output directory set to /content/drive/MyDrive/Iris_train_val_aug/client_20."
          ]
        },
        {
          "output_type": "stream",
          "name": "stderr",
          "text": [
            "Processing <PIL.Image.Image image mode=RGB size=768x576 at 0x7F28A8AFBD00>: 100%|██████████| 50/50 [00:07<00:00,  6.92 Samples/s]\n"
          ]
        },
        {
          "output_type": "stream",
          "name": "stdout",
          "text": [
            "Initialised with 5 image(s) found.\n",
            "Output directory set to /content/drive/MyDrive/Iris_train_val_aug/client_3."
          ]
        },
        {
          "output_type": "stream",
          "name": "stderr",
          "text": [
            "Processing <PIL.Image.Image image mode=RGB size=729x547 at 0x7F28A8B4CCA0>: 100%|██████████| 50/50 [00:08<00:00,  6.21 Samples/s]\n"
          ]
        },
        {
          "output_type": "stream",
          "name": "stdout",
          "text": [
            "Initialised with 5 image(s) found.\n",
            "Output directory set to /content/drive/MyDrive/Iris_train_val_aug/client_16."
          ]
        },
        {
          "output_type": "stream",
          "name": "stderr",
          "text": [
            "Processing <PIL.Image.Image image mode=RGB size=768x576 at 0x7F28A8AFAA10>: 100%|██████████| 50/50 [00:09<00:00,  5.45 Samples/s]\n"
          ]
        },
        {
          "output_type": "stream",
          "name": "stdout",
          "text": [
            "Initialised with 5 image(s) found.\n",
            "Output directory set to /content/drive/MyDrive/Iris_train_val_aug/client_29."
          ]
        },
        {
          "output_type": "stream",
          "name": "stderr",
          "text": [
            "Processing <PIL.Image.Image image mode=RGB size=768x576 at 0x7F28A896AD10>: 100%|██████████| 50/50 [00:06<00:00,  7.63 Samples/s]\n"
          ]
        },
        {
          "output_type": "stream",
          "name": "stdout",
          "text": [
            "Initialised with 5 image(s) found.\n",
            "Output directory set to /content/drive/MyDrive/Iris_train_val_aug/client_11."
          ]
        },
        {
          "output_type": "stream",
          "name": "stderr",
          "text": [
            "Processing <PIL.Image.Image image mode=RGB size=768x576 at 0x7F28A8AA6470>: 100%|██████████| 50/50 [00:08<00:00,  6.02 Samples/s]\n"
          ]
        },
        {
          "output_type": "stream",
          "name": "stdout",
          "text": [
            "Initialised with 5 image(s) found.\n",
            "Output directory set to /content/drive/MyDrive/Iris_train_val_aug/client_27."
          ]
        },
        {
          "output_type": "stream",
          "name": "stderr",
          "text": [
            "Processing <PIL.Image.Image image mode=RGB size=729x547 at 0x7F28A896B940>: 100%|██████████| 50/50 [00:08<00:00,  6.03 Samples/s]\n"
          ]
        },
        {
          "output_type": "stream",
          "name": "stdout",
          "text": [
            "Initialised with 5 image(s) found.\n",
            "Output directory set to /content/drive/MyDrive/Iris_train_val_aug/client_18."
          ]
        },
        {
          "output_type": "stream",
          "name": "stderr",
          "text": [
            "Processing <PIL.Image.Image image mode=RGB size=768x576 at 0x7F28A8B2ADD0>: 100%|██████████| 50/50 [00:07<00:00,  6.90 Samples/s]\n"
          ]
        },
        {
          "output_type": "stream",
          "name": "stdout",
          "text": [
            "Initialised with 5 image(s) found.\n",
            "Output directory set to /content/drive/MyDrive/Iris_train_val_aug/client_35."
          ]
        },
        {
          "output_type": "stream",
          "name": "stderr",
          "text": [
            "Processing <PIL.Image.Image image mode=RGB size=768x576 at 0x7F28A896B5B0>: 100%|██████████| 50/50 [00:06<00:00,  8.02 Samples/s]\n"
          ]
        },
        {
          "output_type": "stream",
          "name": "stdout",
          "text": [
            "Initialised with 5 image(s) found.\n",
            "Output directory set to /content/drive/MyDrive/Iris_train_val_aug/client_58."
          ]
        },
        {
          "output_type": "stream",
          "name": "stderr",
          "text": [
            "Processing <PIL.Image.Image image mode=RGB size=729x547 at 0x7F28A896BE50>: 100%|██████████| 50/50 [00:09<00:00,  5.44 Samples/s]\n"
          ]
        },
        {
          "output_type": "stream",
          "name": "stdout",
          "text": [
            "Initialised with 5 image(s) found.\n",
            "Output directory set to /content/drive/MyDrive/Iris_train_val_aug/client_60."
          ]
        },
        {
          "output_type": "stream",
          "name": "stderr",
          "text": [
            "Processing <PIL.Image.Image image mode=RGB size=768x576 at 0x7F28A8B2B0A0>: 100%|██████████| 50/50 [00:10<00:00,  4.87 Samples/s]\n"
          ]
        },
        {
          "output_type": "stream",
          "name": "stdout",
          "text": [
            "Initialised with 5 image(s) found.\n",
            "Output directory set to /content/drive/MyDrive/Iris_train_val_aug/client_51."
          ]
        },
        {
          "output_type": "stream",
          "name": "stderr",
          "text": [
            "Processing <PIL.Image.Image image mode=RGB size=768x576 at 0x7F28A8B4CB80>: 100%|██████████| 50/50 [00:07<00:00,  6.39 Samples/s]\n"
          ]
        },
        {
          "output_type": "stream",
          "name": "stdout",
          "text": [
            "Initialised with 5 image(s) found.\n",
            "Output directory set to /content/drive/MyDrive/Iris_train_val_aug/client_33."
          ]
        },
        {
          "output_type": "stream",
          "name": "stderr",
          "text": [
            "Processing <PIL.Image.Image image mode=RGB size=729x547 at 0x7F28A897AAD0>: 100%|██████████| 50/50 [00:07<00:00,  6.85 Samples/s]\n"
          ]
        },
        {
          "output_type": "stream",
          "name": "stdout",
          "text": [
            "Initialised with 5 image(s) found.\n",
            "Output directory set to /content/drive/MyDrive/Iris_train_val_aug/client_34."
          ]
        },
        {
          "output_type": "stream",
          "name": "stderr",
          "text": [
            "Processing <PIL.Image.Image image mode=RGB size=768x576 at 0x7F28A897AFB0>: 100%|██████████| 50/50 [00:09<00:00,  5.36 Samples/s]\n"
          ]
        },
        {
          "output_type": "stream",
          "name": "stdout",
          "text": [
            "Initialised with 5 image(s) found.\n",
            "Output directory set to /content/drive/MyDrive/Iris_train_val_aug/client_2."
          ]
        },
        {
          "output_type": "stream",
          "name": "stderr",
          "text": [
            "Processing <PIL.Image.Image image mode=RGB size=729x547 at 0x7F28A896A920>: 100%|██████████| 50/50 [00:08<00:00,  5.56 Samples/s]\n"
          ]
        },
        {
          "output_type": "stream",
          "name": "stdout",
          "text": [
            "Initialised with 5 image(s) found.\n",
            "Output directory set to /content/drive/MyDrive/Iris_train_val_aug/client_5."
          ]
        },
        {
          "output_type": "stream",
          "name": "stderr",
          "text": [
            "Processing <PIL.Image.Image image mode=RGB size=729x547 at 0x7F294339C6A0>: 100%|██████████| 50/50 [00:09<00:00,  5.41 Samples/s]\n"
          ]
        },
        {
          "output_type": "stream",
          "name": "stdout",
          "text": [
            "Initialised with 5 image(s) found.\n",
            "Output directory set to /content/drive/MyDrive/Iris_train_val_aug/client_56."
          ]
        },
        {
          "output_type": "stream",
          "name": "stderr",
          "text": [
            "Processing <PIL.Image.Image image mode=RGB size=768x576 at 0x7F28A8B2ADD0>: 100%|██████████| 50/50 [00:07<00:00,  6.67 Samples/s]\n"
          ]
        },
        {
          "output_type": "stream",
          "name": "stdout",
          "text": [
            "Initialised with 5 image(s) found.\n",
            "Output directory set to /content/drive/MyDrive/Iris_train_val_aug/client_32."
          ]
        },
        {
          "output_type": "stream",
          "name": "stderr",
          "text": [
            "Processing <PIL.Image.Image image mode=RGB size=768x576 at 0x7F28A8978910>: 100%|██████████| 50/50 [00:08<00:00,  6.05 Samples/s]\n"
          ]
        },
        {
          "output_type": "stream",
          "name": "stdout",
          "text": [
            "Initialised with 5 image(s) found.\n",
            "Output directory set to /content/drive/MyDrive/Iris_train_val_aug/client_57."
          ]
        },
        {
          "output_type": "stream",
          "name": "stderr",
          "text": [
            "Processing <PIL.Image.Image image mode=RGB size=768x576 at 0x7F28A8B2A2F0>: 100%|██████████| 50/50 [00:10<00:00,  4.82 Samples/s]\n"
          ]
        },
        {
          "output_type": "stream",
          "name": "stdout",
          "text": [
            "Initialised with 5 image(s) found.\n",
            "Output directory set to /content/drive/MyDrive/Iris_train_val_aug/client_59."
          ]
        },
        {
          "output_type": "stream",
          "name": "stderr",
          "text": [
            "Processing <PIL.Image.Image image mode=RGB size=768x576 at 0x7F28A8B0B220>: 100%|██████████| 50/50 [00:09<00:00,  5.10 Samples/s]\n"
          ]
        },
        {
          "output_type": "stream",
          "name": "stdout",
          "text": [
            "Initialised with 5 image(s) found.\n",
            "Output directory set to /content/drive/MyDrive/Iris_train_val_aug/client_61."
          ]
        },
        {
          "output_type": "stream",
          "name": "stderr",
          "text": [
            "Processing <PIL.Image.Image image mode=RGB size=768x576 at 0x7F28A897AF20>: 100%|██████████| 50/50 [00:08<00:00,  6.22 Samples/s]\n"
          ]
        },
        {
          "output_type": "stream",
          "name": "stdout",
          "text": [
            "Initialised with 5 image(s) found.\n",
            "Output directory set to /content/drive/MyDrive/Iris_train_val_aug/client_50."
          ]
        },
        {
          "output_type": "stream",
          "name": "stderr",
          "text": [
            "Processing <PIL.Image.Image image mode=RGB size=729x547 at 0x7F28A8B35EA0>: 100%|██████████| 50/50 [00:08<00:00,  6.24 Samples/s]"
          ]
        },
        {
          "output_type": "stream",
          "name": "stdout",
          "text": [
            "Аугментация завершена\n"
          ]
        },
        {
          "output_type": "stream",
          "name": "stderr",
          "text": [
            "\n"
          ]
        }
      ]
    },
    {
      "cell_type": "markdown",
      "source": [
        "## **Создание базы**"
      ],
      "metadata": {
        "id": "4Lqxbiargux7"
      }
    },
    {
      "cell_type": "code",
      "source": [
        "CLASS_LIST = sorted(os.listdir(TRAIN_VAL_PATH_AUG))\n",
        "CLASS_COUNT = len(CLASS_LIST)\n",
        "\n",
        "print(f'Количество классов: {CLASS_COUNT}, метки классов: {CLASS_LIST}')"
      ],
      "metadata": {
        "colab": {
          "base_uri": "https://localhost:8080/"
        },
        "id": "fhf5nbG5gvcP",
        "outputId": "831fc29a-6598-4757-c9b3-21fe562ab3b2"
      },
      "execution_count": 38,
      "outputs": [
        {
          "output_type": "stream",
          "name": "stdout",
          "text": [
            "Количество классов: 64, метки классов: ['client_1', 'client_10', 'client_11', 'client_12', 'client_13', 'client_14', 'client_15', 'client_16', 'client_17', 'client_18', 'client_19', 'client_2', 'client_20', 'client_21', 'client_22', 'client_23', 'client_24', 'client_25', 'client_26', 'client_27', 'client_28', 'client_29', 'client_3', 'client_30', 'client_31', 'client_32', 'client_33', 'client_34', 'client_35', 'client_36', 'client_37', 'client_38', 'client_39', 'client_4', 'client_40', 'client_41', 'client_42', 'client_43', 'client_44', 'client_45', 'client_46', 'client_47', 'client_48', 'client_49', 'client_5', 'client_50', 'client_51', 'client_52', 'client_53', 'client_54', 'client_55', 'client_56', 'client_57', 'client_58', 'client_59', 'client_6', 'client_60', 'client_61', 'client_62', 'client_63', 'client_64', 'client_7', 'client_8', 'client_9']\n"
          ]
        }
      ]
    },
    {
      "cell_type": "code",
      "source": [
        "data_files = []\n",
        "data_labels = []\n",
        "\n",
        "for class_label in range(CLASS_COUNT):    # Для всех классов по порядку номеров (их меток)\n",
        "    class_name = CLASS_LIST[class_label]  # Выборка имени класса из списка имен\n",
        "    class_path = f'{TRAIN_VAL_PATH_AUG}/{class_name}'  # Формирование полного пути к папке с изображениями класса\n",
        "    class_files = os.listdir(class_path)  # Получение списка имен файлов с изображениями текущего класса\n",
        "    data_files += [f'{class_path}/{file_name}' for file_name in class_files]\n",
        "    data_labels += [class_label] * len(class_files)\n",
        "    print(f'Размер класса {class_name} составляет {len(class_files)} снимков')\n",
        "\n",
        "print('Общий размер базы для обучения:', len(data_labels))"
      ],
      "metadata": {
        "colab": {
          "base_uri": "https://localhost:8080/"
        },
        "id": "z33I7y47hFnG",
        "outputId": "f523c502-acbe-4076-b78f-fbb51c030823"
      },
      "execution_count": 39,
      "outputs": [
        {
          "output_type": "stream",
          "name": "stdout",
          "text": [
            "Размер класса client_1 составляет 50 снимков\n",
            "Размер класса client_10 составляет 50 снимков\n",
            "Размер класса client_11 составляет 50 снимков\n",
            "Размер класса client_12 составляет 50 снимков\n",
            "Размер класса client_13 составляет 50 снимков\n",
            "Размер класса client_14 составляет 50 снимков\n",
            "Размер класса client_15 составляет 50 снимков\n",
            "Размер класса client_16 составляет 50 снимков\n",
            "Размер класса client_17 составляет 50 снимков\n",
            "Размер класса client_18 составляет 50 снимков\n",
            "Размер класса client_19 составляет 50 снимков\n",
            "Размер класса client_2 составляет 50 снимков\n",
            "Размер класса client_20 составляет 50 снимков\n",
            "Размер класса client_21 составляет 50 снимков\n",
            "Размер класса client_22 составляет 50 снимков\n",
            "Размер класса client_23 составляет 50 снимков\n",
            "Размер класса client_24 составляет 50 снимков\n",
            "Размер класса client_25 составляет 50 снимков\n",
            "Размер класса client_26 составляет 50 снимков\n",
            "Размер класса client_27 составляет 50 снимков\n",
            "Размер класса client_28 составляет 50 снимков\n",
            "Размер класса client_29 составляет 50 снимков\n",
            "Размер класса client_3 составляет 50 снимков\n",
            "Размер класса client_30 составляет 50 снимков\n",
            "Размер класса client_31 составляет 50 снимков\n",
            "Размер класса client_32 составляет 50 снимков\n",
            "Размер класса client_33 составляет 50 снимков\n",
            "Размер класса client_34 составляет 50 снимков\n",
            "Размер класса client_35 составляет 50 снимков\n",
            "Размер класса client_36 составляет 50 снимков\n",
            "Размер класса client_37 составляет 50 снимков\n",
            "Размер класса client_38 составляет 50 снимков\n",
            "Размер класса client_39 составляет 50 снимков\n",
            "Размер класса client_4 составляет 50 снимков\n",
            "Размер класса client_40 составляет 50 снимков\n",
            "Размер класса client_41 составляет 50 снимков\n",
            "Размер класса client_42 составляет 50 снимков\n",
            "Размер класса client_43 составляет 50 снимков\n",
            "Размер класса client_44 составляет 50 снимков\n",
            "Размер класса client_45 составляет 50 снимков\n",
            "Размер класса client_46 составляет 50 снимков\n",
            "Размер класса client_47 составляет 50 снимков\n",
            "Размер класса client_48 составляет 50 снимков\n",
            "Размер класса client_49 составляет 50 снимков\n",
            "Размер класса client_5 составляет 50 снимков\n",
            "Размер класса client_50 составляет 50 снимков\n",
            "Размер класса client_51 составляет 50 снимков\n",
            "Размер класса client_52 составляет 50 снимков\n",
            "Размер класса client_53 составляет 50 снимков\n",
            "Размер класса client_54 составляет 50 снимков\n",
            "Размер класса client_55 составляет 50 снимков\n",
            "Размер класса client_56 составляет 50 снимков\n",
            "Размер класса client_57 составляет 50 снимков\n",
            "Размер класса client_58 составляет 50 снимков\n",
            "Размер класса client_59 составляет 50 снимков\n",
            "Размер класса client_6 составляет 50 снимков\n",
            "Размер класса client_60 составляет 50 снимков\n",
            "Размер класса client_61 составляет 50 снимков\n",
            "Размер класса client_62 составляет 50 снимков\n",
            "Размер класса client_63 составляет 50 снимков\n",
            "Размер класса client_64 составляет 50 снимков\n",
            "Размер класса client_7 составляет 50 снимков\n",
            "Размер класса client_8 составляет 50 снимков\n",
            "Размер класса client_9 составляет 50 снимков\n",
            "Общий размер базы для обучения: 3200\n"
          ]
        }
      ]
    },
    {
      "cell_type": "code",
      "source": [
        "# data_images_1 = []\n",
        "\n",
        "# for file_name in data_files:\n",
        "#     img = Image.open(file_name).resize((IMG_WIDTH_1, IMG_HEIGHT_1)) \n",
        "#     img_np = np.array(img)\n",
        "#     data_images_1.append(img_np)\n",
        "\n",
        "# x_data_big = np.array(data_images_1)\n",
        "# y_data = np.array(data_labels)\n",
        "\n",
        "# print(f'В массив собрано {len(data_images_1)} фотографий следующей формы: {img_np.shape}')\n",
        "# print(f'Общий массив данных изображений следующей формы: {x_data_big.shape}')\n",
        "# print(f'Общий массив меток классов следующей формы: {y_data.shape}')\n",
        "\n",
        "data_images = []\n",
        "\n",
        "for file_name in data_files:\n",
        "    img = Image.open(file_name).resize((IMG_WIDTH_2, IMG_HEIGHT_2)) \n",
        "    img_np = np.array(img)\n",
        "    data_images.append(img_np)\n",
        "\n",
        "x_data_small = np.array(data_images)\n",
        "y_data = np.array(data_labels)\n",
        "\n",
        "print(f'В массив собрано {len(data_images)} фотографий следующей формы: {img_np.shape}')\n",
        "print(f'Общий массив данных изображений следующей формы: {x_data_small.shape}')\n",
        "print(f'Общий массив меток классов следующей формы: {y_data.shape}')"
      ],
      "metadata": {
        "colab": {
          "base_uri": "https://localhost:8080/"
        },
        "id": "Ur6hUXa4hFwc",
        "outputId": "0bfcdb21-0b23-48bb-a880-9d8edd4b1ab2"
      },
      "execution_count": 40,
      "outputs": [
        {
          "output_type": "stream",
          "name": "stdout",
          "text": [
            "В массив собрано 3200 фотографий следующей формы: (60, 80, 3)\n",
            "Общий массив данных изображений следующей формы: (3200, 60, 80, 3)\n",
            "Общий массив меток классов следующей формы: (3200,)\n"
          ]
        }
      ]
    },
    {
      "cell_type": "code",
      "source": [
        "CLASS_LIST_TEST = sorted(os.listdir(TEST_PATH))\n",
        "CLASS_COUNT_TEST = len(CLASS_LIST_TEST)\n",
        "\n",
        "print(f'Количество классов: {CLASS_COUNT_TEST}, метки классов: {CLASS_LIST_TEST}')"
      ],
      "metadata": {
        "colab": {
          "base_uri": "https://localhost:8080/"
        },
        "id": "MPUgZTUiPu1v",
        "outputId": "4a951ca3-80ed-4cc2-af71-776f8de9b6df"
      },
      "execution_count": 41,
      "outputs": [
        {
          "output_type": "stream",
          "name": "stdout",
          "text": [
            "Количество классов: 64, метки классов: ['client_1', 'client_10', 'client_11', 'client_12', 'client_13', 'client_14', 'client_15', 'client_16', 'client_17', 'client_18', 'client_19', 'client_2', 'client_20', 'client_21', 'client_22', 'client_23', 'client_24', 'client_25', 'client_26', 'client_27', 'client_28', 'client_29', 'client_3', 'client_30', 'client_31', 'client_32', 'client_33', 'client_34', 'client_35', 'client_36', 'client_37', 'client_38', 'client_39', 'client_4', 'client_40', 'client_41', 'client_42', 'client_43', 'client_44', 'client_45', 'client_46', 'client_47', 'client_48', 'client_49', 'client_5', 'client_50', 'client_51', 'client_52', 'client_53', 'client_54', 'client_55', 'client_56', 'client_57', 'client_58', 'client_59', 'client_6', 'client_60', 'client_61', 'client_62', 'client_63', 'client_64', 'client_7', 'client_8', 'client_9']\n"
          ]
        }
      ]
    },
    {
      "cell_type": "code",
      "source": [
        "data_files_test = []\n",
        "data_labels_test = []\n",
        "\n",
        "for class_label_test in range(CLASS_COUNT_TEST):    # Для всех классов по порядку номеров (их меток)\n",
        "    class_name_test = CLASS_LIST_TEST[class_label_test]  # Выборка имени класса из списка имен\n",
        "    class_path_test = f'{TEST_PATH}/{class_name_test}'  # Формирование полного пути к папке с изображениями класса\n",
        "    class_files_test = os.listdir(class_path_test)  # Получение списка имен файлов с изображениями текущего класса\n",
        "    data_files_test += [f'{class_path_test}/{file_name}' for file_name in class_files_test]\n",
        "    data_labels_test += [class_label_test] * len(class_files_test)\n",
        "    print(f'Размер класса {class_name_test} составляет {len(class_files_test)} снимков')\n",
        "\n",
        "print('Общий размер базы для проверки:', len(data_labels_test))"
      ],
      "metadata": {
        "colab": {
          "base_uri": "https://localhost:8080/"
        },
        "id": "pgAAL1-4QDTa",
        "outputId": "43a853c7-82ab-4eb0-a9f1-3b629f6259b9"
      },
      "execution_count": 42,
      "outputs": [
        {
          "output_type": "stream",
          "name": "stdout",
          "text": [
            "Размер класса client_1 составляет 1 снимков\n",
            "Размер класса client_10 составляет 1 снимков\n",
            "Размер класса client_11 составляет 1 снимков\n",
            "Размер класса client_12 составляет 1 снимков\n",
            "Размер класса client_13 составляет 1 снимков\n",
            "Размер класса client_14 составляет 1 снимков\n",
            "Размер класса client_15 составляет 1 снимков\n",
            "Размер класса client_16 составляет 1 снимков\n",
            "Размер класса client_17 составляет 1 снимков\n",
            "Размер класса client_18 составляет 1 снимков\n",
            "Размер класса client_19 составляет 1 снимков\n",
            "Размер класса client_2 составляет 1 снимков\n",
            "Размер класса client_20 составляет 1 снимков\n",
            "Размер класса client_21 составляет 1 снимков\n",
            "Размер класса client_22 составляет 1 снимков\n",
            "Размер класса client_23 составляет 1 снимков\n",
            "Размер класса client_24 составляет 1 снимков\n",
            "Размер класса client_25 составляет 1 снимков\n",
            "Размер класса client_26 составляет 1 снимков\n",
            "Размер класса client_27 составляет 1 снимков\n",
            "Размер класса client_28 составляет 1 снимков\n",
            "Размер класса client_29 составляет 1 снимков\n",
            "Размер класса client_3 составляет 1 снимков\n",
            "Размер класса client_30 составляет 1 снимков\n",
            "Размер класса client_31 составляет 1 снимков\n",
            "Размер класса client_32 составляет 1 снимков\n",
            "Размер класса client_33 составляет 1 снимков\n",
            "Размер класса client_34 составляет 1 снимков\n",
            "Размер класса client_35 составляет 1 снимков\n",
            "Размер класса client_36 составляет 1 снимков\n",
            "Размер класса client_37 составляет 1 снимков\n",
            "Размер класса client_38 составляет 1 снимков\n",
            "Размер класса client_39 составляет 1 снимков\n",
            "Размер класса client_4 составляет 1 снимков\n",
            "Размер класса client_40 составляет 1 снимков\n",
            "Размер класса client_41 составляет 1 снимков\n",
            "Размер класса client_42 составляет 1 снимков\n",
            "Размер класса client_43 составляет 1 снимков\n",
            "Размер класса client_44 составляет 1 снимков\n",
            "Размер класса client_45 составляет 1 снимков\n",
            "Размер класса client_46 составляет 1 снимков\n",
            "Размер класса client_47 составляет 1 снимков\n",
            "Размер класса client_48 составляет 1 снимков\n",
            "Размер класса client_49 составляет 1 снимков\n",
            "Размер класса client_5 составляет 1 снимков\n",
            "Размер класса client_50 составляет 1 снимков\n",
            "Размер класса client_51 составляет 1 снимков\n",
            "Размер класса client_52 составляет 1 снимков\n",
            "Размер класса client_53 составляет 1 снимков\n",
            "Размер класса client_54 составляет 1 снимков\n",
            "Размер класса client_55 составляет 1 снимков\n",
            "Размер класса client_56 составляет 1 снимков\n",
            "Размер класса client_57 составляет 1 снимков\n",
            "Размер класса client_58 составляет 1 снимков\n",
            "Размер класса client_59 составляет 1 снимков\n",
            "Размер класса client_6 составляет 1 снимков\n",
            "Размер класса client_60 составляет 1 снимков\n",
            "Размер класса client_61 составляет 1 снимков\n",
            "Размер класса client_62 составляет 1 снимков\n",
            "Размер класса client_63 составляет 1 снимков\n",
            "Размер класса client_64 составляет 1 снимков\n",
            "Размер класса client_7 составляет 1 снимков\n",
            "Размер класса client_8 составляет 1 снимков\n",
            "Размер класса client_9 составляет 1 снимков\n",
            "Общий размер базы для проверки: 64\n"
          ]
        }
      ]
    },
    {
      "cell_type": "code",
      "source": [
        "data_images_test = []\n",
        "\n",
        "for file_name in data_files_test:\n",
        "    img_test = Image.open(file_name).resize((IMG_WIDTH_2, IMG_HEIGHT_2)) \n",
        "    img_np_test = np.array(img_test)\n",
        "    data_images_test.append(img_np_test)\n",
        "\n",
        "x_data_test = np.array(data_images_test)\n",
        "y_data_test = np.array(data_labels_test)\n",
        "\n",
        "print(f'В массив собрано {len(data_images_test)} фотографий следующей формы: {img_np_test.shape}')\n",
        "print(f'Общий массив данных изображений следующей формы: {x_data_test.shape}')\n",
        "print(f'Общий массив меток классов следующей формы: {y_data_test.shape}')"
      ],
      "metadata": {
        "colab": {
          "base_uri": "https://localhost:8080/"
        },
        "id": "qcUEVqGJQiK4",
        "outputId": "0a89f291-c59b-4222-ed8f-303804374417"
      },
      "execution_count": 43,
      "outputs": [
        {
          "output_type": "stream",
          "name": "stdout",
          "text": [
            "В массив собрано 64 фотографий следующей формы: (60, 80, 3)\n",
            "Общий массив данных изображений следующей формы: (64, 60, 80, 3)\n",
            "Общий массив меток классов следующей формы: (64,)\n"
          ]
        }
      ]
    },
    {
      "cell_type": "markdown",
      "source": [
        "## **Деление на выборки**"
      ],
      "metadata": {
        "id": "fZj6tvo1jSMm"
      }
    },
    {
      "cell_type": "code",
      "source": [
        "# Разделение выборки на обучающую и проверочную\n",
        "# x_ds_big, x_val_big, y_ds_big, y_val_big = train_test_split(x_data_big, y_data, test_size=0.2, random_state=42)\n",
        "# x_train_big, x_test_big, y_train_big, y_test_big = train_test_split(x_ds_big, y_ds_big, test_size=0.1, random_state=42)\n",
        "\n",
        "x_train_small, x_val_small, y_train_small, y_val_small = train_test_split(x_data_small, y_data, test_size=0.2, random_state=42)\n",
        "# x_train_small, x_test_small, y_train_small, y_test_small = train_test_split(x_ds_small, y_ds_small, test_size=0.1, random_state=42)"
      ],
      "metadata": {
        "id": "wxfvjao-hGYG"
      },
      "execution_count": 44,
      "outputs": []
    },
    {
      "cell_type": "code",
      "source": [
        "y_train_small = to_categorical(y_train_small)\n",
        "# y_train_big = to_categorical(y_train_big)\n",
        "\n",
        "y_val_small = to_categorical(y_val_small)\n",
        "# y_val_big = to_categorical(y_val_big)\n",
        "\n",
        "y_data_test = to_categorical(y_data_test)\n",
        "# y_test_big = to_categorical(y_test_big)"
      ],
      "metadata": {
        "id": "Jyj_6lNThGbs"
      },
      "execution_count": 45,
      "outputs": []
    },
    {
      "cell_type": "code",
      "source": [
        "# print('Размерности датасетов с изображениями 160 на 120')\n",
        "# print('Тренировочный датасет:')\n",
        "# print(x_train_big.shape)\n",
        "# print(y_train_big.shape)\n",
        "# print('Проверочный датасет:')\n",
        "# print(x_val_big.shape)\n",
        "# print(y_val_big.shape)\n",
        "# print('Тестовый датасет:')\n",
        "# print(x_test_big.shape)\n",
        "# print(y_test_big.shape)\n",
        "\n",
        "print('\\nРазмерности датасетов с изображениями 80 на 60')\n",
        "print('Тренировочный датасет:')\n",
        "print(x_train_small.shape)\n",
        "print(y_train_small.shape)\n",
        "print('Проверочный датасет:')\n",
        "print(x_val_small.shape)\n",
        "print(y_val_small.shape)\n",
        "print('Тестовый датасет:')\n",
        "print(x_data_test.shape)\n",
        "print(y_data_test.shape)"
      ],
      "metadata": {
        "colab": {
          "base_uri": "https://localhost:8080/"
        },
        "id": "CGxSwIAdhGfe",
        "outputId": "977577c1-d4a5-4b61-88ae-7ff6ec540b3c"
      },
      "execution_count": 46,
      "outputs": [
        {
          "output_type": "stream",
          "name": "stdout",
          "text": [
            "\n",
            "Размерности датасетов с изображениями 80 на 60\n",
            "Тренировочный датасет:\n",
            "(2560, 60, 80, 3)\n",
            "(2560, 64)\n",
            "Проверочный датасет:\n",
            "(640, 60, 80, 3)\n",
            "(640, 64)\n",
            "Тестовый датасет:\n",
            "(64, 60, 80, 3)\n",
            "(64, 64)\n"
          ]
        }
      ]
    },
    {
      "cell_type": "markdown",
      "source": [
        "# **Оптимизация обучения модели**"
      ],
      "metadata": {
        "id": "oWsHTIn-mpLM"
      }
    },
    {
      "cell_type": "code",
      "source": [
        "# AUTOTUNE = tf.data.AUTOTUNE\n",
        "# train_ds = train_ds.cache().shuffle(1000).prefetch(buffer_size=AUTOTUNE)\n",
        "# validation_ds = validation_ds.cache().prefetch(buffer_size=AUTOTUNE)"
      ],
      "metadata": {
        "id": "MOmL13JHllMX"
      },
      "execution_count": null,
      "outputs": []
    },
    {
      "cell_type": "code",
      "source": [
        "checkpoint = ModelCheckpoint(filepath=\"my_model.hdf5\", monitor=\"val_loss\", verbose=0, save_best_only=True)"
      ],
      "metadata": {
        "id": "ENwl_m9gllQQ"
      },
      "execution_count": 14,
      "outputs": []
    },
    {
      "cell_type": "markdown",
      "source": [
        "# **Работа с моделью**"
      ],
      "metadata": {
        "id": "5mlB9DKVn8YP"
      }
    },
    {
      "cell_type": "markdown",
      "source": [
        "## **Архитектура модели**"
      ],
      "metadata": {
        "id": "u6KmeXgXpNPy"
      }
    },
    {
      "cell_type": "code",
      "source": [
        "image_shape_small = x_train_small.shape[1:]\n",
        "# image_shape_big = x_train_big.shape[1:]  \n",
        "\n",
        "model_1 = Sequential()\n",
        "model_1.add(Conv2D(64, (3, 3), activation='relu', input_shape=image_shape_small))\n",
        "model_1.add(MaxPooling2D((2, 2)))\n",
        "model_1.add(Conv2D(128, (3, 3), activation='relu'))\n",
        "model_1.add(MaxPooling2D((2, 2)))\n",
        "model_1.add(Conv2D(128, (3, 3), activation='relu'))\n",
        "model_1.add(Flatten())\n",
        "model_1.add(Dense(128, activation='relu'))\n",
        "model_1.add(Dense(CLASS_COUNT, activation='softmax'))"
      ],
      "metadata": {
        "id": "JxBGWc_SllUN"
      },
      "execution_count": 11,
      "outputs": []
    },
    {
      "cell_type": "markdown",
      "source": [
        "## **Обучение модели**"
      ],
      "metadata": {
        "id": "ffV1euwEpZ35"
      }
    },
    {
      "cell_type": "code",
      "source": [
        "model_1.compile(\n",
        "              optimizer=OPTIMIZER_LEGACY,\n",
        "              loss='categorical_crossentropy',\n",
        "              metrics='accuracy')\n",
        "model_1.summary()"
      ],
      "metadata": {
        "colab": {
          "base_uri": "https://localhost:8080/"
        },
        "id": "1pfIfc1GoeEs",
        "outputId": "b37dec6a-df3e-4ddb-d70a-3f57968ad925"
      },
      "execution_count": 12,
      "outputs": [
        {
          "output_type": "stream",
          "name": "stdout",
          "text": [
            "Model: \"sequential\"\n",
            "_________________________________________________________________\n",
            " Layer (type)                Output Shape              Param #   \n",
            "=================================================================\n",
            " conv2d (Conv2D)             (None, 58, 78, 64)        1792      \n",
            "                                                                 \n",
            " max_pooling2d (MaxPooling2D  (None, 29, 39, 64)       0         \n",
            " )                                                               \n",
            "                                                                 \n",
            " conv2d_1 (Conv2D)           (None, 27, 37, 128)       73856     \n",
            "                                                                 \n",
            " max_pooling2d_1 (MaxPooling  (None, 13, 18, 128)      0         \n",
            " 2D)                                                             \n",
            "                                                                 \n",
            " conv2d_2 (Conv2D)           (None, 11, 16, 128)       147584    \n",
            "                                                                 \n",
            " flatten (Flatten)           (None, 22528)             0         \n",
            "                                                                 \n",
            " dense (Dense)               (None, 128)               2883712   \n",
            "                                                                 \n",
            " dense_1 (Dense)             (None, 64)                8256      \n",
            "                                                                 \n",
            "=================================================================\n",
            "Total params: 3,115,200\n",
            "Trainable params: 3,115,200\n",
            "Non-trainable params: 0\n",
            "_________________________________________________________________\n"
          ]
        }
      ]
    },
    {
      "cell_type": "code",
      "source": [
        "history_small = model_1.fit(\n",
        "                          x_train_small,\n",
        "                          y_train_small,\n",
        "                          epochs=50,\n",
        "                          validation_data=(x_val_small, y_val_small),\n",
        "                          callbacks=checkpoint,\n",
        "                          )"
      ],
      "metadata": {
        "colab": {
          "base_uri": "https://localhost:8080/"
        },
        "id": "itgdfojvoeIm",
        "outputId": "a9519596-0fb7-4fae-bcd6-b7b15ba86b85"
      },
      "execution_count": 15,
      "outputs": [
        {
          "output_type": "stream",
          "name": "stdout",
          "text": [
            "Epoch 1/50\n",
            "72/72 [==============================] - 11s 16ms/step - loss: 7.1396 - accuracy: 0.0161 - val_loss: 4.0764 - val_accuracy: 0.0125\n",
            "Epoch 2/50\n",
            "72/72 [==============================] - 1s 14ms/step - loss: 4.0386 - accuracy: 0.0356 - val_loss: 3.9800 - val_accuracy: 0.0266\n",
            "Epoch 3/50\n",
            "72/72 [==============================] - 1s 16ms/step - loss: 3.8717 - accuracy: 0.0556 - val_loss: 3.8088 - val_accuracy: 0.0594\n",
            "Epoch 4/50\n",
            "72/72 [==============================] - 1s 16ms/step - loss: 3.6136 - accuracy: 0.1089 - val_loss: 3.5177 - val_accuracy: 0.1203\n",
            "Epoch 5/50\n",
            "72/72 [==============================] - 1s 16ms/step - loss: 3.2848 - accuracy: 0.1719 - val_loss: 3.1203 - val_accuracy: 0.2078\n",
            "Epoch 6/50\n",
            "72/72 [==============================] - 1s 15ms/step - loss: 2.7909 - accuracy: 0.2934 - val_loss: 2.6753 - val_accuracy: 0.3203\n",
            "Epoch 7/50\n",
            "72/72 [==============================] - 1s 15ms/step - loss: 2.2056 - accuracy: 0.4531 - val_loss: 2.2183 - val_accuracy: 0.4531\n",
            "Epoch 8/50\n",
            "72/72 [==============================] - 1s 13ms/step - loss: 1.7707 - accuracy: 0.5694 - val_loss: 1.7399 - val_accuracy: 0.5641\n",
            "Epoch 9/50\n",
            "72/72 [==============================] - 1s 12ms/step - loss: 1.3470 - accuracy: 0.6532 - val_loss: 1.3623 - val_accuracy: 0.6516\n",
            "Epoch 10/50\n",
            "72/72 [==============================] - 1s 13ms/step - loss: 0.9932 - accuracy: 0.7517 - val_loss: 1.1272 - val_accuracy: 0.7234\n",
            "Epoch 11/50\n",
            "72/72 [==============================] - 1s 13ms/step - loss: 0.7182 - accuracy: 0.8333 - val_loss: 0.8094 - val_accuracy: 0.8156\n",
            "Epoch 12/50\n",
            "72/72 [==============================] - 1s 13ms/step - loss: 0.5024 - accuracy: 0.8963 - val_loss: 0.5882 - val_accuracy: 0.8703\n",
            "Epoch 13/50\n",
            "72/72 [==============================] - 1s 12ms/step - loss: 0.3478 - accuracy: 0.9319 - val_loss: 0.5736 - val_accuracy: 0.8625\n",
            "Epoch 14/50\n",
            "72/72 [==============================] - 1s 13ms/step - loss: 0.2431 - accuracy: 0.9557 - val_loss: 0.4465 - val_accuracy: 0.8938\n",
            "Epoch 15/50\n",
            "72/72 [==============================] - 1s 13ms/step - loss: 0.1905 - accuracy: 0.9683 - val_loss: 0.3373 - val_accuracy: 0.9141\n",
            "Epoch 16/50\n",
            "72/72 [==============================] - 1s 14ms/step - loss: 0.1332 - accuracy: 0.9727 - val_loss: 0.3013 - val_accuracy: 0.9219\n",
            "Epoch 17/50\n",
            "72/72 [==============================] - 1s 12ms/step - loss: 0.0823 - accuracy: 0.9878 - val_loss: 0.3114 - val_accuracy: 0.9125\n",
            "Epoch 18/50\n",
            "72/72 [==============================] - 1s 13ms/step - loss: 0.0719 - accuracy: 0.9922 - val_loss: 0.3138 - val_accuracy: 0.9187\n",
            "Epoch 19/50\n",
            "72/72 [==============================] - 1s 15ms/step - loss: 0.0429 - accuracy: 0.9952 - val_loss: 0.2286 - val_accuracy: 0.9422\n",
            "Epoch 20/50\n",
            "72/72 [==============================] - 1s 16ms/step - loss: 0.0252 - accuracy: 1.0000 - val_loss: 0.2160 - val_accuracy: 0.9484\n",
            "Epoch 21/50\n",
            "72/72 [==============================] - 1s 15ms/step - loss: 0.0161 - accuracy: 1.0000 - val_loss: 0.2123 - val_accuracy: 0.9438\n",
            "Epoch 22/50\n",
            "72/72 [==============================] - 1s 12ms/step - loss: 0.0114 - accuracy: 1.0000 - val_loss: 0.2194 - val_accuracy: 0.9375\n",
            "Epoch 23/50\n",
            "72/72 [==============================] - 1s 11ms/step - loss: 0.0088 - accuracy: 1.0000 - val_loss: 0.2213 - val_accuracy: 0.9438\n",
            "Epoch 24/50\n",
            "72/72 [==============================] - 1s 11ms/step - loss: 0.0069 - accuracy: 1.0000 - val_loss: 0.2168 - val_accuracy: 0.9453\n",
            "Epoch 25/50\n",
            "72/72 [==============================] - 1s 13ms/step - loss: 0.0059 - accuracy: 1.0000 - val_loss: 0.2054 - val_accuracy: 0.9500\n",
            "Epoch 26/50\n",
            "72/72 [==============================] - 1s 11ms/step - loss: 0.0053 - accuracy: 1.0000 - val_loss: 0.2191 - val_accuracy: 0.9453\n",
            "Epoch 27/50\n",
            "72/72 [==============================] - 1s 11ms/step - loss: 0.0043 - accuracy: 1.0000 - val_loss: 0.2207 - val_accuracy: 0.9406\n",
            "Epoch 28/50\n",
            "72/72 [==============================] - 1s 12ms/step - loss: 0.0038 - accuracy: 1.0000 - val_loss: 0.2097 - val_accuracy: 0.9422\n",
            "Epoch 29/50\n",
            "72/72 [==============================] - 1s 12ms/step - loss: 0.0032 - accuracy: 1.0000 - val_loss: 0.2077 - val_accuracy: 0.9438\n",
            "Epoch 30/50\n",
            "72/72 [==============================] - 1s 11ms/step - loss: 0.0028 - accuracy: 1.0000 - val_loss: 0.2068 - val_accuracy: 0.9406\n",
            "Epoch 31/50\n",
            "72/72 [==============================] - 1s 11ms/step - loss: 0.0025 - accuracy: 1.0000 - val_loss: 0.2144 - val_accuracy: 0.9453\n",
            "Epoch 32/50\n",
            "72/72 [==============================] - 1s 12ms/step - loss: 0.0023 - accuracy: 1.0000 - val_loss: 0.2100 - val_accuracy: 0.9469\n",
            "Epoch 33/50\n",
            "72/72 [==============================] - 1s 13ms/step - loss: 0.0021 - accuracy: 1.0000 - val_loss: 0.2020 - val_accuracy: 0.9469\n",
            "Epoch 34/50\n",
            "72/72 [==============================] - 1s 12ms/step - loss: 0.0018 - accuracy: 1.0000 - val_loss: 0.2123 - val_accuracy: 0.9469\n",
            "Epoch 35/50\n",
            "72/72 [==============================] - 1s 13ms/step - loss: 0.0017 - accuracy: 1.0000 - val_loss: 0.2143 - val_accuracy: 0.9438\n",
            "Epoch 36/50\n",
            "72/72 [==============================] - 1s 13ms/step - loss: 0.0016 - accuracy: 1.0000 - val_loss: 0.2130 - val_accuracy: 0.9453\n",
            "Epoch 37/50\n",
            "72/72 [==============================] - 1s 14ms/step - loss: 0.0014 - accuracy: 1.0000 - val_loss: 0.2191 - val_accuracy: 0.9438\n",
            "Epoch 38/50\n",
            "72/72 [==============================] - 1s 13ms/step - loss: 0.0013 - accuracy: 1.0000 - val_loss: 0.2140 - val_accuracy: 0.9422\n",
            "Epoch 39/50\n",
            "72/72 [==============================] - 1s 11ms/step - loss: 0.0012 - accuracy: 1.0000 - val_loss: 0.2124 - val_accuracy: 0.9453\n",
            "Epoch 40/50\n",
            "72/72 [==============================] - 1s 11ms/step - loss: 0.0011 - accuracy: 1.0000 - val_loss: 0.2120 - val_accuracy: 0.9453\n",
            "Epoch 41/50\n",
            "72/72 [==============================] - 1s 11ms/step - loss: 0.0010 - accuracy: 1.0000 - val_loss: 0.2188 - val_accuracy: 0.9422\n",
            "Epoch 42/50\n",
            "72/72 [==============================] - 1s 12ms/step - loss: 9.2457e-04 - accuracy: 1.0000 - val_loss: 0.2118 - val_accuracy: 0.9438\n",
            "Epoch 43/50\n",
            "72/72 [==============================] - 1s 12ms/step - loss: 8.6311e-04 - accuracy: 1.0000 - val_loss: 0.2224 - val_accuracy: 0.9438\n",
            "Epoch 44/50\n",
            "72/72 [==============================] - 1s 11ms/step - loss: 7.9170e-04 - accuracy: 1.0000 - val_loss: 0.2259 - val_accuracy: 0.9438\n",
            "Epoch 45/50\n",
            "72/72 [==============================] - 1s 11ms/step - loss: 7.3298e-04 - accuracy: 1.0000 - val_loss: 0.2244 - val_accuracy: 0.9438\n",
            "Epoch 46/50\n",
            "72/72 [==============================] - 1s 12ms/step - loss: 6.9072e-04 - accuracy: 1.0000 - val_loss: 0.2247 - val_accuracy: 0.9469\n",
            "Epoch 47/50\n",
            "72/72 [==============================] - 1s 11ms/step - loss: 6.3570e-04 - accuracy: 1.0000 - val_loss: 0.2217 - val_accuracy: 0.9469\n",
            "Epoch 48/50\n",
            "72/72 [==============================] - 1s 11ms/step - loss: 5.9299e-04 - accuracy: 1.0000 - val_loss: 0.2223 - val_accuracy: 0.9469\n",
            "Epoch 49/50\n",
            "72/72 [==============================] - 1s 11ms/step - loss: 5.5821e-04 - accuracy: 1.0000 - val_loss: 0.2222 - val_accuracy: 0.9469\n",
            "Epoch 50/50\n",
            "72/72 [==============================] - 1s 11ms/step - loss: 5.2174e-04 - accuracy: 1.0000 - val_loss: 0.2243 - val_accuracy: 0.9453\n"
          ]
        }
      ]
    },
    {
      "cell_type": "markdown",
      "source": [
        "# **Проверка модели**"
      ],
      "metadata": {
        "id": "7BTf7x3BrTyH"
      }
    },
    {
      "cell_type": "markdown",
      "source": [
        "## **Визуализация результатов работы модели**"
      ],
      "metadata": {
        "id": "LKz3yaLitD6k"
      }
    },
    {
      "cell_type": "code",
      "source": [
        "# Визуализация точности на обучающей выборке\n",
        "plt.plot(history_small.history['accuracy'], \n",
        "         label='Доля верных ответов на обучающем наборе')\n",
        "\n",
        "# Визуализация точности на проверочной выборке\n",
        "plt.plot(history_small.history['val_accuracy'], \n",
        "         label='Доля верных ответов на проверочном наборе')\n",
        "\n",
        "# Отрисовка подписей осей\n",
        "plt.xlabel('Эпоха обучения')\n",
        "plt.ylabel('Доля верных ответов')\n",
        "\n",
        "# Отрисовка легенды\n",
        "plt.legend()\n",
        "\n",
        "# Вывод графика\n",
        "plt.show()"
      ],
      "metadata": {
        "colab": {
          "base_uri": "https://localhost:8080/",
          "height": 449
        },
        "id": "ePT8wjOvtEbl",
        "outputId": "ca486092-5c43-4fd8-e9a9-36d42f332a7b"
      },
      "execution_count": 16,
      "outputs": [
        {
          "output_type": "display_data",
          "data": {
            "text/plain": [
              "<Figure size 640x480 with 1 Axes>"
            ],
            "image/png": "[encoded data removed]"
          },
          "metadata": {}
        }
      ]
    },
    {
      "cell_type": "code",
      "source": [
        "# Визуализация точности на обучающей выборке\n",
        "plt.plot(history_small.history['loss'], \n",
        "         label='Ошибка на обучающем наборе')\n",
        "\n",
        "# Визуализация точности на проверочной выборке\n",
        "plt.plot(history_small.history['val_loss'], \n",
        "         label='Ошибка на проверочном наборе')\n",
        "\n",
        "# Отрисовка подписей осей\n",
        "plt.xlabel('Эпоха обучения')\n",
        "plt.ylabel('Ошибка')\n",
        "\n",
        "plt.legend()\n",
        "\n",
        "plt.show()"
      ],
      "metadata": {
        "colab": {
          "base_uri": "https://localhost:8080/",
          "height": 449
        },
        "id": "FQlJqb0RuNcd",
        "outputId": "d25c325f-59af-4bcb-b18a-04834826baec"
      },
      "execution_count": 17,
      "outputs": [
        {
          "output_type": "display_data",
          "data": {
            "text/plain": [
              "<Figure size 640x480 with 1 Axes>"
            ],
            "image/png": "[encoded data removed]"
          },
          "metadata": {}
        }
      ]
    },
    {
      "cell_type": "markdown",
      "source": [
        "## **Проверка evaluate**"
      ],
      "metadata": {
        "id": "NtD32wzMsaNW"
      }
    },
    {
      "cell_type": "code",
      "source": [
        "scores_small = model_1.evaluate(x_data_test, \n",
        "                                y_data_test, \n",
        "                                verbose=1\n",
        "                                )\n",
        "\n",
        "print('Процент верных ответов на тестовых данных размером 80 на 60:', round(scores_small[1],4) * 100, '%')"
      ],
      "metadata": {
        "colab": {
          "base_uri": "https://localhost:8080/"
        },
        "id": "X8-jHLq8oeMl",
        "outputId": "2b60112d-0bcd-4a39-8017-57e69ce8cb86"
      },
      "execution_count": 47,
      "outputs": [
        {
          "output_type": "stream",
          "name": "stdout",
          "text": [
            "2/2 [==============================] - 0s 10ms/step - loss: 1.4798 - accuracy: 0.7812\n",
            "Процент верных ответов на тестовых данных размером 80 на 60: 78.12 %\n"
          ]
        }
      ]
    },
    {
      "cell_type": "markdown",
      "source": [
        "## **Проверка predict**"
      ],
      "metadata": {
        "id": "I-yzUrQasG7b"
      }
    },
    {
      "cell_type": "code",
      "source": [
        "x = x_data_test[5]\n",
        "print(x.shape)\n",
        "\n",
        "x = np.expand_dims(x, axis=0)\n",
        "print(x.shape)\n",
        "\n",
        "prediction = model_1.predict(x) \n",
        "print(prediction)\n",
        "\n",
        "pred = np.argmax(prediction)\n",
        "print(f'Распознан пациент: {pred}')\n",
        "print(f'Настоящий пациент: {np.argmax(y_data_test[5])}')"
      ],
      "metadata": {
        "colab": {
          "base_uri": "https://localhost:8080/"
        },
        "id": "kZxForYOllYT",
        "outputId": "4466122e-3919-441a-dbae-2c95c00460fc"
      },
      "execution_count": 50,
      "outputs": [
        {
          "output_type": "stream",
          "name": "stdout",
          "text": [
            "(60, 80, 3)\n",
            "(1, 60, 80, 3)\n",
            "1/1 [==============================] - 0s 19ms/step\n",
            "[[3.1212225e-21 1.5747939e-12 1.4007269e-10 2.4936155e-21 3.8381325e-12\n",
            "  9.9928916e-01 5.4711612e-17 5.5020407e-14 5.4334837e-21 2.4314807e-06\n",
            "  1.6155625e-04 3.3270258e-14 7.8821870e-07 5.5931445e-21 3.0516567e-08\n",
            "  6.1342576e-26 1.3943083e-10 7.7758641e-06 2.3362339e-14 2.0967153e-19\n",
            "  3.0517509e-26 1.6068059e-17 1.8672142e-18 1.5887419e-15 8.6014997e-25\n",
            "  2.2089310e-09 1.0013806e-07 3.2214337e-27 1.6266704e-06 2.9055574e-09\n",
            "  7.7838259e-19 3.4924103e-18 4.7726536e-12 4.6481594e-29 3.7487494e-05\n",
            "  7.5011622e-13 3.0392304e-09 6.3689448e-10 2.3672655e-21 2.2122237e-13\n",
            "  7.4367221e-11 3.9531640e-18 2.2036102e-18 1.1055599e-22 4.2225528e-22\n",
            "  3.9450500e-15 9.1476133e-09 3.3649648e-26 8.7455795e-05 6.3230624e-07\n",
            "  1.7068388e-16 6.1345578e-05 2.4236949e-10 4.4323727e-09 8.7358650e-15\n",
            "  8.6076426e-09 1.9663888e-16 6.9084223e-08 1.1691959e-13 1.8443088e-06\n",
            "  1.8788609e-14 2.6428232e-19 3.4757485e-04 2.2366557e-11]]\n",
            "Распознан пациент: 5\n",
            "Настоящий пациент: 5\n"
          ]
        }
      ]
    }
  ]
}