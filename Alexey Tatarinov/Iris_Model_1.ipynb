{
  "nbformat": 4,
  "nbformat_minor": 0,
  "metadata": {
    "colab": {
      "provenance": [],
      "collapsed_sections": [
        "zF9D5Fn2OSQW",
        "pPRqWB_Sbn8Q",
        "w-WCKvh-bPDH",
        "1Nuho1BTbdmf",
        "Uxl5sULeb-lO",
        "4Lqxbiargux7",
        "fZj6tvo1jSMm",
        "oWsHTIn-mpLM",
        "5mlB9DKVn8YP",
        "u6KmeXgXpNPy",
        "ffV1euwEpZ35",
        "7BTf7x3BrTyH",
        "LKz3yaLitD6k",
        "NtD32wzMsaNW",
        "I-yzUrQasG7b"
      ],
      "gpuType": "T4",
      "authorship_tag": "ABX9TyPVVDFiUn/AVOTfJmaQBDsq",
      "include_colab_link": true
    },
    "kernelspec": {
      "name": "python3",
      "display_name": "Python 3"
    },
    "language_info": {
      "name": "python"
    },
    "accelerator": "GPU",
    "gpuClass": "standard"
  },
  "cells": [
    {
      "cell_type": "markdown",
      "metadata": {
        "id": "view-in-github",
        "colab_type": "text"
      },
      "source": [
        "<a href=\"https://colab.research.google.com/github/Untick/IrisID_gr2/blob/Alexey-Tatarinov-folder/Alexey%20Tatarinov/Iris_Model_1.ipynb\" target=\"_parent\"><img src=\"https://colab.research.google.com/assets/colab-badge.svg\" alt=\"Open In Colab\"/></a>"
      ]
    },
    {
      "cell_type": "markdown",
      "source": [
        "# **Импорт библиотек и модулей**"
      ],
      "metadata": {
        "id": "zF9D5Fn2OSQW"
      }
    },
    {
      "cell_type": "code",
      "execution_count": null,
      "metadata": {
        "colab": {
          "base_uri": "https://localhost:8080/"
        },
        "id": "YzRcKkv4LE6P",
        "outputId": "ed55df00-9d02-4c4b-fca8-79e6efd14073"
      },
      "outputs": [
        {
          "output_type": "stream",
          "name": "stdout",
          "text": [
            "Looking in indexes: https://pypi.org/simple, https://us-python.pkg.dev/colab-wheels/public/simple/\n",
            "Collecting autokeras\n",
            "  Downloading autokeras-1.1.0-py3-none-any.whl (148 kB)\n",
            "\u001b[2K     \u001b[90m━━━━━━━━━━━━━━━━━━━━━━━━━━━━━━━━━━━━━━\u001b[0m \u001b[32m148.6/148.6 kB\u001b[0m \u001b[31m10.5 MB/s\u001b[0m eta \u001b[36m0:00:00\u001b[0m\n",
            "\u001b[?25hRequirement already satisfied: packaging in /usr/local/lib/python3.10/dist-packages (from autokeras) (23.1)\n",
            "Requirement already satisfied: tensorflow>=2.8.0 in /usr/local/lib/python3.10/dist-packages (from autokeras) (2.12.0)\n",
            "Collecting keras-tuner>=1.1.0 (from autokeras)\n",
            "  Downloading keras_tuner-1.3.5-py3-none-any.whl (176 kB)\n",
            "\u001b[2K     \u001b[90m━━━━━━━━━━━━━━━━━━━━━━━━━━━━━━━━━━━━━━\u001b[0m \u001b[32m176.1/176.1 kB\u001b[0m \u001b[31m22.9 MB/s\u001b[0m eta \u001b[36m0:00:00\u001b[0m\n",
            "\u001b[?25hCollecting keras-nlp>=0.4.0 (from autokeras)\n",
            "  Downloading keras_nlp-0.5.2-py3-none-any.whl (527 kB)\n",
            "\u001b[2K     \u001b[90m━━━━━━━━━━━━━━━━━━━━━━━━━━━━━━━━━━━━━━\u001b[0m \u001b[32m527.7/527.7 kB\u001b[0m \u001b[31m35.1 MB/s\u001b[0m eta \u001b[36m0:00:00\u001b[0m\n",
            "\u001b[?25hRequirement already satisfied: pandas in /usr/local/lib/python3.10/dist-packages (from autokeras) (1.5.3)\n",
            "Requirement already satisfied: absl-py in /usr/local/lib/python3.10/dist-packages (from keras-nlp>=0.4.0->autokeras) (1.4.0)\n",
            "Requirement already satisfied: numpy in /usr/local/lib/python3.10/dist-packages (from keras-nlp>=0.4.0->autokeras) (1.22.4)\n",
            "Collecting tensorflow-text (from keras-nlp>=0.4.0->autokeras)\n",
            "  Downloading tensorflow_text-2.12.1-cp310-cp310-manylinux_2_17_x86_64.manylinux2014_x86_64.whl (6.0 MB)\n",
            "\u001b[2K     \u001b[90m━━━━━━━━━━━━━━━━━━━━━━━━━━━━━━━━━━━━━━━━\u001b[0m \u001b[32m6.0/6.0 MB\u001b[0m \u001b[31m106.8 MB/s\u001b[0m eta \u001b[36m0:00:00\u001b[0m\n",
            "\u001b[?25hRequirement already satisfied: requests in /usr/local/lib/python3.10/dist-packages (from keras-tuner>=1.1.0->autokeras) (2.27.1)\n",
            "Collecting kt-legacy (from keras-tuner>=1.1.0->autokeras)\n",
            "  Downloading kt_legacy-1.0.5-py3-none-any.whl (9.6 kB)\n",
            "Requirement already satisfied: astunparse>=1.6.0 in /usr/local/lib/python3.10/dist-packages (from tensorflow>=2.8.0->autokeras) (1.6.3)\n",
            "Requirement already satisfied: flatbuffers>=2.0 in /usr/local/lib/python3.10/dist-packages (from tensorflow>=2.8.0->autokeras) (23.3.3)\n",
            "Requirement already satisfied: gast<=0.4.0,>=0.2.1 in /usr/local/lib/python3.10/dist-packages (from tensorflow>=2.8.0->autokeras) (0.4.0)\n",
            "Requirement already satisfied: google-pasta>=0.1.1 in /usr/local/lib/python3.10/dist-packages (from tensorflow>=2.8.0->autokeras) (0.2.0)\n",
            "Requirement already satisfied: grpcio<2.0,>=1.24.3 in /usr/local/lib/python3.10/dist-packages (from tensorflow>=2.8.0->autokeras) (1.54.0)\n",
            "Requirement already satisfied: h5py>=2.9.0 in /usr/local/lib/python3.10/dist-packages (from tensorflow>=2.8.0->autokeras) (3.8.0)\n",
            "Requirement already satisfied: jax>=0.3.15 in /usr/local/lib/python3.10/dist-packages (from tensorflow>=2.8.0->autokeras) (0.4.8)\n",
            "Requirement already satisfied: keras<2.13,>=2.12.0 in /usr/local/lib/python3.10/dist-packages (from tensorflow>=2.8.0->autokeras) (2.12.0)\n",
            "Requirement already satisfied: libclang>=13.0.0 in /usr/local/lib/python3.10/dist-packages (from tensorflow>=2.8.0->autokeras) (16.0.0)\n",
            "Requirement already satisfied: opt-einsum>=2.3.2 in /usr/local/lib/python3.10/dist-packages (from tensorflow>=2.8.0->autokeras) (3.3.0)\n",
            "Requirement already satisfied: protobuf!=4.21.0,!=4.21.1,!=4.21.2,!=4.21.3,!=4.21.4,!=4.21.5,<5.0.0dev,>=3.20.3 in /usr/local/lib/python3.10/dist-packages (from tensorflow>=2.8.0->autokeras) (3.20.3)\n",
            "Requirement already satisfied: setuptools in /usr/local/lib/python3.10/dist-packages (from tensorflow>=2.8.0->autokeras) (67.7.2)\n",
            "Requirement already satisfied: six>=1.12.0 in /usr/local/lib/python3.10/dist-packages (from tensorflow>=2.8.0->autokeras) (1.16.0)\n",
            "Requirement already satisfied: tensorboard<2.13,>=2.12 in /usr/local/lib/python3.10/dist-packages (from tensorflow>=2.8.0->autokeras) (2.12.2)\n",
            "Requirement already satisfied: tensorflow-estimator<2.13,>=2.12.0 in /usr/local/lib/python3.10/dist-packages (from tensorflow>=2.8.0->autokeras) (2.12.0)\n",
            "Requirement already satisfied: termcolor>=1.1.0 in /usr/local/lib/python3.10/dist-packages (from tensorflow>=2.8.0->autokeras) (2.3.0)\n",
            "Requirement already satisfied: typing-extensions>=3.6.6 in /usr/local/lib/python3.10/dist-packages (from tensorflow>=2.8.0->autokeras) (4.5.0)\n",
            "Requirement already satisfied: wrapt<1.15,>=1.11.0 in /usr/local/lib/python3.10/dist-packages (from tensorflow>=2.8.0->autokeras) (1.14.1)\n",
            "Requirement already satisfied: tensorflow-io-gcs-filesystem>=0.23.1 in /usr/local/lib/python3.10/dist-packages (from tensorflow>=2.8.0->autokeras) (0.32.0)\n",
            "Requirement already satisfied: python-dateutil>=2.8.1 in /usr/local/lib/python3.10/dist-packages (from pandas->autokeras) (2.8.2)\n",
            "Requirement already satisfied: pytz>=2020.1 in /usr/local/lib/python3.10/dist-packages (from pandas->autokeras) (2022.7.1)\n",
            "Requirement already satisfied: wheel<1.0,>=0.23.0 in /usr/local/lib/python3.10/dist-packages (from astunparse>=1.6.0->tensorflow>=2.8.0->autokeras) (0.40.0)\n",
            "Requirement already satisfied: ml-dtypes>=0.0.3 in /usr/local/lib/python3.10/dist-packages (from jax>=0.3.15->tensorflow>=2.8.0->autokeras) (0.1.0)\n",
            "Requirement already satisfied: scipy>=1.7 in /usr/local/lib/python3.10/dist-packages (from jax>=0.3.15->tensorflow>=2.8.0->autokeras) (1.10.1)\n",
            "Requirement already satisfied: google-auth<3,>=1.6.3 in /usr/local/lib/python3.10/dist-packages (from tensorboard<2.13,>=2.12->tensorflow>=2.8.0->autokeras) (2.17.3)\n",
            "Requirement already satisfied: google-auth-oauthlib<1.1,>=0.5 in /usr/local/lib/python3.10/dist-packages (from tensorboard<2.13,>=2.12->tensorflow>=2.8.0->autokeras) (1.0.0)\n",
            "Requirement already satisfied: markdown>=2.6.8 in /usr/local/lib/python3.10/dist-packages (from tensorboard<2.13,>=2.12->tensorflow>=2.8.0->autokeras) (3.4.3)\n",
            "Requirement already satisfied: tensorboard-data-server<0.8.0,>=0.7.0 in /usr/local/lib/python3.10/dist-packages (from tensorboard<2.13,>=2.12->tensorflow>=2.8.0->autokeras) (0.7.0)\n",
            "Requirement already satisfied: tensorboard-plugin-wit>=1.6.0 in /usr/local/lib/python3.10/dist-packages (from tensorboard<2.13,>=2.12->tensorflow>=2.8.0->autokeras) (1.8.1)\n",
            "Requirement already satisfied: werkzeug>=1.0.1 in /usr/local/lib/python3.10/dist-packages (from tensorboard<2.13,>=2.12->tensorflow>=2.8.0->autokeras) (2.3.0)\n",
            "Requirement already satisfied: urllib3<1.27,>=1.21.1 in /usr/local/lib/python3.10/dist-packages (from requests->keras-tuner>=1.1.0->autokeras) (1.26.15)\n",
            "Requirement already satisfied: certifi>=2017.4.17 in /usr/local/lib/python3.10/dist-packages (from requests->keras-tuner>=1.1.0->autokeras) (2022.12.7)\n",
            "Requirement already satisfied: charset-normalizer~=2.0.0 in /usr/local/lib/python3.10/dist-packages (from requests->keras-tuner>=1.1.0->autokeras) (2.0.12)\n",
            "Requirement already satisfied: idna<4,>=2.5 in /usr/local/lib/python3.10/dist-packages (from requests->keras-tuner>=1.1.0->autokeras) (3.4)\n",
            "Requirement already satisfied: tensorflow-hub>=0.8.0 in /usr/local/lib/python3.10/dist-packages (from tensorflow-text->keras-nlp>=0.4.0->autokeras) (0.13.0)\n",
            "Requirement already satisfied: cachetools<6.0,>=2.0.0 in /usr/local/lib/python3.10/dist-packages (from google-auth<3,>=1.6.3->tensorboard<2.13,>=2.12->tensorflow>=2.8.0->autokeras) (5.3.0)\n",
            "Requirement already satisfied: pyasn1-modules>=0.2.1 in /usr/local/lib/python3.10/dist-packages (from google-auth<3,>=1.6.3->tensorboard<2.13,>=2.12->tensorflow>=2.8.0->autokeras) (0.3.0)\n",
            "Requirement already satisfied: rsa<5,>=3.1.4 in /usr/local/lib/python3.10/dist-packages (from google-auth<3,>=1.6.3->tensorboard<2.13,>=2.12->tensorflow>=2.8.0->autokeras) (4.9)\n",
            "Requirement already satisfied: requests-oauthlib>=0.7.0 in /usr/local/lib/python3.10/dist-packages (from google-auth-oauthlib<1.1,>=0.5->tensorboard<2.13,>=2.12->tensorflow>=2.8.0->autokeras) (1.3.1)\n",
            "Requirement already satisfied: MarkupSafe>=2.1.1 in /usr/local/lib/python3.10/dist-packages (from werkzeug>=1.0.1->tensorboard<2.13,>=2.12->tensorflow>=2.8.0->autokeras) (2.1.2)\n",
            "Requirement already satisfied: pyasn1<0.6.0,>=0.4.6 in /usr/local/lib/python3.10/dist-packages (from pyasn1-modules>=0.2.1->google-auth<3,>=1.6.3->tensorboard<2.13,>=2.12->tensorflow>=2.8.0->autokeras) (0.5.0)\n",
            "Requirement already satisfied: oauthlib>=3.0.0 in /usr/local/lib/python3.10/dist-packages (from requests-oauthlib>=0.7.0->google-auth-oauthlib<1.1,>=0.5->tensorboard<2.13,>=2.12->tensorflow>=2.8.0->autokeras) (3.2.2)\n",
            "Installing collected packages: kt-legacy, keras-tuner, tensorflow-text, keras-nlp, autokeras\n",
            "Successfully installed autokeras-1.1.0 keras-nlp-0.5.2 keras-tuner-1.3.5 kt-legacy-1.0.5 tensorflow-text-2.12.1\n",
            "Looking in indexes: https://pypi.org/simple, https://us-python.pkg.dev/colab-wheels/public/simple/\n",
            "Collecting Augmentor\n",
            "  Downloading Augmentor-0.2.12-py2.py3-none-any.whl (38 kB)\n",
            "Requirement already satisfied: Pillow>=5.2.0 in /usr/local/lib/python3.10/dist-packages (from Augmentor) (8.4.0)\n",
            "Requirement already satisfied: tqdm>=4.9.0 in /usr/local/lib/python3.10/dist-packages (from Augmentor) (4.65.0)\n",
            "Requirement already satisfied: numpy>=1.11.0 in /usr/local/lib/python3.10/dist-packages (from Augmentor) (1.22.4)\n",
            "Installing collected packages: Augmentor\n",
            "Successfully installed Augmentor-0.2.12\n"
          ]
        }
      ],
      "source": [
        "import gdown\n",
        "\n",
        "import os\n",
        "\n",
        "! pip install autokeras\n",
        "import autokeras as ak\n",
        "\n",
        "! pip install Augmentor\n",
        "import Augmentor\n",
        "\n",
        "import zipfile\n",
        "\n",
        "import numpy as np\n",
        "\n",
        "import tensorflow as tf\n",
        "\n",
        "from tensorflow.keras.models import Sequential, load_model\n",
        "\n",
        "from tensorflow.keras.layers import (Dense, Conv2D, MaxPooling2D, Flatten, \n",
        "                                     Dropout, BatchNormalization, Rescaling,\n",
        "                                     GlobalAveragePooling2D, RandomFlip, Input,\n",
        "                                     RandomRotation, RandomZoom, RandomContrast)\n",
        "\n",
        "from tensorflow.keras.applications import VGG19, ResNet50, Xception\n",
        "\n",
        "# from tensorflow.keras.applications.resnet50 import ResNet50, preprocess_input\n",
        "\n",
        "from tensorflow.keras.utils import to_categorical\n",
        "\n",
        "from tensorflow.keras.preprocessing.image import (ImageDataGenerator, \n",
        "                                                 DirectoryIterator)\n",
        "\n",
        "from tensorflow.keras.optimizers import Adam\n",
        "\n",
        "from tensorflow.keras.callbacks import ModelCheckpoint\n",
        "\n",
        "from sklearn.model_selection import train_test_split\n",
        "\n",
        "from sklearn.metrics import confusion_matrix, ConfusionMatrixDisplay\n",
        "\n",
        "from sklearn.preprocessing import LabelEncoder\n",
        "\n",
        "from sklearn.preprocessing import OneHotEncoder\n",
        "\n",
        "from PIL import Image, ImageEnhance\n",
        "\n",
        "import matplotlib.pyplot as plt\n",
        "\n",
        "%matplotlib inline"
      ]
    },
    {
      "cell_type": "markdown",
      "source": [
        "# **Подготовка датасета**"
      ],
      "metadata": {
        "id": "pPRqWB_Sbn8Q"
      }
    },
    {
      "cell_type": "markdown",
      "source": [
        "## **Задание гиперпараметров**"
      ],
      "metadata": {
        "id": "w-WCKvh-bPDH"
      }
    },
    {
      "cell_type": "code",
      "source": [
        "TRAIN_PATH          = '/content/drive/MyDrive/iris_ds'\n",
        "TRAIN_PATH_AUG      = '/content/drive/MyDrive/Iris'\n",
        "\n",
        "VAL_SPLIT           = 0.2\n",
        "\n",
        "IMG_WIDTH_1         = 160\n",
        "IMG_HEIGHT_1        = 120\n",
        "IMG_WIDTH_2         = 80\n",
        "IMG_HEIGHT_2        = 60\n",
        "IMG_CHANNELS        = 3\n",
        "\n",
        "ROTATION_RANGE      = 10\n",
        "WIDTH_SHIFT_RANGE   = 0.1\n",
        "HEIGHT_SHIFT_RANGE  = 0.1\n",
        "ZOOM_RANGE          = 0.1\n",
        "BRIGHTNESS_RANGE    = (0.5, 1.3)\n",
        "HORIZONTAL_FLIP     = False\n",
        "\n",
        "EPOCHS              = 20\n",
        "BATCH_SIZE          = 24\n",
        "OPTIMIZER_LEGACY    = tf.keras.optimizers.legacy.Adam(0.0001)\n",
        "OPTIMIZER           = tf.keras.optimizers.Adam(0.0001)"
      ],
      "metadata": {
        "id": "gSCENm0FbPQa"
      },
      "execution_count": null,
      "outputs": []
    },
    {
      "cell_type": "markdown",
      "source": [
        "## **Загрузка датасета**"
      ],
      "metadata": {
        "id": "1Nuho1BTbdmf"
      }
    },
    {
      "cell_type": "code",
      "source": [
        "from google.colab import drive\n",
        "drive.mount('/content/drive')"
      ],
      "metadata": {
        "colab": {
          "base_uri": "https://localhost:8080/"
        },
        "id": "PZYmJsQbbdzF",
        "outputId": "928801ae-75aa-40e8-8998-cd1bbc8722e4"
      },
      "execution_count": null,
      "outputs": [
        {
          "output_type": "stream",
          "name": "stdout",
          "text": [
            "Mounted at /content/drive\n"
          ]
        }
      ]
    },
    {
      "cell_type": "markdown",
      "source": [
        "## **Аугментация**"
      ],
      "metadata": {
        "id": "Uxl5sULeb-lO"
      }
    },
    {
      "cell_type": "code",
      "source": [
        "for folder in os.listdir(TRAIN_PATH):\n",
        "    if os.path.isdir(os.path.join(TRAIN_PATH, folder)):\n",
        "        # Создаем генератор аугментации для каждой папки\n",
        "        p = Augmentor.Pipeline(os.path.join(TRAIN_PATH, folder), output_directory=os.path.join(f'/content/drive/MyDrive/Iris/{folder}'))\n",
        "        # Добавляем операции аугментации\n",
        "        # Вращение изображения\n",
        "        p.rotate(probability=0.2, max_left_rotation=10, max_right_rotation=10)\n",
        "        # увеличение\n",
        "        #p.zoom(probability=0.2, min_factor=1.1, max_factor=1.2)\n",
        "        # Обрезание изображения\n",
        "        p.crop_random(probability=0.1, percentage_area=0.95)\n",
        "        # Изменение яркости\n",
        "        p.random_brightness(probability=0.5, min_factor=0.7, max_factor=1.3)\n",
        "        # Изменение контрасности\n",
        "        p.random_contrast(probability=0.5, min_factor=0.7, max_factor=1.3)\n",
        "        # Применяем аугментацию\n",
        "        p.sample(50)\n",
        "print('Аугментация завершена')"
      ],
      "metadata": {
        "colab": {
          "base_uri": "https://localhost:8080/"
        },
        "id": "G08WRtGbb-1R",
        "outputId": "f266a4f5-ad8e-4831-a78b-9bad00b4fb92"
      },
      "execution_count": null,
      "outputs": [
        {
          "output_type": "stream",
          "name": "stdout",
          "text": [
            "Initialised with 6 image(s) found.\n",
            "Output directory set to /content/drive/MyDrive/Iris/client_12."
          ]
        },
        {
          "output_type": "stream",
          "name": "stderr",
          "text": [
            "Processing <PIL.Image.Image image mode=RGB size=768x576 at 0x7FBAAA70E710>: 100%|██████████| 50/50 [00:07<00:00,  6.70 Samples/s]\n"
          ]
        },
        {
          "output_type": "stream",
          "name": "stdout",
          "text": [
            "Initialised with 6 image(s) found.\n",
            "Output directory set to /content/drive/MyDrive/Iris/client_15."
          ]
        },
        {
          "output_type": "stream",
          "name": "stderr",
          "text": [
            "Processing <PIL.Image.Image image mode=RGB size=768x576 at 0x7FBAAB331030>: 100%|██████████| 50/50 [00:07<00:00,  6.86 Samples/s]\n"
          ]
        },
        {
          "output_type": "stream",
          "name": "stdout",
          "text": [
            "Initialised with 6 image(s) found.\n",
            "Output directory set to /content/drive/MyDrive/Iris/client_23."
          ]
        },
        {
          "output_type": "stream",
          "name": "stderr",
          "text": [
            "Processing <PIL.Image.Image image mode=RGB size=768x576 at 0x7FBAAA70E680>: 100%|██████████| 50/50 [00:08<00:00,  5.99 Samples/s]\n"
          ]
        },
        {
          "output_type": "stream",
          "name": "stdout",
          "text": [
            "Initialised with 6 image(s) found.\n",
            "Output directory set to /content/drive/MyDrive/Iris/client_13."
          ]
        },
        {
          "output_type": "stream",
          "name": "stderr",
          "text": [
            "Processing <PIL.Image.Image image mode=RGB size=729x547 at 0x7FBAAA8FF2B0>: 100%|██████████| 50/50 [00:07<00:00,  6.75 Samples/s]\n"
          ]
        },
        {
          "output_type": "stream",
          "name": "stdout",
          "text": [
            "Initialised with 6 image(s) found.\n",
            "Output directory set to /content/drive/MyDrive/Iris/client_40."
          ]
        },
        {
          "output_type": "stream",
          "name": "stderr",
          "text": [
            "Processing <PIL.Image.Image image mode=RGB size=768x576 at 0x7FBAAA8FFCD0>: 100%|██████████| 50/50 [00:08<00:00,  6.05 Samples/s]\n"
          ]
        },
        {
          "output_type": "stream",
          "name": "stdout",
          "text": [
            "Initialised with 6 image(s) found.\n",
            "Output directory set to /content/drive/MyDrive/Iris/client_49."
          ]
        },
        {
          "output_type": "stream",
          "name": "stderr",
          "text": [
            "Processing <PIL.Image.Image image mode=RGB size=729x547 at 0x7FBAAA8FEBC0>: 100%|██████████| 50/50 [00:07<00:00,  7.09 Samples/s]\n"
          ]
        },
        {
          "output_type": "stream",
          "name": "stdout",
          "text": [
            "Initialised with 6 image(s) found.\n",
            "Output directory set to /content/drive/MyDrive/Iris/client_25."
          ]
        },
        {
          "output_type": "stream",
          "name": "stderr",
          "text": [
            "Processing <PIL.Image.Image image mode=RGB size=768x576 at 0x7FBAAA70DF60>: 100%|██████████| 50/50 [00:08<00:00,  6.15 Samples/s]\n"
          ]
        },
        {
          "output_type": "stream",
          "name": "stdout",
          "text": [
            "Initialised with 6 image(s) found.\n",
            "Output directory set to /content/drive/MyDrive/Iris/client_22."
          ]
        },
        {
          "output_type": "stream",
          "name": "stderr",
          "text": [
            "Processing <PIL.Image.Image image mode=RGB size=768x576 at 0x7FBAAA8FF700>: 100%|██████████| 50/50 [00:06<00:00,  7.17 Samples/s]\n"
          ]
        },
        {
          "output_type": "stream",
          "name": "stdout",
          "text": [
            "Initialised with 6 image(s) found.\n",
            "Output directory set to /content/drive/MyDrive/Iris/client_47."
          ]
        },
        {
          "output_type": "stream",
          "name": "stderr",
          "text": [
            "Processing <PIL.Image.Image image mode=RGB size=729x547 at 0x7FBB280B0FD0>: 100%|██████████| 50/50 [00:09<00:00,  5.47 Samples/s]\n"
          ]
        },
        {
          "output_type": "stream",
          "name": "stdout",
          "text": [
            "Initialised with 6 image(s) found.\n",
            "Output directory set to /content/drive/MyDrive/Iris/client_14."
          ]
        },
        {
          "output_type": "stream",
          "name": "stderr",
          "text": [
            "Processing <PIL.Image.Image image mode=RGB size=729x547 at 0x7FBAAB2E7DF0>: 100%|██████████| 50/50 [00:06<00:00,  7.85 Samples/s]\n"
          ]
        },
        {
          "output_type": "stream",
          "name": "stdout",
          "text": [
            "Initialised with 6 image(s) found.\n",
            "Output directory set to /content/drive/MyDrive/Iris/client_48."
          ]
        },
        {
          "output_type": "stream",
          "name": "stderr",
          "text": [
            "Processing <PIL.Image.Image image mode=RGB size=768x576 at 0x7FBAAA8FFB50>: 100%|██████████| 50/50 [00:08<00:00,  5.81 Samples/s]\n"
          ]
        },
        {
          "output_type": "stream",
          "name": "stdout",
          "text": [
            "Initialised with 6 image(s) found.\n",
            "Output directory set to /content/drive/MyDrive/Iris/client_64."
          ]
        },
        {
          "output_type": "stream",
          "name": "stderr",
          "text": [
            "Processing <PIL.Image.Image image mode=RGB size=768x576 at 0x7FBAAA8D8DC0>: 100%|██████████| 50/50 [00:07<00:00,  6.74 Samples/s]\n"
          ]
        },
        {
          "output_type": "stream",
          "name": "stdout",
          "text": [
            "Initialised with 6 image(s) found.\n",
            "Output directory set to /content/drive/MyDrive/Iris/client_8."
          ]
        },
        {
          "output_type": "stream",
          "name": "stderr",
          "text": [
            "Processing <PIL.Image.Image image mode=RGB size=768x576 at 0x7FBAAA8D8820>: 100%|██████████| 50/50 [00:08<00:00,  5.59 Samples/s]\n"
          ]
        },
        {
          "output_type": "stream",
          "name": "stdout",
          "text": [
            "Initialised with 6 image(s) found.\n",
            "Output directory set to /content/drive/MyDrive/Iris/client_6."
          ]
        },
        {
          "output_type": "stream",
          "name": "stderr",
          "text": [
            "Processing <PIL.PngImagePlugin.PngImageFile image mode=RGB size=768x576 at 0x7FBAAA855C60>: 100%|██████████| 50/50 [00:06<00:00,  7.17 Samples/s]\n"
          ]
        },
        {
          "output_type": "stream",
          "name": "stdout",
          "text": [
            "Initialised with 6 image(s) found.\n",
            "Output directory set to /content/drive/MyDrive/Iris/client_7."
          ]
        },
        {
          "output_type": "stream",
          "name": "stderr",
          "text": [
            "Processing <PIL.Image.Image image mode=RGB size=768x576 at 0x7FBAAA70E170>: 100%|██████████| 50/50 [00:09<00:00,  5.45 Samples/s]\n"
          ]
        },
        {
          "output_type": "stream",
          "name": "stdout",
          "text": [
            "Initialised with 6 image(s) found.\n",
            "Output directory set to /content/drive/MyDrive/Iris/client_9."
          ]
        },
        {
          "output_type": "stream",
          "name": "stderr",
          "text": [
            "Processing <PIL.Image.Image image mode=RGB size=729x547 at 0x7FBAAA8D8580>: 100%|██████████| 50/50 [00:06<00:00,  7.39 Samples/s]\n"
          ]
        },
        {
          "output_type": "stream",
          "name": "stdout",
          "text": [
            "Initialised with 6 image(s) found.\n",
            "Output directory set to /content/drive/MyDrive/Iris/client_46."
          ]
        },
        {
          "output_type": "stream",
          "name": "stderr",
          "text": [
            "Processing <PIL.Image.Image image mode=RGB size=768x576 at 0x7FBAAA70EE60>: 100%|██████████| 50/50 [00:08<00:00,  5.62 Samples/s]\n"
          ]
        },
        {
          "output_type": "stream",
          "name": "stdout",
          "text": [
            "Initialised with 6 image(s) found.\n",
            "Output directory set to /content/drive/MyDrive/Iris/client_1."
          ]
        },
        {
          "output_type": "stream",
          "name": "stderr",
          "text": [
            "Processing <PIL.PngImagePlugin.PngImageFile image mode=RGB size=768x576 at 0x7FBAAB2E6A70>: 100%|██████████| 50/50 [00:07<00:00,  6.70 Samples/s]\n"
          ]
        },
        {
          "output_type": "stream",
          "name": "stdout",
          "text": [
            "Initialised with 6 image(s) found.\n",
            "Output directory set to /content/drive/MyDrive/Iris/client_24."
          ]
        },
        {
          "output_type": "stream",
          "name": "stderr",
          "text": [
            "Processing <PIL.Image.Image image mode=RGB size=729x547 at 0x7FBAAA741510>: 100%|██████████| 50/50 [00:08<00:00,  5.98 Samples/s]\n"
          ]
        },
        {
          "output_type": "stream",
          "name": "stdout",
          "text": [
            "Initialised with 6 image(s) found.\n",
            "Output directory set to /content/drive/MyDrive/Iris/client_41."
          ]
        },
        {
          "output_type": "stream",
          "name": "stderr",
          "text": [
            "Processing <PIL.Image.Image image mode=RGB size=729x547 at 0x7FBAAA8D8580>: 100%|██████████| 50/50 [00:06<00:00,  7.14 Samples/s]\n"
          ]
        },
        {
          "output_type": "stream",
          "name": "stdout",
          "text": [
            "Initialised with 6 image(s) found.\n",
            "Output directory set to /content/drive/MyDrive/Iris/client_30."
          ]
        },
        {
          "output_type": "stream",
          "name": "stderr",
          "text": [
            "Processing <PIL.PngImagePlugin.PngImageFile image mode=RGB size=768x576 at 0x7FBAAB24F550>: 100%|██████████| 50/50 [00:07<00:00,  6.26 Samples/s]\n"
          ]
        },
        {
          "output_type": "stream",
          "name": "stdout",
          "text": [
            "Initialised with 6 image(s) found.\n",
            "Output directory set to /content/drive/MyDrive/Iris/client_37."
          ]
        },
        {
          "output_type": "stream",
          "name": "stderr",
          "text": [
            "Processing <PIL.Image.Image image mode=RGB size=768x576 at 0x7FBAAA8DA650>: 100%|██████████| 50/50 [00:07<00:00,  6.59 Samples/s]\n"
          ]
        },
        {
          "output_type": "stream",
          "name": "stdout",
          "text": [
            "Initialised with 6 image(s) found.\n",
            "Output directory set to /content/drive/MyDrive/Iris/client_63."
          ]
        },
        {
          "output_type": "stream",
          "name": "stderr",
          "text": [
            "Processing <PIL.Image.Image image mode=RGB size=768x576 at 0x7FBAAB333550>: 100%|██████████| 50/50 [00:07<00:00,  6.46 Samples/s]\n"
          ]
        },
        {
          "output_type": "stream",
          "name": "stdout",
          "text": [
            "Initialised with 6 image(s) found.\n",
            "Output directory set to /content/drive/MyDrive/Iris/client_55."
          ]
        },
        {
          "output_type": "stream",
          "name": "stderr",
          "text": [
            "Processing <PIL.Image.Image image mode=RGB size=768x576 at 0x7FBAAA8D86A0>: 100%|██████████| 50/50 [00:07<00:00,  6.55 Samples/s]\n"
          ]
        },
        {
          "output_type": "stream",
          "name": "stdout",
          "text": [
            "Initialised with 6 image(s) found.\n",
            "Output directory set to /content/drive/MyDrive/Iris/client_39."
          ]
        },
        {
          "output_type": "stream",
          "name": "stderr",
          "text": [
            "Processing <PIL.Image.Image image mode=RGB size=768x576 at 0x7FBAAB333550>: 100%|██████████| 50/50 [00:06<00:00,  7.95 Samples/s]\n"
          ]
        },
        {
          "output_type": "stream",
          "name": "stdout",
          "text": [
            "Initialised with 6 image(s) found.\n",
            "Output directory set to /content/drive/MyDrive/Iris/client_62."
          ]
        },
        {
          "output_type": "stream",
          "name": "stderr",
          "text": [
            "Processing <PIL.Image.Image image mode=RGB size=768x576 at 0x7FBAAA856DD0>: 100%|██████████| 50/50 [00:08<00:00,  6.13 Samples/s]\n"
          ]
        },
        {
          "output_type": "stream",
          "name": "stdout",
          "text": [
            "Initialised with 6 image(s) found.\n",
            "Output directory set to /content/drive/MyDrive/Iris/client_31."
          ]
        },
        {
          "output_type": "stream",
          "name": "stderr",
          "text": [
            "Processing <PIL.Image.Image image mode=RGB size=768x576 at 0x7FBAAA7401F0>: 100%|██████████| 50/50 [00:07<00:00,  6.96 Samples/s]\n"
          ]
        },
        {
          "output_type": "stream",
          "name": "stdout",
          "text": [
            "Initialised with 6 image(s) found.\n",
            "Output directory set to /content/drive/MyDrive/Iris/client_54."
          ]
        },
        {
          "output_type": "stream",
          "name": "stderr",
          "text": [
            "Processing <PIL.Image.Image image mode=RGB size=729x547 at 0x7FBAAA718040>: 100%|██████████| 50/50 [00:07<00:00,  6.56 Samples/s]\n"
          ]
        },
        {
          "output_type": "stream",
          "name": "stdout",
          "text": [
            "Initialised with 6 image(s) found.\n",
            "Output directory set to /content/drive/MyDrive/Iris/client_53."
          ]
        },
        {
          "output_type": "stream",
          "name": "stderr",
          "text": [
            "Processing <PIL.Image.Image image mode=RGB size=768x576 at 0x7FBAAB2AB0A0>: 100%|██████████| 50/50 [00:07<00:00,  6.51 Samples/s]\n"
          ]
        },
        {
          "output_type": "stream",
          "name": "stdout",
          "text": [
            "Initialised with 6 image(s) found.\n",
            "Output directory set to /content/drive/MyDrive/Iris/client_52."
          ]
        },
        {
          "output_type": "stream",
          "name": "stderr",
          "text": [
            "Processing <PIL.Image.Image image mode=RGB size=768x576 at 0x7FBAAB2C2710>: 100%|██████████| 50/50 [00:08<00:00,  6.14 Samples/s]\n"
          ]
        },
        {
          "output_type": "stream",
          "name": "stdout",
          "text": [
            "Initialised with 6 image(s) found.\n",
            "Output directory set to /content/drive/MyDrive/Iris/client_26."
          ]
        },
        {
          "output_type": "stream",
          "name": "stderr",
          "text": [
            "Processing <PIL.PngImagePlugin.PngImageFile image mode=RGB size=768x576 at 0x7FBAAA70C880>: 100%|██████████| 50/50 [00:07<00:00,  6.49 Samples/s]\n"
          ]
        },
        {
          "output_type": "stream",
          "name": "stdout",
          "text": [
            "Initialised with 6 image(s) found.\n",
            "Output directory set to /content/drive/MyDrive/Iris/client_28."
          ]
        },
        {
          "output_type": "stream",
          "name": "stderr",
          "text": [
            "Processing <PIL.Image.Image image mode=RGB size=768x576 at 0x7FBAAA719180>: 100%|██████████| 50/50 [00:09<00:00,  5.42 Samples/s]\n"
          ]
        },
        {
          "output_type": "stream",
          "name": "stdout",
          "text": [
            "Initialised with 6 image(s) found.\n",
            "Output directory set to /content/drive/MyDrive/Iris/client_17."
          ]
        },
        {
          "output_type": "stream",
          "name": "stderr",
          "text": [
            "Processing <PIL.Image.Image image mode=RGB size=768x576 at 0x7FBAAA75D150>: 100%|██████████| 50/50 [00:06<00:00,  7.87 Samples/s]\n"
          ]
        },
        {
          "output_type": "stream",
          "name": "stdout",
          "text": [
            "Initialised with 6 image(s) found.\n",
            "Output directory set to /content/drive/MyDrive/Iris/client_10."
          ]
        },
        {
          "output_type": "stream",
          "name": "stderr",
          "text": [
            "Processing <PIL.Image.Image image mode=RGB size=768x576 at 0x7FBAAA70DD80>: 100%|██████████| 50/50 [00:08<00:00,  6.13 Samples/s]\n"
          ]
        },
        {
          "output_type": "stream",
          "name": "stdout",
          "text": [
            "Initialised with 6 image(s) found.\n",
            "Output directory set to /content/drive/MyDrive/Iris/client_38."
          ]
        },
        {
          "output_type": "stream",
          "name": "stderr",
          "text": [
            "Processing <PIL.Image.Image image mode=RGB size=729x547 at 0x7FBAAA75C970>: 100%|██████████| 50/50 [00:06<00:00,  7.32 Samples/s]\n"
          ]
        },
        {
          "output_type": "stream",
          "name": "stdout",
          "text": [
            "Initialised with 6 image(s) found.\n",
            "Output directory set to /content/drive/MyDrive/Iris/client_43."
          ]
        },
        {
          "output_type": "stream",
          "name": "stderr",
          "text": [
            "Processing <PIL.Image.Image image mode=RGB size=768x576 at 0x7FBAAA74D900>: 100%|██████████| 50/50 [00:08<00:00,  5.92 Samples/s]\n"
          ]
        },
        {
          "output_type": "stream",
          "name": "stdout",
          "text": [
            "Initialised with 6 image(s) found.\n",
            "Output directory set to /content/drive/MyDrive/Iris/client_19."
          ]
        },
        {
          "output_type": "stream",
          "name": "stderr",
          "text": [
            "Processing <PIL.Image.Image image mode=RGB size=768x576 at 0x7FBAAA856DD0>: 100%|██████████| 50/50 [00:06<00:00,  7.61 Samples/s]\n"
          ]
        },
        {
          "output_type": "stream",
          "name": "stdout",
          "text": [
            "Initialised with 6 image(s) found.\n",
            "Output directory set to /content/drive/MyDrive/Iris/client_36."
          ]
        },
        {
          "output_type": "stream",
          "name": "stderr",
          "text": [
            "Processing <PIL.Image.Image image mode=RGB size=768x576 at 0x7FBAAA8545B0>: 100%|██████████| 50/50 [00:08<00:00,  5.97 Samples/s]\n"
          ]
        },
        {
          "output_type": "stream",
          "name": "stdout",
          "text": [
            "Initialised with 6 image(s) found.\n",
            "Output directory set to /content/drive/MyDrive/Iris/client_44."
          ]
        },
        {
          "output_type": "stream",
          "name": "stderr",
          "text": [
            "Processing <PIL.Image.Image image mode=RGB size=768x576 at 0x7FBAAA75FE20>: 100%|██████████| 50/50 [00:07<00:00,  7.00 Samples/s]\n"
          ]
        },
        {
          "output_type": "stream",
          "name": "stdout",
          "text": [
            "Initialised with 6 image(s) found.\n",
            "Output directory set to /content/drive/MyDrive/Iris/client_21."
          ]
        },
        {
          "output_type": "stream",
          "name": "stderr",
          "text": [
            "Processing <PIL.Image.Image image mode=RGB size=768x576 at 0x7FBAAA7779A0>: 100%|██████████| 50/50 [00:08<00:00,  5.59 Samples/s]\n"
          ]
        },
        {
          "output_type": "stream",
          "name": "stdout",
          "text": [
            "Initialised with 6 image(s) found.\n",
            "Output directory set to /content/drive/MyDrive/Iris/client_42."
          ]
        },
        {
          "output_type": "stream",
          "name": "stderr",
          "text": [
            "Processing <PIL.Image.Image image mode=RGB size=768x576 at 0x7FBAAA855900>: 100%|██████████| 50/50 [00:06<00:00,  7.29 Samples/s]\n"
          ]
        },
        {
          "output_type": "stream",
          "name": "stdout",
          "text": [
            "Initialised with 6 image(s) found.\n",
            "Output directory set to /content/drive/MyDrive/Iris/client_4."
          ]
        },
        {
          "output_type": "stream",
          "name": "stderr",
          "text": [
            "Processing <PIL.Image.Image image mode=RGB size=768x576 at 0x7FBAAA71BE50>: 100%|██████████| 50/50 [00:09<00:00,  5.53 Samples/s]\n"
          ]
        },
        {
          "output_type": "stream",
          "name": "stdout",
          "text": [
            "Initialised with 6 image(s) found.\n",
            "Output directory set to /content/drive/MyDrive/Iris/client_45."
          ]
        },
        {
          "output_type": "stream",
          "name": "stderr",
          "text": [
            "Processing <PIL.Image.Image image mode=RGB size=768x576 at 0x7FBAAA70C700>: 100%|██████████| 50/50 [00:06<00:00,  7.73 Samples/s]\n"
          ]
        },
        {
          "output_type": "stream",
          "name": "stdout",
          "text": [
            "Initialised with 6 image(s) found.\n",
            "Output directory set to /content/drive/MyDrive/Iris/client_20."
          ]
        },
        {
          "output_type": "stream",
          "name": "stderr",
          "text": [
            "Processing <PIL.Image.Image image mode=RGB size=768x576 at 0x7FBAAA856290>: 100%|██████████| 50/50 [00:08<00:00,  6.09 Samples/s]\n"
          ]
        },
        {
          "output_type": "stream",
          "name": "stdout",
          "text": [
            "Initialised with 6 image(s) found.\n",
            "Output directory set to /content/drive/MyDrive/Iris/client_3."
          ]
        },
        {
          "output_type": "stream",
          "name": "stderr",
          "text": [
            "Processing <PIL.Image.Image image mode=RGB size=768x576 at 0x7FBAAB2ABBB0>: 100%|██████████| 50/50 [00:06<00:00,  7.93 Samples/s]\n"
          ]
        },
        {
          "output_type": "stream",
          "name": "stdout",
          "text": [
            "Initialised with 6 image(s) found.\n",
            "Output directory set to /content/drive/MyDrive/Iris/client_16."
          ]
        },
        {
          "output_type": "stream",
          "name": "stderr",
          "text": [
            "Processing <PIL.Image.Image image mode=RGB size=768x576 at 0x7FBAAA75D420>: 100%|██████████| 50/50 [00:09<00:00,  5.49 Samples/s]\n"
          ]
        },
        {
          "output_type": "stream",
          "name": "stdout",
          "text": [
            "Initialised with 6 image(s) found.\n",
            "Output directory set to /content/drive/MyDrive/Iris/client_29."
          ]
        },
        {
          "output_type": "stream",
          "name": "stderr",
          "text": [
            "Processing <PIL.Image.Image image mode=RGB size=768x576 at 0x7FBAAA856830>: 100%|██████████| 50/50 [00:06<00:00,  7.39 Samples/s]\n"
          ]
        },
        {
          "output_type": "stream",
          "name": "stdout",
          "text": [
            "Initialised with 6 image(s) found.\n",
            "Output directory set to /content/drive/MyDrive/Iris/client_11."
          ]
        },
        {
          "output_type": "stream",
          "name": "stderr",
          "text": [
            "Processing <PIL.PngImagePlugin.PngImageFile image mode=RGB size=768x576 at 0x7FBAAA787C70>: 100%|██████████| 50/50 [00:08<00:00,  6.06 Samples/s]\n"
          ]
        },
        {
          "output_type": "stream",
          "name": "stdout",
          "text": [
            "Initialised with 6 image(s) found.\n",
            "Output directory set to /content/drive/MyDrive/Iris/client_27."
          ]
        },
        {
          "output_type": "stream",
          "name": "stderr",
          "text": [
            "Processing <PIL.Image.Image image mode=RGB size=768x576 at 0x7FBAAA7847C0>: 100%|██████████| 50/50 [00:06<00:00,  7.41 Samples/s]\n"
          ]
        },
        {
          "output_type": "stream",
          "name": "stdout",
          "text": [
            "Initialised with 6 image(s) found.\n",
            "Output directory set to /content/drive/MyDrive/Iris/client_18."
          ]
        },
        {
          "output_type": "stream",
          "name": "stderr",
          "text": [
            "Processing <PIL.Image.Image image mode=RGB size=729x547 at 0x7FBAAA75C430>: 100%|██████████| 50/50 [00:09<00:00,  5.51 Samples/s]\n"
          ]
        },
        {
          "output_type": "stream",
          "name": "stdout",
          "text": [
            "Initialised with 6 image(s) found.\n",
            "Output directory set to /content/drive/MyDrive/Iris/client_35."
          ]
        },
        {
          "output_type": "stream",
          "name": "stderr",
          "text": [
            "Processing <PIL.Image.Image image mode=RGB size=768x576 at 0x7FBAAA719480>: 100%|██████████| 50/50 [00:06<00:00,  7.70 Samples/s]\n"
          ]
        },
        {
          "output_type": "stream",
          "name": "stdout",
          "text": [
            "Initialised with 6 image(s) found.\n",
            "Output directory set to /content/drive/MyDrive/Iris/client_58."
          ]
        },
        {
          "output_type": "stream",
          "name": "stderr",
          "text": [
            "Processing <PIL.Image.Image image mode=RGB size=768x576 at 0x7FBAAA774F70>: 100%|██████████| 50/50 [00:09<00:00,  5.26 Samples/s]\n"
          ]
        },
        {
          "output_type": "stream",
          "name": "stdout",
          "text": [
            "Initialised with 6 image(s) found.\n",
            "Output directory set to /content/drive/MyDrive/Iris/client_60."
          ]
        },
        {
          "output_type": "stream",
          "name": "stderr",
          "text": [
            "Processing <PIL.Image.Image image mode=RGB size=768x576 at 0x7FBAAA75FAF0>: 100%|██████████| 50/50 [00:07<00:00,  7.05 Samples/s]\n"
          ]
        },
        {
          "output_type": "stream",
          "name": "stdout",
          "text": [
            "Initialised with 6 image(s) found.\n",
            "Output directory set to /content/drive/MyDrive/Iris/client_51."
          ]
        },
        {
          "output_type": "stream",
          "name": "stderr",
          "text": [
            "Processing <PIL.Image.Image image mode=RGB size=768x576 at 0x7FBAAA70C700>: 100%|██████████| 50/50 [00:08<00:00,  6.11 Samples/s]\n"
          ]
        },
        {
          "output_type": "stream",
          "name": "stdout",
          "text": [
            "Initialised with 6 image(s) found.\n",
            "Output directory set to /content/drive/MyDrive/Iris/client_33."
          ]
        },
        {
          "output_type": "stream",
          "name": "stderr",
          "text": [
            "Processing <PIL.Image.Image image mode=RGB size=768x576 at 0x7FBAAA74F5B0>: 100%|██████████| 50/50 [00:07<00:00,  6.50 Samples/s]\n"
          ]
        },
        {
          "output_type": "stream",
          "name": "stdout",
          "text": [
            "Initialised with 6 image(s) found.\n",
            "Output directory set to /content/drive/MyDrive/Iris/client_34."
          ]
        },
        {
          "output_type": "stream",
          "name": "stderr",
          "text": [
            "Processing <PIL.Image.Image image mode=RGB size=768x576 at 0x7FBAAB2ABF10>: 100%|██████████| 50/50 [00:07<00:00,  6.64 Samples/s]\n"
          ]
        },
        {
          "output_type": "stream",
          "name": "stdout",
          "text": [
            "Initialised with 6 image(s) found.\n",
            "Output directory set to /content/drive/MyDrive/Iris/client_2."
          ]
        },
        {
          "output_type": "stream",
          "name": "stderr",
          "text": [
            "Processing <PIL.Image.Image image mode=RGB size=768x576 at 0x7FBAAA78D690>: 100%|██████████| 50/50 [00:07<00:00,  6.86 Samples/s]\n"
          ]
        },
        {
          "output_type": "stream",
          "name": "stdout",
          "text": [
            "Initialised with 6 image(s) found.\n",
            "Output directory set to /content/drive/MyDrive/Iris/client_5."
          ]
        },
        {
          "output_type": "stream",
          "name": "stderr",
          "text": [
            "Processing <PIL.Image.Image image mode=RGB size=729x547 at 0x7FBAAA785210>: 100%|██████████| 50/50 [00:08<00:00,  6.17 Samples/s]\n"
          ]
        },
        {
          "output_type": "stream",
          "name": "stdout",
          "text": [
            "Initialised with 6 image(s) found.\n",
            "Output directory set to /content/drive/MyDrive/Iris/client_56."
          ]
        },
        {
          "output_type": "stream",
          "name": "stderr",
          "text": [
            "Processing <PIL.Image.Image image mode=RGB size=768x576 at 0x7FBAAA7AE0B0>: 100%|██████████| 50/50 [00:07<00:00,  6.56 Samples/s]\n"
          ]
        },
        {
          "output_type": "stream",
          "name": "stdout",
          "text": [
            "Initialised with 6 image(s) found.\n",
            "Output directory set to /content/drive/MyDrive/Iris/client_32."
          ]
        },
        {
          "output_type": "stream",
          "name": "stderr",
          "text": [
            "Processing <PIL.Image.Image image mode=RGB size=768x576 at 0x7FBAAA78DF30>: 100%|██████████| 50/50 [00:06<00:00,  7.62 Samples/s]\n"
          ]
        },
        {
          "output_type": "stream",
          "name": "stdout",
          "text": [
            "Initialised with 6 image(s) found.\n",
            "Output directory set to /content/drive/MyDrive/Iris/client_57."
          ]
        },
        {
          "output_type": "stream",
          "name": "stderr",
          "text": [
            "Processing <PIL.PngImagePlugin.PngImageFile image mode=RGB size=768x576 at 0x7FBAAA7AC7C0>: 100%|██████████| 50/50 [00:07<00:00,  6.33 Samples/s]\n"
          ]
        },
        {
          "output_type": "stream",
          "name": "stdout",
          "text": [
            "Initialised with 6 image(s) found.\n",
            "Output directory set to /content/drive/MyDrive/Iris/client_59."
          ]
        },
        {
          "output_type": "stream",
          "name": "stderr",
          "text": [
            "Processing <PIL.Image.Image image mode=RGB size=729x547 at 0x7FBAAA7ACAF0>: 100%|██████████| 50/50 [00:07<00:00,  6.37 Samples/s]\n"
          ]
        },
        {
          "output_type": "stream",
          "name": "stdout",
          "text": [
            "Initialised with 6 image(s) found.\n",
            "Output directory set to /content/drive/MyDrive/Iris/client_61."
          ]
        },
        {
          "output_type": "stream",
          "name": "stderr",
          "text": [
            "Processing <PIL.Image.Image image mode=RGB size=768x576 at 0x7FBAAA7AE170>: 100%|██████████| 50/50 [00:08<00:00,  5.65 Samples/s]\n"
          ]
        },
        {
          "output_type": "stream",
          "name": "stdout",
          "text": [
            "Initialised with 6 image(s) found.\n",
            "Output directory set to /content/drive/MyDrive/Iris/client_50."
          ]
        },
        {
          "output_type": "stream",
          "name": "stderr",
          "text": [
            "Processing <PIL.Image.Image image mode=RGB size=729x547 at 0x7FBAAA74C8B0>: 100%|██████████| 50/50 [00:07<00:00,  7.12 Samples/s]"
          ]
        },
        {
          "output_type": "stream",
          "name": "stdout",
          "text": [
            "Аугментация завершена\n"
          ]
        },
        {
          "output_type": "stream",
          "name": "stderr",
          "text": [
            "\n"
          ]
        }
      ]
    },
    {
      "cell_type": "markdown",
      "source": [
        "## **Создание базы**"
      ],
      "metadata": {
        "id": "4Lqxbiargux7"
      }
    },
    {
      "cell_type": "code",
      "source": [
        "CLASS_LIST = sorted(os.listdir(TRAIN_PATH_AUG))\n",
        "CLASS_COUNT = len(CLASS_LIST)\n",
        "\n",
        "print(f'Количество классов: {CLASS_COUNT}, метки классов: {CLASS_LIST}')"
      ],
      "metadata": {
        "colab": {
          "base_uri": "https://localhost:8080/"
        },
        "id": "fhf5nbG5gvcP",
        "outputId": "3cbf1d48-ac3d-442e-b30d-14d5389a24c7"
      },
      "execution_count": null,
      "outputs": [
        {
          "output_type": "stream",
          "name": "stdout",
          "text": [
            "Количество классов: 64, метки классов: ['client_1', 'client_10', 'client_11', 'client_12', 'client_13', 'client_14', 'client_15', 'client_16', 'client_17', 'client_18', 'client_19', 'client_2', 'client_20', 'client_21', 'client_22', 'client_23', 'client_24', 'client_25', 'client_26', 'client_27', 'client_28', 'client_29', 'client_3', 'client_30', 'client_31', 'client_32', 'client_33', 'client_34', 'client_35', 'client_36', 'client_37', 'client_38', 'client_39', 'client_4', 'client_40', 'client_41', 'client_42', 'client_43', 'client_44', 'client_45', 'client_46', 'client_47', 'client_48', 'client_49', 'client_5', 'client_50', 'client_51', 'client_52', 'client_53', 'client_54', 'client_55', 'client_56', 'client_57', 'client_58', 'client_59', 'client_6', 'client_60', 'client_61', 'client_62', 'client_63', 'client_64', 'client_7', 'client_8', 'client_9']\n"
          ]
        }
      ]
    },
    {
      "cell_type": "code",
      "source": [
        "data_files = []\n",
        "data_labels = []\n",
        "\n",
        "for class_label in range(CLASS_COUNT):    # Для всех классов по порядку номеров (их меток)\n",
        "    class_name = CLASS_LIST[class_label]  # Выборка имени класса из списка имен\n",
        "    class_path = f'{TRAIN_PATH_AUG}/{class_name}'  # Формирование полного пути к папке с изображениями класса\n",
        "    class_files = os.listdir(class_path)  # Получение списка имен файлов с изображениями текущего класса\n",
        "    data_files += [f'{class_path}/{file_name}' for file_name in class_files]\n",
        "    data_labels += [class_label] * len(class_files)\n",
        "    print(f'Размер класса {class_name} составляет {len(class_files)} снимков')\n",
        "\n",
        "print('Общий размер базы для обучения:', len(data_labels))"
      ],
      "metadata": {
        "colab": {
          "base_uri": "https://localhost:8080/"
        },
        "id": "z33I7y47hFnG",
        "outputId": "0f793e8b-39da-4904-942e-eb667ecb6263"
      },
      "execution_count": null,
      "outputs": [
        {
          "output_type": "stream",
          "name": "stdout",
          "text": [
            "Размер класса client_1 составляет 50 снимков\n",
            "Размер класса client_10 составляет 50 снимков\n",
            "Размер класса client_11 составляет 50 снимков\n",
            "Размер класса client_12 составляет 50 снимков\n",
            "Размер класса client_13 составляет 50 снимков\n",
            "Размер класса client_14 составляет 50 снимков\n",
            "Размер класса client_15 составляет 50 снимков\n",
            "Размер класса client_16 составляет 50 снимков\n",
            "Размер класса client_17 составляет 50 снимков\n",
            "Размер класса client_18 составляет 50 снимков\n",
            "Размер класса client_19 составляет 50 снимков\n",
            "Размер класса client_2 составляет 50 снимков\n",
            "Размер класса client_20 составляет 50 снимков\n",
            "Размер класса client_21 составляет 50 снимков\n",
            "Размер класса client_22 составляет 50 снимков\n",
            "Размер класса client_23 составляет 50 снимков\n",
            "Размер класса client_24 составляет 50 снимков\n",
            "Размер класса client_25 составляет 50 снимков\n",
            "Размер класса client_26 составляет 50 снимков\n",
            "Размер класса client_27 составляет 50 снимков\n",
            "Размер класса client_28 составляет 50 снимков\n",
            "Размер класса client_29 составляет 50 снимков\n",
            "Размер класса client_3 составляет 50 снимков\n",
            "Размер класса client_30 составляет 50 снимков\n",
            "Размер класса client_31 составляет 50 снимков\n",
            "Размер класса client_32 составляет 50 снимков\n",
            "Размер класса client_33 составляет 50 снимков\n",
            "Размер класса client_34 составляет 50 снимков\n",
            "Размер класса client_35 составляет 50 снимков\n",
            "Размер класса client_36 составляет 50 снимков\n",
            "Размер класса client_37 составляет 50 снимков\n",
            "Размер класса client_38 составляет 50 снимков\n",
            "Размер класса client_39 составляет 50 снимков\n",
            "Размер класса client_4 составляет 50 снимков\n",
            "Размер класса client_40 составляет 50 снимков\n",
            "Размер класса client_41 составляет 50 снимков\n",
            "Размер класса client_42 составляет 50 снимков\n",
            "Размер класса client_43 составляет 50 снимков\n",
            "Размер класса client_44 составляет 50 снимков\n",
            "Размер класса client_45 составляет 50 снимков\n",
            "Размер класса client_46 составляет 50 снимков\n",
            "Размер класса client_47 составляет 50 снимков\n",
            "Размер класса client_48 составляет 50 снимков\n",
            "Размер класса client_49 составляет 50 снимков\n",
            "Размер класса client_5 составляет 50 снимков\n",
            "Размер класса client_50 составляет 50 снимков\n",
            "Размер класса client_51 составляет 50 снимков\n",
            "Размер класса client_52 составляет 50 снимков\n",
            "Размер класса client_53 составляет 50 снимков\n",
            "Размер класса client_54 составляет 50 снимков\n",
            "Размер класса client_55 составляет 50 снимков\n",
            "Размер класса client_56 составляет 50 снимков\n",
            "Размер класса client_57 составляет 50 снимков\n",
            "Размер класса client_58 составляет 50 снимков\n",
            "Размер класса client_59 составляет 50 снимков\n",
            "Размер класса client_6 составляет 50 снимков\n",
            "Размер класса client_60 составляет 50 снимков\n",
            "Размер класса client_61 составляет 50 снимков\n",
            "Размер класса client_62 составляет 50 снимков\n",
            "Размер класса client_63 составляет 50 снимков\n",
            "Размер класса client_64 составляет 50 снимков\n",
            "Размер класса client_7 составляет 50 снимков\n",
            "Размер класса client_8 составляет 50 снимков\n",
            "Размер класса client_9 составляет 50 снимков\n",
            "Общий размер базы для обучения: 3200\n"
          ]
        }
      ]
    },
    {
      "cell_type": "code",
      "source": [
        "# data_images_1 = []\n",
        "\n",
        "# for file_name in data_files:\n",
        "#     img = Image.open(file_name).resize((IMG_WIDTH_1, IMG_HEIGHT_1)) \n",
        "#     img_np = np.array(img)\n",
        "#     data_images_1.append(img_np)\n",
        "\n",
        "# x_data_big = np.array(data_images_1)\n",
        "# y_data = np.array(data_labels)\n",
        "\n",
        "# print(f'В массив собрано {len(data_images_1)} фотографий следующей формы: {img_np.shape}')\n",
        "# print(f'Общий массив данных изображений следующей формы: {x_data_big.shape}')\n",
        "# print(f'Общий массив меток классов следующей формы: {y_data.shape}')\n",
        "\n",
        "data_images = []\n",
        "\n",
        "for file_name in data_files:\n",
        "    img = Image.open(file_name).resize((IMG_WIDTH_2, IMG_HEIGHT_2)) \n",
        "    img_np = np.array(img)\n",
        "    data_images.append(img_np)\n",
        "\n",
        "x_data_small = np.array(data_images)\n",
        "y_data = np.array(data_labels)\n",
        "\n",
        "print(f'В массив собрано {len(data_images)} фотографий следующей формы: {img_np.shape}')\n",
        "print(f'Общий массив данных изображений следующей формы: {x_data_small.shape}')\n",
        "print(f'Общий массив меток классов следующей формы: {y_data.shape}')"
      ],
      "metadata": {
        "colab": {
          "base_uri": "https://localhost:8080/"
        },
        "id": "Ur6hUXa4hFwc",
        "outputId": "27fd1739-69ab-4ef3-fa19-f6932456a363"
      },
      "execution_count": null,
      "outputs": [
        {
          "output_type": "stream",
          "name": "stdout",
          "text": [
            "В массив собрано 3200 фотографий следующей формы: (60, 80, 3)\n",
            "Общий массив данных изображений следующей формы: (3200, 60, 80, 3)\n",
            "Общий массив меток классов следующей формы: (3200,)\n"
          ]
        }
      ]
    },
    {
      "cell_type": "markdown",
      "source": [
        "## **Деление на выборки**"
      ],
      "metadata": {
        "id": "fZj6tvo1jSMm"
      }
    },
    {
      "cell_type": "code",
      "source": [
        "# Разделение выборки на обучающую, проверочную и тестовую\n",
        "# x_ds_big, x_val_big, y_ds_big, y_val_big = train_test_split(x_data_big, y_data, test_size=0.2, random_state=42)\n",
        "# x_train_big, x_test_big, y_train_big, y_test_big = train_test_split(x_ds_big, y_ds_big, test_size=0.1, random_state=42)\n",
        "\n",
        "x_ds_small, x_val_small, y_ds_small, y_val_small = train_test_split(x_data_small, y_data, test_size=0.2, random_state=42)\n",
        "x_train_small, x_test_small, y_train_small, y_test_small = train_test_split(x_ds_small, y_ds_small, test_size=0.1, random_state=42)"
      ],
      "metadata": {
        "id": "wxfvjao-hGYG"
      },
      "execution_count": null,
      "outputs": []
    },
    {
      "cell_type": "code",
      "source": [
        "y_train_small = to_categorical(y_train_small)\n",
        "# y_train_big = to_categorical(y_train_big)\n",
        "\n",
        "y_val_small = to_categorical(y_val_small)\n",
        "# y_val_big = to_categorical(y_val_big)\n",
        "\n",
        "y_test_small = to_categorical(y_test_small)\n",
        "# y_test_big = to_categorical(y_test_big)"
      ],
      "metadata": {
        "id": "Jyj_6lNThGbs"
      },
      "execution_count": null,
      "outputs": []
    },
    {
      "cell_type": "code",
      "source": [
        "# print('Размерности датасетов с изображениями 160 на 120')\n",
        "# print('Тренировочный датасет:')\n",
        "# print(x_train_big.shape)\n",
        "# print(y_train_big.shape)\n",
        "# print('Проверочный датасет:')\n",
        "# print(x_val_big.shape)\n",
        "# print(y_val_big.shape)\n",
        "# print('Тестовый датасет:')\n",
        "# print(x_test_big.shape)\n",
        "# print(y_test_big.shape)\n",
        "\n",
        "print('\\nРазмерности датасетов с изображениями 80 на 60')\n",
        "print('Тренировочный датасет:')\n",
        "print(x_train_small.shape)\n",
        "print(y_train_small.shape)\n",
        "print('Проверочный датасет:')\n",
        "print(x_val_small.shape)\n",
        "print(y_val_small.shape)\n",
        "print('Тестовый датасет:')\n",
        "print(x_test_small.shape)\n",
        "print(y_test_small.shape)"
      ],
      "metadata": {
        "colab": {
          "base_uri": "https://localhost:8080/"
        },
        "id": "CGxSwIAdhGfe",
        "outputId": "3e591408-cfd6-4f47-9c0b-3c17f7034cd1"
      },
      "execution_count": null,
      "outputs": [
        {
          "output_type": "stream",
          "name": "stdout",
          "text": [
            "\n",
            "Размерности датасетов с изображениями 80 на 60\n",
            "Тренировочный датасет:\n",
            "(2304, 60, 80, 3)\n",
            "(2304, 64)\n",
            "Проверочный датасет:\n",
            "(640, 60, 80, 3)\n",
            "(640, 64)\n",
            "Тестовый датасет:\n",
            "(256, 60, 80, 3)\n",
            "(256, 64)\n"
          ]
        }
      ]
    },
    {
      "cell_type": "markdown",
      "source": [
        "# **Оптимизация обучения модели**"
      ],
      "metadata": {
        "id": "oWsHTIn-mpLM"
      }
    },
    {
      "cell_type": "code",
      "source": [
        "# AUTOTUNE = tf.data.AUTOTUNE\n",
        "# train_ds = train_ds.cache().shuffle(1000).prefetch(buffer_size=AUTOTUNE)\n",
        "# validation_ds = validation_ds.cache().prefetch(buffer_size=AUTOTUNE)"
      ],
      "metadata": {
        "id": "MOmL13JHllMX"
      },
      "execution_count": null,
      "outputs": []
    },
    {
      "cell_type": "code",
      "source": [
        "checkpoint = ModelCheckpoint(filepath=\"my_model.hdf5\", monitor=\"val_loss\", verbose=0, save_best_only=True)"
      ],
      "metadata": {
        "id": "ENwl_m9gllQQ"
      },
      "execution_count": null,
      "outputs": []
    },
    {
      "cell_type": "markdown",
      "source": [
        "# **Работа с моделью**"
      ],
      "metadata": {
        "id": "5mlB9DKVn8YP"
      }
    },
    {
      "cell_type": "markdown",
      "source": [
        "## **Архитектура модели**"
      ],
      "metadata": {
        "id": "u6KmeXgXpNPy"
      }
    },
    {
      "cell_type": "code",
      "source": [
        "image_shape_small = x_train_small.shape[1:]\n",
        "# image_shape_big = x_train_big.shape[1:]  \n",
        "\n",
        "model_1 = Sequential()\n",
        "model_1.add(Conv2D(64, (3, 3), activation='relu', input_shape=image_shape_small))\n",
        "model_1.add(MaxPooling2D((2, 2)))\n",
        "model_1.add(Conv2D(128, (3, 3), activation='relu'))\n",
        "model_1.add(MaxPooling2D((2, 2)))\n",
        "model_1.add(Conv2D(128, (3, 3), activation='relu'))\n",
        "model_1.add(Flatten())\n",
        "model_1.add(Dense(128, activation='relu'))\n",
        "model_1.add(Dense(CLASS_COUNT, activation='softmax'))"
      ],
      "metadata": {
        "id": "JxBGWc_SllUN"
      },
      "execution_count": null,
      "outputs": []
    },
    {
      "cell_type": "markdown",
      "source": [
        "## **Обучение модели**"
      ],
      "metadata": {
        "id": "ffV1euwEpZ35"
      }
    },
    {
      "cell_type": "code",
      "source": [
        "model_1.compile(\n",
        "              optimizer=OPTIMIZER_LEGACY,\n",
        "              loss='categorical_crossentropy',\n",
        "              metrics='accuracy')\n",
        "model_1.summary()"
      ],
      "metadata": {
        "colab": {
          "base_uri": "https://localhost:8080/"
        },
        "id": "1pfIfc1GoeEs",
        "outputId": "dea4ef89-3e91-4d6d-e35d-c2b349a74828"
      },
      "execution_count": null,
      "outputs": [
        {
          "output_type": "stream",
          "name": "stdout",
          "text": [
            "Model: \"sequential_1\"\n",
            "_________________________________________________________________\n",
            " Layer (type)                Output Shape              Param #   \n",
            "=================================================================\n",
            " conv2d_3 (Conv2D)           (None, 58, 78, 64)        1792      \n",
            "                                                                 \n",
            " max_pooling2d_2 (MaxPooling  (None, 29, 39, 64)       0         \n",
            " 2D)                                                             \n",
            "                                                                 \n",
            " conv2d_4 (Conv2D)           (None, 27, 37, 128)       73856     \n",
            "                                                                 \n",
            " max_pooling2d_3 (MaxPooling  (None, 13, 18, 128)      0         \n",
            " 2D)                                                             \n",
            "                                                                 \n",
            " conv2d_5 (Conv2D)           (None, 11, 16, 128)       147584    \n",
            "                                                                 \n",
            " flatten_1 (Flatten)         (None, 22528)             0         \n",
            "                                                                 \n",
            " dense_2 (Dense)             (None, 128)               2883712   \n",
            "                                                                 \n",
            " dense_3 (Dense)             (None, 64)                8256      \n",
            "                                                                 \n",
            "=================================================================\n",
            "Total params: 3,115,200\n",
            "Trainable params: 3,115,200\n",
            "Non-trainable params: 0\n",
            "_________________________________________________________________\n"
          ]
        }
      ]
    },
    {
      "cell_type": "code",
      "source": [
        "history_small = model_1.fit(\n",
        "                          x_train_small,\n",
        "                          y_train_small,\n",
        "                          epochs=50,\n",
        "                          validation_data=(x_val_small, y_val_small),\n",
        "                          callbacks=checkpoint,\n",
        "                          )"
      ],
      "metadata": {
        "colab": {
          "base_uri": "https://localhost:8080/"
        },
        "id": "itgdfojvoeIm",
        "outputId": "180a6277-3b50-4018-dff4-1a4c6a415207"
      },
      "execution_count": null,
      "outputs": [
        {
          "output_type": "stream",
          "name": "stdout",
          "text": [
            "Epoch 1/50\n",
            "72/72 [==============================] - 2s 15ms/step - loss: 6.4669 - accuracy: 0.0243 - val_loss: 4.0960 - val_accuracy: 0.0375\n",
            "Epoch 2/50\n",
            "72/72 [==============================] - 1s 12ms/step - loss: 3.9221 - accuracy: 0.0373 - val_loss: 3.8217 - val_accuracy: 0.0375\n",
            "Epoch 3/50\n",
            "72/72 [==============================] - 1s 12ms/step - loss: 3.5091 - accuracy: 0.1150 - val_loss: 3.2075 - val_accuracy: 0.2016\n",
            "Epoch 4/50\n",
            "72/72 [==============================] - 1s 12ms/step - loss: 2.8444 - accuracy: 0.2643 - val_loss: 2.6006 - val_accuracy: 0.3453\n",
            "Epoch 5/50\n",
            "72/72 [==============================] - 1s 12ms/step - loss: 2.0355 - accuracy: 0.4883 - val_loss: 1.8255 - val_accuracy: 0.5281\n",
            "Epoch 6/50\n",
            "72/72 [==============================] - 1s 12ms/step - loss: 1.3850 - accuracy: 0.6758 - val_loss: 1.3790 - val_accuracy: 0.6891\n",
            "Epoch 7/50\n",
            "72/72 [==============================] - 1s 12ms/step - loss: 0.8307 - accuracy: 0.8038 - val_loss: 0.8771 - val_accuracy: 0.7953\n",
            "Epoch 8/50\n",
            "72/72 [==============================] - 1s 12ms/step - loss: 0.5020 - accuracy: 0.8941 - val_loss: 0.7241 - val_accuracy: 0.8344\n",
            "Epoch 9/50\n",
            "72/72 [==============================] - 1s 15ms/step - loss: 0.2831 - accuracy: 0.9523 - val_loss: 0.4187 - val_accuracy: 0.9109\n",
            "Epoch 10/50\n",
            "72/72 [==============================] - 1s 14ms/step - loss: 0.1812 - accuracy: 0.9740 - val_loss: 0.3564 - val_accuracy: 0.9219\n",
            "Epoch 11/50\n",
            "72/72 [==============================] - 1s 15ms/step - loss: 0.1283 - accuracy: 0.9813 - val_loss: 0.2278 - val_accuracy: 0.9547\n",
            "Epoch 12/50\n",
            "72/72 [==============================] - 1s 15ms/step - loss: 0.0739 - accuracy: 0.9922 - val_loss: 0.2174 - val_accuracy: 0.9453\n",
            "Epoch 13/50\n",
            "72/72 [==============================] - 1s 14ms/step - loss: 0.0517 - accuracy: 0.9952 - val_loss: 0.1964 - val_accuracy: 0.9516\n",
            "Epoch 14/50\n",
            "72/72 [==============================] - 1s 15ms/step - loss: 0.0429 - accuracy: 0.9974 - val_loss: 0.1714 - val_accuracy: 0.9609\n",
            "Epoch 15/50\n",
            "72/72 [==============================] - 1s 13ms/step - loss: 0.0196 - accuracy: 0.9996 - val_loss: 0.1514 - val_accuracy: 0.9625\n",
            "Epoch 16/50\n",
            "72/72 [==============================] - 1s 12ms/step - loss: 0.0132 - accuracy: 1.0000 - val_loss: 0.1365 - val_accuracy: 0.9672\n",
            "Epoch 17/50\n",
            "72/72 [==============================] - 1s 13ms/step - loss: 0.0090 - accuracy: 1.0000 - val_loss: 0.1201 - val_accuracy: 0.9719\n",
            "Epoch 18/50\n",
            "72/72 [==============================] - 1s 11ms/step - loss: 0.0071 - accuracy: 1.0000 - val_loss: 0.1273 - val_accuracy: 0.9672\n",
            "Epoch 19/50\n",
            "72/72 [==============================] - 1s 12ms/step - loss: 0.0060 - accuracy: 1.0000 - val_loss: 0.1223 - val_accuracy: 0.9688\n",
            "Epoch 20/50\n",
            "72/72 [==============================] - 1s 11ms/step - loss: 0.0051 - accuracy: 1.0000 - val_loss: 0.1296 - val_accuracy: 0.9672\n",
            "Epoch 21/50\n",
            "72/72 [==============================] - 1s 11ms/step - loss: 0.0044 - accuracy: 1.0000 - val_loss: 0.1236 - val_accuracy: 0.9703\n",
            "Epoch 22/50\n",
            "72/72 [==============================] - 1s 11ms/step - loss: 0.0040 - accuracy: 1.0000 - val_loss: 0.1243 - val_accuracy: 0.9703\n",
            "Epoch 23/50\n",
            "72/72 [==============================] - 1s 12ms/step - loss: 0.0034 - accuracy: 1.0000 - val_loss: 0.1184 - val_accuracy: 0.9719\n",
            "Epoch 24/50\n",
            "72/72 [==============================] - 1s 14ms/step - loss: 0.0030 - accuracy: 1.0000 - val_loss: 0.1164 - val_accuracy: 0.9672\n",
            "Epoch 25/50\n",
            "72/72 [==============================] - 1s 13ms/step - loss: 0.0026 - accuracy: 1.0000 - val_loss: 0.1252 - val_accuracy: 0.9672\n",
            "Epoch 26/50\n",
            "72/72 [==============================] - 1s 13ms/step - loss: 0.0024 - accuracy: 1.0000 - val_loss: 0.1252 - val_accuracy: 0.9672\n",
            "Epoch 27/50\n",
            "72/72 [==============================] - 1s 13ms/step - loss: 0.0022 - accuracy: 1.0000 - val_loss: 0.1262 - val_accuracy: 0.9672\n",
            "Epoch 28/50\n",
            "72/72 [==============================] - 1s 13ms/step - loss: 0.0020 - accuracy: 1.0000 - val_loss: 0.1165 - val_accuracy: 0.9719\n",
            "Epoch 29/50\n",
            "72/72 [==============================] - 1s 12ms/step - loss: 0.0018 - accuracy: 1.0000 - val_loss: 0.1211 - val_accuracy: 0.9719\n",
            "Epoch 30/50\n",
            "72/72 [==============================] - 1s 12ms/step - loss: 0.0016 - accuracy: 1.0000 - val_loss: 0.1170 - val_accuracy: 0.9703\n",
            "Epoch 31/50\n",
            "72/72 [==============================] - 1s 12ms/step - loss: 0.0014 - accuracy: 1.0000 - val_loss: 0.1204 - val_accuracy: 0.9688\n",
            "Epoch 32/50\n",
            "72/72 [==============================] - 1s 10ms/step - loss: 0.0013 - accuracy: 1.0000 - val_loss: 0.1204 - val_accuracy: 0.9688\n",
            "Epoch 33/50\n",
            "72/72 [==============================] - 1s 11ms/step - loss: 0.0012 - accuracy: 1.0000 - val_loss: 0.1245 - val_accuracy: 0.9719\n",
            "Epoch 34/50\n",
            "72/72 [==============================] - 1s 12ms/step - loss: 0.0011 - accuracy: 1.0000 - val_loss: 0.1187 - val_accuracy: 0.9703\n",
            "Epoch 35/50\n",
            "72/72 [==============================] - 1s 12ms/step - loss: 0.0010 - accuracy: 1.0000 - val_loss: 0.1183 - val_accuracy: 0.9688\n",
            "Epoch 36/50\n",
            "72/72 [==============================] - 1s 11ms/step - loss: 9.4279e-04 - accuracy: 1.0000 - val_loss: 0.1169 - val_accuracy: 0.9703\n",
            "Epoch 37/50\n",
            "72/72 [==============================] - 1s 11ms/step - loss: 8.6867e-04 - accuracy: 1.0000 - val_loss: 0.1209 - val_accuracy: 0.9703\n",
            "Epoch 38/50\n",
            "72/72 [==============================] - 1s 11ms/step - loss: 8.1764e-04 - accuracy: 1.0000 - val_loss: 0.1201 - val_accuracy: 0.9703\n",
            "Epoch 39/50\n",
            "72/72 [==============================] - 1s 12ms/step - loss: 7.3036e-04 - accuracy: 1.0000 - val_loss: 0.1150 - val_accuracy: 0.9734\n",
            "Epoch 40/50\n",
            "72/72 [==============================] - 1s 12ms/step - loss: 6.6920e-04 - accuracy: 1.0000 - val_loss: 0.1163 - val_accuracy: 0.9750\n",
            "Epoch 41/50\n",
            "72/72 [==============================] - 1s 13ms/step - loss: 6.2508e-04 - accuracy: 1.0000 - val_loss: 0.1174 - val_accuracy: 0.9750\n",
            "Epoch 42/50\n",
            "72/72 [==============================] - 1s 13ms/step - loss: 5.5990e-04 - accuracy: 1.0000 - val_loss: 0.1165 - val_accuracy: 0.9766\n",
            "Epoch 43/50\n",
            "72/72 [==============================] - 1s 13ms/step - loss: 5.1191e-04 - accuracy: 1.0000 - val_loss: 0.1157 - val_accuracy: 0.9750\n",
            "Epoch 44/50\n",
            "72/72 [==============================] - 1s 12ms/step - loss: 4.8019e-04 - accuracy: 1.0000 - val_loss: 0.1151 - val_accuracy: 0.9766\n",
            "Epoch 45/50\n",
            "72/72 [==============================] - 1s 11ms/step - loss: 4.4278e-04 - accuracy: 1.0000 - val_loss: 0.1163 - val_accuracy: 0.9750\n",
            "Epoch 46/50\n",
            "72/72 [==============================] - 1s 11ms/step - loss: 4.0175e-04 - accuracy: 1.0000 - val_loss: 0.1164 - val_accuracy: 0.9750\n",
            "Epoch 47/50\n",
            "72/72 [==============================] - 1s 10ms/step - loss: 3.7055e-04 - accuracy: 1.0000 - val_loss: 0.1156 - val_accuracy: 0.9766\n",
            "Epoch 48/50\n",
            "72/72 [==============================] - 1s 11ms/step - loss: 3.4444e-04 - accuracy: 1.0000 - val_loss: 0.1156 - val_accuracy: 0.9766\n",
            "Epoch 49/50\n",
            "72/72 [==============================] - 1s 11ms/step - loss: 3.1736e-04 - accuracy: 1.0000 - val_loss: 0.1168 - val_accuracy: 0.9766\n",
            "Epoch 50/50\n",
            "72/72 [==============================] - 1s 12ms/step - loss: 3.0161e-04 - accuracy: 1.0000 - val_loss: 0.1120 - val_accuracy: 0.9781\n"
          ]
        }
      ]
    },
    {
      "cell_type": "markdown",
      "source": [
        "# **Проверка модели**"
      ],
      "metadata": {
        "id": "7BTf7x3BrTyH"
      }
    },
    {
      "cell_type": "markdown",
      "source": [
        "## **Визуализация результатов работы модели**"
      ],
      "metadata": {
        "id": "LKz3yaLitD6k"
      }
    },
    {
      "cell_type": "code",
      "source": [
        "# Визуализация точности на обучающей выборке\n",
        "plt.plot(history_small.history['accuracy'], \n",
        "         label='Доля верных ответов на обучающем наборе')\n",
        "\n",
        "# Визуализация точности на проверочной выборке\n",
        "plt.plot(history_small.history['val_accuracy'], \n",
        "         label='Доля верных ответов на проверочном наборе')\n",
        "\n",
        "# Отрисовка подписей осей\n",
        "plt.xlabel('Эпоха обучения')\n",
        "plt.ylabel('Доля верных ответов')\n",
        "\n",
        "# Отрисовка легенды\n",
        "plt.legend()\n",
        "\n",
        "# Вывод графика\n",
        "plt.show()"
      ],
      "metadata": {
        "colab": {
          "base_uri": "https://localhost:8080/",
          "height": 449
        },
        "id": "ePT8wjOvtEbl",
        "outputId": "56cb9188-631c-4627-8539-e9481c865c17"
      },
      "execution_count": null,
      "outputs": [
        {
          "output_type": "display_data",
          "data": {
            "text/plain": [
              "<Figure size 640x480 with 1 Axes>"
            ],
            "image/png": "[encoded data removed]"
          },
          "metadata": {}
        }
      ]
    },
    {
      "cell_type": "code",
      "source": [
        "# Визуализация точности на обучающей выборке\n",
        "plt.plot(history_small.history['loss'], \n",
        "         label='Ошибка на обучающем наборе')\n",
        "\n",
        "# Визуализация точности на проверочной выборке\n",
        "plt.plot(history_small.history['val_loss'], \n",
        "         label='Ошибка на проверочном наборе')\n",
        "\n",
        "# Отрисовка подписей осей\n",
        "plt.xlabel('Эпоха обучения')\n",
        "plt.ylabel('Ошибка')\n",
        "\n",
        "plt.legend()\n",
        "\n",
        "plt.show()"
      ],
      "metadata": {
        "colab": {
          "base_uri": "https://localhost:8080/",
          "height": 449
        },
        "id": "FQlJqb0RuNcd",
        "outputId": "73f45a83-d777-4fa4-b933-70cee5721ef7"
      },
      "execution_count": null,
      "outputs": [
        {
          "output_type": "display_data",
          "data": {
            "text/plain": [
              "<Figure size 640x480 with 1 Axes>"
            ],
            "image/png": "[encoded data removed]"
          },
          "metadata": {}
        }
      ]
    },
    {
      "cell_type": "markdown",
      "source": [
        "## **Проверка evaluate**"
      ],
      "metadata": {
        "id": "NtD32wzMsaNW"
      }
    },
    {
      "cell_type": "code",
      "source": [
        "scores_small = model_1.evaluate(x_test_small, \n",
        "                                y_test_small, \n",
        "                                verbose=1\n",
        "                                )\n",
        "\n",
        "print('Процент верных ответов на тестовых данных размером 80 на 60:', round(scores_small[1],4) * 100, '%')"
      ],
      "metadata": {
        "colab": {
          "base_uri": "https://localhost:8080/"
        },
        "id": "X8-jHLq8oeMl",
        "outputId": "6d415f3a-964d-4013-ba8d-b0897c394f8d"
      },
      "execution_count": null,
      "outputs": [
        {
          "output_type": "stream",
          "name": "stdout",
          "text": [
            "8/8 [==============================] - 0s 5ms/step - loss: 0.0738 - accuracy: 0.9922\n",
            "Процент верных ответов на тестовых данных размером 80 на 60: 99.22 %\n"
          ]
        }
      ]
    },
    {
      "cell_type": "markdown",
      "source": [
        "## **Проверка predict**"
      ],
      "metadata": {
        "id": "I-yzUrQasG7b"
      }
    },
    {
      "cell_type": "code",
      "source": [
        "x = x_test_small[10]\n",
        "print(x.shape)\n",
        "\n",
        "x = np.expand_dims(x, axis=0)\n",
        "print(x.shape)\n",
        "\n",
        "prediction = model_1.predict(x) \n",
        "print(prediction)\n",
        "\n",
        "pred = np.argmax(prediction)\n",
        "print(f'Распознан пациент: {pred}')\n",
        "print(f'Настоящий пациент: {np.argmax(y_test_small[10])}')"
      ],
      "metadata": {
        "colab": {
          "base_uri": "https://localhost:8080/"
        },
        "id": "kZxForYOllYT",
        "outputId": "c4902a06-56c1-4468-b764-bce5ef858ba0"
      },
      "execution_count": null,
      "outputs": [
        {
          "output_type": "stream",
          "name": "stdout",
          "text": [
            "(60, 80, 3)\n",
            "(1, 60, 80, 3)\n",
            "1/1 [==============================] - 0s 34ms/step\n",
            "[[5.76003381e-17 2.92681621e-16 1.13430418e-10 6.87499710e-11\n",
            "  2.43711263e-15 9.99971628e-01 3.31126442e-20 1.07975915e-16\n",
            "  5.07327158e-18 1.79086874e-06 4.66229038e-23 1.56584520e-11\n",
            "  1.03756059e-09 3.69329106e-13 8.57895549e-17 3.50421806e-19\n",
            "  1.77504739e-13 2.05487537e-11 1.30715613e-17 1.97258948e-21\n",
            "  7.19597685e-27 4.75880135e-15 9.36827175e-17 5.90900077e-14\n",
            "  4.74624300e-13 4.28448408e-15 1.14219656e-05 2.94226720e-14\n",
            "  1.15876466e-11 9.01749487e-13 3.44109906e-18 1.89776936e-14\n",
            "  1.65918948e-18 3.12250607e-15 3.95964077e-13 8.79384456e-14\n",
            "  6.01646391e-13 1.76885917e-13 1.51644997e-16 1.45206018e-13\n",
            "  8.88972619e-16 4.20334073e-10 1.33661473e-08 2.00215097e-18\n",
            "  2.48133625e-21 6.99348977e-21 2.52484513e-12 6.75276424e-16\n",
            "  4.45904530e-18 1.56041217e-12 2.01196235e-22 9.26234145e-10\n",
            "  3.62364067e-12 1.51250670e-05 1.06914371e-16 4.22199473e-19\n",
            "  1.45914623e-08 5.78246480e-18 4.27739355e-24 3.49587609e-10\n",
            "  9.83190126e-28 1.28627313e-08 3.99148659e-10 4.91759237e-12]]\n",
            "Распознан пациент: 5\n",
            "Настоящий пациент: 5\n"
          ]
        }
      ]
    }
  ]
}