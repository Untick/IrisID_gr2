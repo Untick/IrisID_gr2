{
  "nbformat": 4,
  "nbformat_minor": 0,
  "metadata": {
    "colab": {
      "provenance": [],
      "collapsed_sections": [
        "zF9D5Fn2OSQW",
        "pPRqWB_Sbn8Q",
        "w-WCKvh-bPDH",
        "1Nuho1BTbdmf",
        "Uxl5sULeb-lO",
        "4Lqxbiargux7",
        "fZj6tvo1jSMm",
        "oWsHTIn-mpLM",
        "5mlB9DKVn8YP",
        "u6KmeXgXpNPy",
        "ffV1euwEpZ35",
        "7BTf7x3BrTyH",
        "LKz3yaLitD6k",
        "NtD32wzMsaNW",
        "I-yzUrQasG7b"
      ],
      "gpuType": "T4",
      "authorship_tag": "ABX9TyMURbn9s3AMei1ZTj8aS53z",
      "include_colab_link": true
    },
    "kernelspec": {
      "name": "python3",
      "display_name": "Python 3"
    },
    "language_info": {
      "name": "python"
    },
    "accelerator": "GPU",
    "gpuClass": "standard"
  },
  "cells": [
    {
      "cell_type": "markdown",
      "metadata": {
        "id": "view-in-github",
        "colab_type": "text"
      },
      "source": [
        "<a href=\"https://colab.research.google.com/github/Untick/IrisID_gr2/blob/Alexey-Tatarinov-folder/Alexey%20Tatarinov/Iris_Model_2_20_06_23.ipynb\" target=\"_parent\"><img src=\"https://colab.research.google.com/assets/colab-badge.svg\" alt=\"Open In Colab\"/></a>"
      ]
    },
    {
      "cell_type": "markdown",
      "source": [
        "# **Задача идентификации пациента по радужной оболочке глаза (Iris ID)**"
      ],
      "metadata": {
        "id": "BrVaGOpOlgLW"
      }
    },
    {
      "cell_type": "markdown",
      "source": [
        "\n",
        "\n",
        "**Постановка задачи**"
      ],
      "metadata": {
        "id": "jzV1ICYEppON"
      }
    },
    {
      "cell_type": "markdown",
      "source": [
        "Необходимо построить нейронную сеть и обучить ее, подав на нее изображения радужной оболочки правого и левого глаза 64 пациентов"
      ],
      "metadata": {
        "id": "Bz-jz1BJpmT3"
      }
    },
    {
      "cell_type": "markdown",
      "source": [
        "**Описание данных**"
      ],
      "metadata": {
        "id": "8RuoHMJnuN8R"
      }
    },
    {
      "cell_type": "markdown",
      "source": [
        "Данные, используемые для идентификации пациента:\n",
        "Цветные изображения переднего сегмента глаз в формате png. В качестве источника датасета задействованы 64\n",
        "человека.\n",
        "Задействованных людей можно использовать для тестирования\n",
        "обученной сети."
      ],
      "metadata": {
        "id": "QLQpRlj8uQmd"
      }
    },
    {
      "cell_type": "markdown",
      "source": [
        "**Гипотезы и эксперименты**"
      ],
      "metadata": {
        "id": "LaPakrW2xqT0"
      }
    },
    {
      "cell_type": "markdown",
      "source": [
        "Для решения задачи проводились эксперименты с архитектурой нейронной сети:\n",
        "\n",
        "1) Проверено около 15-20 различных архитектур методом ручного подбора оптимальных слоев для получения наибольшей точности (accuracy) на тестовых изображениях, а также перебраны гиперпараметры для каждой из данных архитектур.\n",
        "\n",
        "2) Проверена и проанализирована точность моделей, построенных с помощью AutoML, а именно AutoKeras, на основе графиков функции потерь и точности.\n",
        "\n",
        "3) Получены и проанализированы графики функции потерь и точности нейронной сети, в архитектуре которой использована предобученная модель."
      ],
      "metadata": {
        "id": "twpd1hqQx7K8"
      }
    },
    {
      "cell_type": "markdown",
      "source": [
        "**Выводы**"
      ],
      "metadata": {
        "id": "fZ-LOvh6xwrs"
      }
    },
    {
      "cell_type": "markdown",
      "source": [
        "После проверки гипотез и проведения анализа графиков, полученных в результате экспериментов наилучшую точность показала нейронная сеть на основе предобученной модели ResNet50. В результате получена точность 100%."
      ],
      "metadata": {
        "id": "b6-UAC6Dx8Nc"
      }
    },
    {
      "cell_type": "markdown",
      "source": [
        "## **Импорт библиотек и модулей**"
      ],
      "metadata": {
        "id": "zF9D5Fn2OSQW"
      }
    },
    {
      "cell_type": "code",
      "execution_count": null,
      "metadata": {
        "id": "YzRcKkv4LE6P",
        "colab": {
          "base_uri": "https://localhost:8080/"
        },
        "outputId": "0ee6a18d-a93d-4bda-bb48-cb93724ad4b7"
      },
      "outputs": [
        {
          "output_type": "stream",
          "name": "stdout",
          "text": [
            "Looking in indexes: https://pypi.org/simple, https://us-python.pkg.dev/colab-wheels/public/simple/\n",
            "Collecting Augmentor\n",
            "  Downloading Augmentor-0.2.12-py2.py3-none-any.whl (38 kB)\n",
            "Requirement already satisfied: Pillow>=5.2.0 in /usr/local/lib/python3.10/dist-packages (from Augmentor) (8.4.0)\n",
            "Requirement already satisfied: tqdm>=4.9.0 in /usr/local/lib/python3.10/dist-packages (from Augmentor) (4.65.0)\n",
            "Requirement already satisfied: numpy>=1.11.0 in /usr/local/lib/python3.10/dist-packages (from Augmentor) (1.22.4)\n",
            "Installing collected packages: Augmentor\n",
            "Successfully installed Augmentor-0.2.12\n"
          ]
        }
      ],
      "source": [
        "import gdown\n",
        "\n",
        "import os\n",
        "\n",
        "! pip install Augmentor\n",
        "import Augmentor\n",
        "\n",
        "import zipfile\n",
        "\n",
        "import numpy as np\n",
        "\n",
        "import tensorflow as tf\n",
        "\n",
        "from tensorflow.keras.models import Sequential, load_model\n",
        "\n",
        "from tensorflow.keras.layers import (Dense, Conv2D, MaxPooling2D, Flatten,\n",
        "                                     Dropout, BatchNormalization, Rescaling,\n",
        "                                     GlobalAveragePooling2D, RandomFlip, Input,\n",
        "                                     RandomRotation, RandomZoom, RandomContrast)\n",
        "\n",
        "from tensorflow.keras.applications import VGG19, ResNet50, Xception\n",
        "\n",
        "from tensorflow.keras.utils import to_categorical\n",
        "\n",
        "from tensorflow.keras.preprocessing.image import (ImageDataGenerator,\n",
        "                                                 DirectoryIterator)\n",
        "\n",
        "from tensorflow.keras.optimizers import Adam\n",
        "\n",
        "from tensorflow.keras.callbacks import ModelCheckpoint\n",
        "\n",
        "from sklearn.model_selection import train_test_split\n",
        "\n",
        "from sklearn.metrics import confusion_matrix, ConfusionMatrixDisplay\n",
        "\n",
        "from sklearn.preprocessing import LabelEncoder\n",
        "\n",
        "from sklearn.preprocessing import OneHotEncoder\n",
        "\n",
        "from PIL import Image, ImageEnhance\n",
        "\n",
        "import matplotlib.pyplot as plt\n",
        "\n",
        "%matplotlib inline"
      ]
    },
    {
      "cell_type": "markdown",
      "source": [
        "## **Подготовка датасета**"
      ],
      "metadata": {
        "id": "pPRqWB_Sbn8Q"
      }
    },
    {
      "cell_type": "markdown",
      "source": [
        "### **Задание гиперпараметров**"
      ],
      "metadata": {
        "id": "w-WCKvh-bPDH"
      }
    },
    {
      "cell_type": "code",
      "source": [
        "PATH          = '/content/drive/MyDrive/iris_ds'\n",
        "PATH_AUG      = '/content/drive/MyDrive/Iris'\n",
        "TRAIN_VAL_PATH_AUG = '/content/drive/MyDrive/Iris_train_val_aug'\n",
        "TRAIN_VAL_PATH = '/content/drive/MyDrive/iris_ds_train_val'\n",
        "TEST_PATH = '/content/drive/MyDrive/iris_ds_test'\n",
        "\n",
        "VAL_SPLIT           = 0.2\n",
        "\n",
        "IMG_WIDTH_2         = 80\n",
        "IMG_HEIGHT_2        = 60\n",
        "IMG_CHANNELS        = 3\n",
        "\n",
        "ROTATION_RANGE      = 10\n",
        "WIDTH_SHIFT_RANGE   = 0.1\n",
        "HEIGHT_SHIFT_RANGE  = 0.1\n",
        "ZOOM_RANGE          = 0.1\n",
        "BRIGHTNESS_RANGE    = (0.5, 1.3)\n",
        "HORIZONTAL_FLIP     = False\n",
        "\n",
        "EPOCHS              = 20\n",
        "BATCH_SIZE          = 24\n",
        "OPTIMIZER_LEGACY    = tf.keras.optimizers.legacy.Adam(0.0001)\n",
        "OPTIMIZER           = tf.keras.optimizers.Adam(0.0001)"
      ],
      "metadata": {
        "id": "gSCENm0FbPQa"
      },
      "execution_count": null,
      "outputs": []
    },
    {
      "cell_type": "markdown",
      "source": [
        "### **Загрузка датасета**"
      ],
      "metadata": {
        "id": "1Nuho1BTbdmf"
      }
    },
    {
      "cell_type": "code",
      "source": [
        "from google.colab import drive\n",
        "drive.mount('/content/drive')"
      ],
      "metadata": {
        "id": "PZYmJsQbbdzF",
        "colab": {
          "base_uri": "https://localhost:8080/"
        },
        "outputId": "46768ad9-be2c-4d00-cdc6-7bd7324cd8d6"
      },
      "execution_count": null,
      "outputs": [
        {
          "output_type": "stream",
          "name": "stdout",
          "text": [
            "Mounted at /content/drive\n"
          ]
        }
      ]
    },
    {
      "cell_type": "markdown",
      "source": [
        "**Создание папок с изображениями**"
      ],
      "metadata": {
        "id": "mbyIkfSlJek3"
      }
    },
    {
      "cell_type": "code",
      "source": [
        "import os\n",
        "import shutil\n",
        "\n",
        "# Создание целевых папок, если они не существуют\n",
        "os.makedirs(TEST_PATH, exist_ok=True)\n",
        "os.makedirs(TRAIN_VAL_PATH, exist_ok=True)\n",
        "\n",
        "# Получение списка подпапок в папке PATH\n",
        "subfolders = [f for f in os.listdir(PATH) if os.path.isdir(os.path.join(PATH, f))]\n",
        "\n",
        "# Обработка каждой подпапки\n",
        "for subfolder in subfolders:\n",
        "    # Путь к исходной папке клиента\n",
        "    client_folder = os.path.join(PATH, subfolder)\n",
        "\n",
        "    # Путь к папке клиента в '/content/drive/MyDrive/iris_ds_test'\n",
        "    target_client_folder_1 = os.path.join(TEST_PATH, subfolder)\n",
        "    os.makedirs(target_client_folder_1, exist_ok=True)\n",
        "\n",
        "    # Путь к папке клиента в '/content/drive/MyDrive/iris_ds_train_val'\n",
        "    target_client_folder_2 = os.path.join(TRAIN_VAL_PATH, subfolder)\n",
        "    os.makedirs(target_client_folder_2, exist_ok=True)\n",
        "\n",
        "    # Получение списка файлов в папке клиента\n",
        "    files = os.listdir(client_folder)\n",
        "\n",
        "    # Копирование первого файла в '/content/drive/MyDrive/iris_ds_test'\n",
        "    first_file = files[0]\n",
        "    source_path = os.path.join(client_folder, first_file)\n",
        "    target_path = os.path.join(target_client_folder_1, first_file)\n",
        "    shutil.copyfile(source_path, target_path)\n",
        "\n",
        "    # Копирование оставшихся пяти файлов в '/content/drive/MyDrive/iris_ds_train_val'\n",
        "    remaining_files = files[1:]\n",
        "    for file in remaining_files:\n",
        "        source_path = os.path.join(client_folder, file)\n",
        "        target_path = os.path.join(target_client_folder_2, file)\n",
        "        shutil.copyfile(source_path, target_path)"
      ],
      "metadata": {
        "id": "WsxmTes1144q"
      },
      "execution_count": null,
      "outputs": []
    },
    {
      "cell_type": "markdown",
      "source": [
        "### **Аугментация**"
      ],
      "metadata": {
        "id": "Uxl5sULeb-lO"
      }
    },
    {
      "cell_type": "code",
      "source": [
        "for folder in os.listdir(TRAIN_VAL_PATH):\n",
        "    if os.path.isdir(os.path.join(TRAIN_VAL_PATH, folder)):\n",
        "        # Создаем генератор аугментации для каждой папки\n",
        "        p = Augmentor.Pipeline(os.path.join(TRAIN_VAL_PATH, folder), output_directory=os.path.join(f'/content/drive/MyDrive/Iris_train_val_aug/{folder}'))\n",
        "        # Добавляем операции аугментации\n",
        "        # Вращение изображения\n",
        "        p.rotate(probability=0.2, max_left_rotation=10, max_right_rotation=10)\n",
        "        # увеличение\n",
        "        #p.zoom(probability=0.2, min_factor=1.1, max_factor=1.2)\n",
        "        # Обрезание изображения\n",
        "        p.crop_random(probability=0.1, percentage_area=0.95)\n",
        "        # Изменение яркости\n",
        "        p.random_brightness(probability=0.5, min_factor=0.7, max_factor=1.3)\n",
        "        # Изменение контрасности\n",
        "        p.random_contrast(probability=0.5, min_factor=0.7, max_factor=1.3)\n",
        "        # Применяем аугментацию\n",
        "        p.sample(50)\n",
        "print('Аугментация завершена')"
      ],
      "metadata": {
        "id": "G08WRtGbb-1R"
      },
      "execution_count": null,
      "outputs": []
    },
    {
      "cell_type": "markdown",
      "source": [
        "### **Создание базы**"
      ],
      "metadata": {
        "id": "4Lqxbiargux7"
      }
    },
    {
      "cell_type": "code",
      "source": [
        "CLASS_LIST = sorted(os.listdir(TRAIN_VAL_PATH_AUG))\n",
        "CLASS_COUNT = len(CLASS_LIST)\n",
        "\n",
        "print(f'Количество классов: {CLASS_COUNT}, метки классов: {CLASS_LIST}')"
      ],
      "metadata": {
        "id": "fhf5nbG5gvcP",
        "colab": {
          "base_uri": "https://localhost:8080/"
        },
        "outputId": "4f8f880b-a813-4dcf-ad27-14c23ce98637"
      },
      "execution_count": null,
      "outputs": [
        {
          "output_type": "stream",
          "name": "stdout",
          "text": [
            "Количество классов: 64, метки классов: ['client_1', 'client_10', 'client_11', 'client_12', 'client_13', 'client_14', 'client_15', 'client_16', 'client_17', 'client_18', 'client_19', 'client_2', 'client_20', 'client_21', 'client_22', 'client_23', 'client_24', 'client_25', 'client_26', 'client_27', 'client_28', 'client_29', 'client_3', 'client_30', 'client_31', 'client_32', 'client_33', 'client_34', 'client_35', 'client_36', 'client_37', 'client_38', 'client_39', 'client_4', 'client_40', 'client_41', 'client_42', 'client_43', 'client_44', 'client_45', 'client_46', 'client_47', 'client_48', 'client_49', 'client_5', 'client_50', 'client_51', 'client_52', 'client_53', 'client_54', 'client_55', 'client_56', 'client_57', 'client_58', 'client_59', 'client_6', 'client_60', 'client_61', 'client_62', 'client_63', 'client_64', 'client_7', 'client_8', 'client_9']\n"
          ]
        }
      ]
    },
    {
      "cell_type": "code",
      "source": [
        "data_files = []\n",
        "data_labels = []\n",
        "\n",
        "for class_label in range(CLASS_COUNT):    # Для всех классов по порядку номеров (их меток)\n",
        "    class_name = CLASS_LIST[class_label]  # Выборка имени класса из списка имен\n",
        "    class_path = f'{TRAIN_VAL_PATH_AUG}/{class_name}'  # Формирование полного пути к папке с изображениями класса\n",
        "    class_files = os.listdir(class_path)  # Получение списка имен файлов с изображениями текущего класса\n",
        "    data_files += [f'{class_path}/{file_name}' for file_name in class_files]\n",
        "    data_labels += [class_label] * len(class_files)\n",
        "    print(f'Размер класса {class_name} составляет {len(class_files)} снимков')\n",
        "\n",
        "print('Общий размер базы для обучения:', len(data_labels))"
      ],
      "metadata": {
        "id": "z33I7y47hFnG",
        "colab": {
          "base_uri": "https://localhost:8080/"
        },
        "outputId": "f4ecf592-40ec-4353-b71d-2895c0c99502"
      },
      "execution_count": null,
      "outputs": [
        {
          "output_type": "stream",
          "name": "stdout",
          "text": [
            "Размер класса client_1 составляет 50 снимков\n",
            "Размер класса client_10 составляет 50 снимков\n",
            "Размер класса client_11 составляет 50 снимков\n",
            "Размер класса client_12 составляет 50 снимков\n",
            "Размер класса client_13 составляет 50 снимков\n",
            "Размер класса client_14 составляет 50 снимков\n",
            "Размер класса client_15 составляет 50 снимков\n",
            "Размер класса client_16 составляет 50 снимков\n",
            "Размер класса client_17 составляет 50 снимков\n",
            "Размер класса client_18 составляет 50 снимков\n",
            "Размер класса client_19 составляет 50 снимков\n",
            "Размер класса client_2 составляет 50 снимков\n",
            "Размер класса client_20 составляет 50 снимков\n",
            "Размер класса client_21 составляет 50 снимков\n",
            "Размер класса client_22 составляет 50 снимков\n",
            "Размер класса client_23 составляет 50 снимков\n",
            "Размер класса client_24 составляет 50 снимков\n",
            "Размер класса client_25 составляет 50 снимков\n",
            "Размер класса client_26 составляет 50 снимков\n",
            "Размер класса client_27 составляет 50 снимков\n",
            "Размер класса client_28 составляет 50 снимков\n",
            "Размер класса client_29 составляет 50 снимков\n",
            "Размер класса client_3 составляет 50 снимков\n",
            "Размер класса client_30 составляет 50 снимков\n",
            "Размер класса client_31 составляет 50 снимков\n",
            "Размер класса client_32 составляет 50 снимков\n",
            "Размер класса client_33 составляет 50 снимков\n",
            "Размер класса client_34 составляет 50 снимков\n",
            "Размер класса client_35 составляет 50 снимков\n",
            "Размер класса client_36 составляет 50 снимков\n",
            "Размер класса client_37 составляет 50 снимков\n",
            "Размер класса client_38 составляет 50 снимков\n",
            "Размер класса client_39 составляет 50 снимков\n",
            "Размер класса client_4 составляет 50 снимков\n",
            "Размер класса client_40 составляет 50 снимков\n",
            "Размер класса client_41 составляет 50 снимков\n",
            "Размер класса client_42 составляет 50 снимков\n",
            "Размер класса client_43 составляет 50 снимков\n",
            "Размер класса client_44 составляет 50 снимков\n",
            "Размер класса client_45 составляет 50 снимков\n",
            "Размер класса client_46 составляет 50 снимков\n",
            "Размер класса client_47 составляет 50 снимков\n",
            "Размер класса client_48 составляет 50 снимков\n",
            "Размер класса client_49 составляет 50 снимков\n",
            "Размер класса client_5 составляет 50 снимков\n",
            "Размер класса client_50 составляет 50 снимков\n",
            "Размер класса client_51 составляет 50 снимков\n",
            "Размер класса client_52 составляет 50 снимков\n",
            "Размер класса client_53 составляет 50 снимков\n",
            "Размер класса client_54 составляет 50 снимков\n",
            "Размер класса client_55 составляет 50 снимков\n",
            "Размер класса client_56 составляет 50 снимков\n",
            "Размер класса client_57 составляет 50 снимков\n",
            "Размер класса client_58 составляет 50 снимков\n",
            "Размер класса client_59 составляет 50 снимков\n",
            "Размер класса client_6 составляет 50 снимков\n",
            "Размер класса client_60 составляет 50 снимков\n",
            "Размер класса client_61 составляет 50 снимков\n",
            "Размер класса client_62 составляет 50 снимков\n",
            "Размер класса client_63 составляет 50 снимков\n",
            "Размер класса client_64 составляет 50 снимков\n",
            "Размер класса client_7 составляет 50 снимков\n",
            "Размер класса client_8 составляет 50 снимков\n",
            "Размер класса client_9 составляет 50 снимков\n",
            "Общий размер базы для обучения: 3200\n"
          ]
        }
      ]
    },
    {
      "cell_type": "code",
      "source": [
        "data_images = []\n",
        "\n",
        "for file_name in data_files:\n",
        "    img = Image.open(file_name).resize((IMG_WIDTH_2, IMG_HEIGHT_2))\n",
        "    img_np = np.array(img)\n",
        "    data_images.append(img_np)\n",
        "\n",
        "x_data_small = np.array(data_images)\n",
        "y_data = np.array(data_labels)\n",
        "\n",
        "print(f'В массив собрано {len(data_images)} фотографий следующей формы: {img_np.shape}')\n",
        "print(f'Общий массив данных изображений следующей формы: {x_data_small.shape}')\n",
        "print(f'Общий массив меток классов следующей формы: {y_data.shape}')"
      ],
      "metadata": {
        "id": "Ur6hUXa4hFwc",
        "colab": {
          "base_uri": "https://localhost:8080/"
        },
        "outputId": "779447bf-8512-42c9-9657-cf0197ce8fef"
      },
      "execution_count": null,
      "outputs": [
        {
          "output_type": "stream",
          "name": "stdout",
          "text": [
            "В массив собрано 3200 фотографий следующей формы: (60, 80, 3)\n",
            "Общий массив данных изображений следующей формы: (3200, 60, 80, 3)\n",
            "Общий массив меток классов следующей формы: (3200,)\n"
          ]
        }
      ]
    },
    {
      "cell_type": "code",
      "source": [
        "CLASS_LIST_TEST = sorted(os.listdir(TEST_PATH))\n",
        "CLASS_COUNT_TEST = len(CLASS_LIST_TEST)\n",
        "\n",
        "print(f'Количество классов: {CLASS_COUNT_TEST}, метки классов: {CLASS_LIST_TEST}')"
      ],
      "metadata": {
        "colab": {
          "base_uri": "https://localhost:8080/"
        },
        "id": "O96GnwSF2dQT",
        "outputId": "6e684854-1ca8-47ec-85e5-e027a33bd487"
      },
      "execution_count": null,
      "outputs": [
        {
          "output_type": "stream",
          "name": "stdout",
          "text": [
            "Количество классов: 64, метки классов: ['client_1', 'client_10', 'client_11', 'client_12', 'client_13', 'client_14', 'client_15', 'client_16', 'client_17', 'client_18', 'client_19', 'client_2', 'client_20', 'client_21', 'client_22', 'client_23', 'client_24', 'client_25', 'client_26', 'client_27', 'client_28', 'client_29', 'client_3', 'client_30', 'client_31', 'client_32', 'client_33', 'client_34', 'client_35', 'client_36', 'client_37', 'client_38', 'client_39', 'client_4', 'client_40', 'client_41', 'client_42', 'client_43', 'client_44', 'client_45', 'client_46', 'client_47', 'client_48', 'client_49', 'client_5', 'client_50', 'client_51', 'client_52', 'client_53', 'client_54', 'client_55', 'client_56', 'client_57', 'client_58', 'client_59', 'client_6', 'client_60', 'client_61', 'client_62', 'client_63', 'client_64', 'client_7', 'client_8', 'client_9']\n"
          ]
        }
      ]
    },
    {
      "cell_type": "code",
      "source": [
        "data_files_test = []\n",
        "data_labels_test = []\n",
        "\n",
        "for class_label_test in range(CLASS_COUNT_TEST):    # Для всех классов по порядку номеров (их меток)\n",
        "    class_name_test = CLASS_LIST_TEST[class_label_test]  # Выборка имени класса из списка имен\n",
        "    class_path_test = f'{TEST_PATH}/{class_name_test}'  # Формирование полного пути к папке с изображениями класса\n",
        "    class_files_test = os.listdir(class_path_test)  # Получение списка имен файлов с изображениями текущего класса\n",
        "    data_files_test += [f'{class_path_test}/{file_name}' for file_name in class_files_test]\n",
        "    data_labels_test += [class_label_test] * len(class_files_test)\n",
        "    print(f'Размер класса {class_name_test} составляет {len(class_files_test)} снимков')\n",
        "\n",
        "print('Общий размер базы для проверки:', len(data_labels_test))"
      ],
      "metadata": {
        "colab": {
          "base_uri": "https://localhost:8080/"
        },
        "id": "c3zo-V7Z2dZS",
        "outputId": "08d129a6-71fd-4fbd-cd08-c573f79c07a4"
      },
      "execution_count": null,
      "outputs": [
        {
          "output_type": "stream",
          "name": "stdout",
          "text": [
            "Размер класса client_1 составляет 1 снимков\n",
            "Размер класса client_10 составляет 1 снимков\n",
            "Размер класса client_11 составляет 1 снимков\n",
            "Размер класса client_12 составляет 1 снимков\n",
            "Размер класса client_13 составляет 1 снимков\n",
            "Размер класса client_14 составляет 1 снимков\n",
            "Размер класса client_15 составляет 1 снимков\n",
            "Размер класса client_16 составляет 1 снимков\n",
            "Размер класса client_17 составляет 1 снимков\n",
            "Размер класса client_18 составляет 1 снимков\n",
            "Размер класса client_19 составляет 1 снимков\n",
            "Размер класса client_2 составляет 1 снимков\n",
            "Размер класса client_20 составляет 1 снимков\n",
            "Размер класса client_21 составляет 1 снимков\n",
            "Размер класса client_22 составляет 1 снимков\n",
            "Размер класса client_23 составляет 1 снимков\n",
            "Размер класса client_24 составляет 1 снимков\n",
            "Размер класса client_25 составляет 1 снимков\n",
            "Размер класса client_26 составляет 1 снимков\n",
            "Размер класса client_27 составляет 1 снимков\n",
            "Размер класса client_28 составляет 1 снимков\n",
            "Размер класса client_29 составляет 1 снимков\n",
            "Размер класса client_3 составляет 1 снимков\n",
            "Размер класса client_30 составляет 1 снимков\n",
            "Размер класса client_31 составляет 1 снимков\n",
            "Размер класса client_32 составляет 1 снимков\n",
            "Размер класса client_33 составляет 1 снимков\n",
            "Размер класса client_34 составляет 1 снимков\n",
            "Размер класса client_35 составляет 1 снимков\n",
            "Размер класса client_36 составляет 1 снимков\n",
            "Размер класса client_37 составляет 1 снимков\n",
            "Размер класса client_38 составляет 1 снимков\n",
            "Размер класса client_39 составляет 1 снимков\n",
            "Размер класса client_4 составляет 1 снимков\n",
            "Размер класса client_40 составляет 1 снимков\n",
            "Размер класса client_41 составляет 1 снимков\n",
            "Размер класса client_42 составляет 1 снимков\n",
            "Размер класса client_43 составляет 1 снимков\n",
            "Размер класса client_44 составляет 1 снимков\n",
            "Размер класса client_45 составляет 1 снимков\n",
            "Размер класса client_46 составляет 1 снимков\n",
            "Размер класса client_47 составляет 1 снимков\n",
            "Размер класса client_48 составляет 1 снимков\n",
            "Размер класса client_49 составляет 1 снимков\n",
            "Размер класса client_5 составляет 1 снимков\n",
            "Размер класса client_50 составляет 1 снимков\n",
            "Размер класса client_51 составляет 1 снимков\n",
            "Размер класса client_52 составляет 1 снимков\n",
            "Размер класса client_53 составляет 1 снимков\n",
            "Размер класса client_54 составляет 1 снимков\n",
            "Размер класса client_55 составляет 1 снимков\n",
            "Размер класса client_56 составляет 1 снимков\n",
            "Размер класса client_57 составляет 1 снимков\n",
            "Размер класса client_58 составляет 1 снимков\n",
            "Размер класса client_59 составляет 1 снимков\n",
            "Размер класса client_6 составляет 1 снимков\n",
            "Размер класса client_60 составляет 1 снимков\n",
            "Размер класса client_61 составляет 1 снимков\n",
            "Размер класса client_62 составляет 1 снимков\n",
            "Размер класса client_63 составляет 1 снимков\n",
            "Размер класса client_64 составляет 1 снимков\n",
            "Размер класса client_7 составляет 1 снимков\n",
            "Размер класса client_8 составляет 1 снимков\n",
            "Размер класса client_9 составляет 1 снимков\n",
            "Общий размер базы для проверки: 64\n"
          ]
        }
      ]
    },
    {
      "cell_type": "code",
      "source": [
        "data_images_test = []\n",
        "\n",
        "for file_name in data_files_test:\n",
        "    img_test = Image.open(file_name).resize((IMG_WIDTH_2, IMG_HEIGHT_2))\n",
        "    img_np_test = np.array(img_test)\n",
        "    data_images_test.append(img_np_test)\n",
        "\n",
        "x_data_test = np.array(data_images_test)\n",
        "y_data_test = np.array(data_labels_test)\n",
        "\n",
        "print(f'В массив собрано {len(data_images_test)} фотографий следующей формы: {img_np_test.shape}')\n",
        "print(f'Общий массив данных изображений следующей формы: {x_data_test.shape}')\n",
        "print(f'Общий массив меток классов следующей формы: {y_data_test.shape}')"
      ],
      "metadata": {
        "colab": {
          "base_uri": "https://localhost:8080/"
        },
        "id": "TPV1jJ-r2ddC",
        "outputId": "baee3f6c-e14f-4aba-f128-8cde2d107d2d"
      },
      "execution_count": null,
      "outputs": [
        {
          "output_type": "stream",
          "name": "stdout",
          "text": [
            "В массив собрано 64 фотографий следующей формы: (60, 80, 3)\n",
            "Общий массив данных изображений следующей формы: (64, 60, 80, 3)\n",
            "Общий массив меток классов следующей формы: (64,)\n"
          ]
        }
      ]
    },
    {
      "cell_type": "markdown",
      "source": [
        "### **Деление на выборки**"
      ],
      "metadata": {
        "id": "fZj6tvo1jSMm"
      }
    },
    {
      "cell_type": "code",
      "source": [
        "x_train_small, x_val_small, y_train_small, y_val_small = train_test_split(x_data_small, y_data, test_size=0.2, random_state=42)\n"
      ],
      "metadata": {
        "id": "wxfvjao-hGYG"
      },
      "execution_count": null,
      "outputs": []
    },
    {
      "cell_type": "code",
      "source": [
        "y_train_small = to_categorical(y_train_small)\n",
        "y_val_small = to_categorical(y_val_small)\n",
        "y_data_test = to_categorical(y_data_test)\n"
      ],
      "metadata": {
        "id": "Jyj_6lNThGbs"
      },
      "execution_count": null,
      "outputs": []
    },
    {
      "cell_type": "code",
      "source": [
        "print('\\nРазмерности датасетов с изображениями 80 на 60')\n",
        "print('Тренировочный датасет:')\n",
        "print(x_train_small.shape)\n",
        "print(y_train_small.shape)\n",
        "print('Проверочный датасет:')\n",
        "print(x_val_small.shape)\n",
        "print(y_val_small.shape)\n",
        "print('Тестовый датасет:')\n",
        "print(x_data_test.shape)\n",
        "print(y_data_test.shape)"
      ],
      "metadata": {
        "id": "CGxSwIAdhGfe",
        "colab": {
          "base_uri": "https://localhost:8080/"
        },
        "outputId": "9777a025-7f68-4437-c43b-9ceb55112814"
      },
      "execution_count": null,
      "outputs": [
        {
          "output_type": "stream",
          "name": "stdout",
          "text": [
            "\n",
            "Размерности датасетов с изображениями 80 на 60\n",
            "Тренировочный датасет:\n",
            "(2560, 60, 80, 3)\n",
            "(2560, 64)\n",
            "Проверочный датасет:\n",
            "(640, 60, 80, 3)\n",
            "(640, 64)\n",
            "Тестовый датасет:\n",
            "(64, 60, 80, 3)\n",
            "(64, 64)\n"
          ]
        }
      ]
    },
    {
      "cell_type": "markdown",
      "source": [
        "## **Оптимизация обучения модели**"
      ],
      "metadata": {
        "id": "oWsHTIn-mpLM"
      }
    },
    {
      "cell_type": "code",
      "source": [
        "checkpoint = ModelCheckpoint(filepath=\"my_model.hdf5\", monitor=\"val_loss\", verbose=0, save_best_only=True)"
      ],
      "metadata": {
        "id": "ENwl_m9gllQQ"
      },
      "execution_count": null,
      "outputs": []
    },
    {
      "cell_type": "markdown",
      "source": [
        "## **Работа с моделью**"
      ],
      "metadata": {
        "id": "5mlB9DKVn8YP"
      }
    },
    {
      "cell_type": "markdown",
      "source": [
        "### **Архитектура модели**"
      ],
      "metadata": {
        "id": "u6KmeXgXpNPy"
      }
    },
    {
      "cell_type": "code",
      "source": [
        "resnet50_preprocess_input = tf.keras.applications.resnet50.preprocess_input\n",
        "resnet50_layer = tf.keras.applications.resnet50.ResNet50(input_shape=x_train_small.shape[1:],\n",
        "                         include_top=False,\n",
        "                         weights='imagenet')\n",
        "\n",
        "inputs = tf.keras.Input(shape=x_train_small.shape[1:])\n",
        "x = resnet50_preprocess_input(inputs)\n",
        "x = resnet50_layer(x, training=False)\n",
        "x = GlobalAveragePooling2D()(x)\n",
        "x = Dropout(0.2)(x)\n",
        "\n",
        "outputs = Dense(64, activation='softmax')(x)\n",
        "model = tf.keras.Model(inputs, outputs)"
      ],
      "metadata": {
        "id": "JxBGWc_SllUN",
        "colab": {
          "base_uri": "https://localhost:8080/"
        },
        "outputId": "bf413f06-e068-4187-bf72-421d67bbf044"
      },
      "execution_count": null,
      "outputs": [
        {
          "output_type": "stream",
          "name": "stdout",
          "text": [
            "Downloading data from https://storage.googleapis.com/tensorflow/keras-applications/resnet/resnet50_weights_tf_dim_ordering_tf_kernels_notop.h5\n",
            "94765736/94765736 [==============================] - 5s 0us/step\n"
          ]
        }
      ]
    },
    {
      "cell_type": "markdown",
      "source": [
        "### **Обучение модели**"
      ],
      "metadata": {
        "id": "ffV1euwEpZ35"
      }
    },
    {
      "cell_type": "code",
      "source": [
        "model.compile(\n",
        "              optimizer=tf.keras.optimizers.Adam(0.0001),\n",
        "              loss='categorical_crossentropy',\n",
        "              metrics='accuracy')"
      ],
      "metadata": {
        "id": "1pfIfc1GoeEs"
      },
      "execution_count": null,
      "outputs": []
    },
    {
      "cell_type": "code",
      "source": [
        "history_resnet = model.fit(\n",
        "                          x_train_small,\n",
        "                          y_train_small,\n",
        "                          validation_data=(x_val_small, y_val_small),\n",
        "                          epochs=20,\n",
        "                          callbacks=checkpoint,\n",
        "                          )"
      ],
      "metadata": {
        "id": "itgdfojvoeIm",
        "colab": {
          "base_uri": "https://localhost:8080/"
        },
        "outputId": "434e6168-81e0-4bdc-d00a-7ebecfba93f0"
      },
      "execution_count": null,
      "outputs": [
        {
          "output_type": "stream",
          "name": "stdout",
          "text": [
            "Epoch 1/20\n",
            "80/80 [==============================] - 56s 94ms/step - loss: 3.0740 - accuracy: 0.2363 - val_loss: 0.7249 - val_accuracy: 0.7812\n",
            "Epoch 2/20\n",
            "80/80 [==============================] - 6s 80ms/step - loss: 0.3710 - accuracy: 0.8828 - val_loss: 0.2077 - val_accuracy: 0.9438\n",
            "Epoch 3/20\n",
            "80/80 [==============================] - 6s 81ms/step - loss: 0.1016 - accuracy: 0.9660 - val_loss: 0.0115 - val_accuracy: 0.9984\n",
            "Epoch 4/20\n",
            "80/80 [==============================] - 5s 67ms/step - loss: 0.0447 - accuracy: 0.9875 - val_loss: 0.0278 - val_accuracy: 0.9906\n",
            "Epoch 5/20\n",
            "80/80 [==============================] - 5s 65ms/step - loss: 0.0609 - accuracy: 0.9844 - val_loss: 0.0561 - val_accuracy: 0.9859\n",
            "Epoch 6/20\n",
            "80/80 [==============================] - 6s 69ms/step - loss: 0.0379 - accuracy: 0.9891 - val_loss: 0.0241 - val_accuracy: 0.9937\n",
            "Epoch 7/20\n",
            "80/80 [==============================] - 5s 66ms/step - loss: 0.0694 - accuracy: 0.9805 - val_loss: 0.0311 - val_accuracy: 0.9891\n",
            "Epoch 8/20\n",
            "80/80 [==============================] - 5s 65ms/step - loss: 0.0384 - accuracy: 0.9898 - val_loss: 0.0159 - val_accuracy: 0.9953\n",
            "Epoch 9/20\n",
            "80/80 [==============================] - 7s 85ms/step - loss: 0.0129 - accuracy: 0.9973 - val_loss: 0.0019 - val_accuracy: 1.0000\n",
            "Epoch 10/20\n",
            "80/80 [==============================] - 6s 81ms/step - loss: 2.2243e-04 - accuracy: 1.0000 - val_loss: 5.5622e-04 - val_accuracy: 1.0000\n",
            "Epoch 11/20\n",
            "80/80 [==============================] - 7s 85ms/step - loss: 1.9793e-05 - accuracy: 1.0000 - val_loss: 4.2584e-04 - val_accuracy: 1.0000\n",
            "Epoch 12/20\n",
            "80/80 [==============================] - 6s 81ms/step - loss: 1.6621e-05 - accuracy: 1.0000 - val_loss: 3.8051e-04 - val_accuracy: 1.0000\n",
            "Epoch 13/20\n",
            "80/80 [==============================] - 7s 89ms/step - loss: 5.8482e-06 - accuracy: 1.0000 - val_loss: 3.0401e-04 - val_accuracy: 1.0000\n",
            "Epoch 14/20\n",
            "80/80 [==============================] - 6s 81ms/step - loss: 5.4724e-06 - accuracy: 1.0000 - val_loss: 2.8399e-04 - val_accuracy: 1.0000\n",
            "Epoch 15/20\n",
            "80/80 [==============================] - 7s 90ms/step - loss: 3.5334e-06 - accuracy: 1.0000 - val_loss: 1.8470e-04 - val_accuracy: 1.0000\n",
            "Epoch 16/20\n",
            "80/80 [==============================] - 7s 81ms/step - loss: 1.8502e-06 - accuracy: 1.0000 - val_loss: 1.7638e-04 - val_accuracy: 1.0000\n",
            "Epoch 17/20\n",
            "80/80 [==============================] - 6s 70ms/step - loss: 3.1717e-06 - accuracy: 1.0000 - val_loss: 2.4861e-04 - val_accuracy: 1.0000\n",
            "Epoch 18/20\n",
            "80/80 [==============================] - 5s 66ms/step - loss: 1.6866e-06 - accuracy: 1.0000 - val_loss: 1.7831e-04 - val_accuracy: 1.0000\n",
            "Epoch 19/20\n",
            "80/80 [==============================] - 7s 88ms/step - loss: 1.7865e-06 - accuracy: 1.0000 - val_loss: 1.1773e-04 - val_accuracy: 1.0000\n",
            "Epoch 20/20\n",
            "80/80 [==============================] - 7s 82ms/step - loss: 8.4496e-07 - accuracy: 1.0000 - val_loss: 8.6172e-05 - val_accuracy: 1.0000\n"
          ]
        }
      ]
    },
    {
      "cell_type": "code",
      "source": [
        "model_resnet50 = model.save_weights(filepath='model_weights_resnet50.h5')"
      ],
      "metadata": {
        "id": "wq1uuEhUetv9"
      },
      "execution_count": null,
      "outputs": []
    },
    {
      "cell_type": "code",
      "source": [
        "model.load_weights(filepath='model_weights_resnet50.h5')"
      ],
      "metadata": {
        "id": "W-GeXZNDet9e"
      },
      "execution_count": null,
      "outputs": []
    },
    {
      "cell_type": "markdown",
      "source": [
        "## **Проверка модели**"
      ],
      "metadata": {
        "id": "7BTf7x3BrTyH"
      }
    },
    {
      "cell_type": "markdown",
      "source": [
        "### **Визуализация результатов работы модели**"
      ],
      "metadata": {
        "id": "LKz3yaLitD6k"
      }
    },
    {
      "cell_type": "code",
      "source": [
        "# Визуализация точности на обучающей выборке\n",
        "plt.plot(history_resnet.history['accuracy'],\n",
        "         label='Доля верных ответов на обучающем наборе')\n",
        "\n",
        "# Визуализация точности на проверочной выборке\n",
        "plt.plot(history_resnet.history['val_accuracy'],\n",
        "         label='Доля верных ответов на проверочном наборе')\n",
        "\n",
        "# Отрисовка подписей осей\n",
        "plt.xlabel('Эпоха обучения')\n",
        "plt.ylabel('Доля верных ответов')\n",
        "\n",
        "# Отрисовка легенды\n",
        "plt.legend()\n",
        "\n",
        "# Вывод графика\n",
        "plt.show()"
      ],
      "metadata": {
        "id": "ePT8wjOvtEbl",
        "colab": {
          "base_uri": "https://localhost:8080/",
          "height": 449
        },
        "outputId": "59fd1e24-3664-4f88-cabf-975f60f67b13"
      },
      "execution_count": null,
      "outputs": [
        {
          "output_type": "display_data",
          "data": {
            "text/plain": [
              "<Figure size 640x480 with 1 Axes>"
            ],
            "image/png": "[encoded data removed]"
          },
          "metadata": {}
        }
      ]
    },
    {
      "cell_type": "code",
      "source": [
        "# Визуализация ошибки на обучающей выборке\n",
        "plt.plot(history_resnet.history['loss'],\n",
        "         label='Ошибка на обучающем наборе')\n",
        "\n",
        "# Визуализация ошибки на проверочной выборке\n",
        "plt.plot(history_resnet.history['val_loss'],\n",
        "         label='Ошибка на проверочном наборе')\n",
        "\n",
        "# Отрисовка подписей осей\n",
        "plt.xlabel('Эпоха обучения')\n",
        "plt.ylabel('Ошибка')\n",
        "\n",
        "plt.legend()\n",
        "\n",
        "plt.show()"
      ],
      "metadata": {
        "id": "FQlJqb0RuNcd",
        "colab": {
          "base_uri": "https://localhost:8080/",
          "height": 449
        },
        "outputId": "dcb2fbf4-3a87-4d2d-8824-125ca5a135a6"
      },
      "execution_count": null,
      "outputs": [
        {
          "output_type": "display_data",
          "data": {
            "text/plain": [
              "<Figure size 640x480 with 1 Axes>"
            ],
            "image/png": "[encoded data removed]"
          },
          "metadata": {}
        }
      ]
    },
    {
      "cell_type": "markdown",
      "source": [
        "### **Проверка evaluate**"
      ],
      "metadata": {
        "id": "NtD32wzMsaNW"
      }
    },
    {
      "cell_type": "code",
      "source": [
        "scores_small = model.evaluate(x_data_test,\n",
        "                              y_data_test,\n",
        "                              verbose=1\n",
        "                              )\n",
        "\n",
        "print('Процент верных ответов на тестовых данных размером 80 на 60:', round(scores_small[1],4) * 100, '%')"
      ],
      "metadata": {
        "id": "X8-jHLq8oeMl",
        "colab": {
          "base_uri": "https://localhost:8080/"
        },
        "outputId": "718fdf31-ed7f-4c6a-f0d3-23b603f6616e"
      },
      "execution_count": null,
      "outputs": [
        {
          "output_type": "stream",
          "name": "stdout",
          "text": [
            "2/2 [==============================] - 0s 30ms/step - loss: 5.9637e-04 - accuracy: 1.0000\n",
            "Процент верных ответов на тестовых данных размером 80 на 60: 100.0 %\n"
          ]
        }
      ]
    },
    {
      "cell_type": "markdown",
      "source": [
        "### **Проверка predict**"
      ],
      "metadata": {
        "id": "I-yzUrQasG7b"
      }
    },
    {
      "cell_type": "code",
      "source": [
        "predict_num = int(input('Введите номер интересующего пациента: '))\n",
        "x = x_data_test[predict_num]\n",
        "print(x.shape)\n",
        "\n",
        "x = np.expand_dims(x, axis=0)\n",
        "print(x.shape)\n",
        "\n",
        "prediction = model.predict(x)\n",
        "# print(prediction)\n",
        "\n",
        "pred = np.argmax(prediction)\n",
        "print(f'Распознан пациент: {pred}')\n",
        "print(f'Настоящий пациент: {np.argmax(y_data_test[predict_num])}')"
      ],
      "metadata": {
        "id": "kZxForYOllYT",
        "colab": {
          "base_uri": "https://localhost:8080/"
        },
        "outputId": "99b2550f-f782-47dc-fcb2-d1f88a196890"
      },
      "execution_count": null,
      "outputs": [
        {
          "output_type": "stream",
          "name": "stdout",
          "text": [
            "Введите номер интересующего пациента: 25\n",
            "(60, 80, 3)\n",
            "(1, 60, 80, 3)\n",
            "1/1 [==============================] - 0s 23ms/step\n",
            "Распознан пациент: 25\n",
            "Настоящий пациент: 25\n"
          ]
        }
      ]
    }
  ]
}