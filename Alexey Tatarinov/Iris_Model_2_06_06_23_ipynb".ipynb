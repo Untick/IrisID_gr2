{
  "nbformat": 4,
  "nbformat_minor": 0,
  "metadata": {
    "colab": {
      "provenance": [],
      "collapsed_sections": [
        "zF9D5Fn2OSQW",
        "w-WCKvh-bPDH",
        "1Nuho1BTbdmf",
        "Uxl5sULeb-lO",
        "4Lqxbiargux7",
        "fZj6tvo1jSMm",
        "oWsHTIn-mpLM",
        "5mlB9DKVn8YP",
        "u6KmeXgXpNPy",
        "ffV1euwEpZ35",
        "LKz3yaLitD6k",
        "NtD32wzMsaNW"
      ],
      "gpuType": "T4",
      "authorship_tag": "ABX9TyPwdsHNuLQZqz76M/nl/dOo",
      "include_colab_link": true
    },
    "kernelspec": {
      "name": "python3",
      "display_name": "Python 3"
    },
    "language_info": {
      "name": "python"
    },
    "accelerator": "GPU",
    "gpuClass": "standard"
  },
  "cells": [
    {
      "cell_type": "markdown",
      "metadata": {
        "id": "view-in-github",
        "colab_type": "text"
      },
      "source": [
        "<a href=\"https://colab.research.google.com/github/Untick/IrisID_gr2/blob/Alexey-Tatarinov-folder/Alexey%20Tatarinov/Iris_Model_2_06_06_23_ipynb%22.ipynb\" target=\"_parent\"><img src=\"https://colab.research.google.com/assets/colab-badge.svg\" alt=\"Open In Colab\"/></a>"
      ]
    },
    {
      "cell_type": "markdown",
      "source": [
        "# **Импорт библиотек и модулей**"
      ],
      "metadata": {
        "id": "zF9D5Fn2OSQW"
      }
    },
    {
      "cell_type": "code",
      "execution_count": null,
      "metadata": {
        "id": "YzRcKkv4LE6P",
        "colab": {
          "base_uri": "https://localhost:8080/"
        },
        "outputId": "880b4ca8-3913-4af9-d563-726140abea48"
      },
      "outputs": [
        {
          "output_type": "stream",
          "name": "stdout",
          "text": [
            "Looking in indexes: https://pypi.org/simple, https://us-python.pkg.dev/colab-wheels/public/simple/\n",
            "Collecting autokeras\n",
            "  Downloading autokeras-1.1.0-py3-none-any.whl (148 kB)\n",
            "\u001b[2K     \u001b[90m━━━━━━━━━━━━━━━━━━━━━━━━━━━━━━━━━━━━━━━\u001b[0m \u001b[32m148.6/148.6 kB\u001b[0m \u001b[31m4.5 MB/s\u001b[0m eta \u001b[36m0:00:00\u001b[0m\n",
            "\u001b[?25hRequirement already satisfied: packaging in /usr/local/lib/python3.10/dist-packages (from autokeras) (23.1)\n",
            "Requirement already satisfied: tensorflow>=2.8.0 in /usr/local/lib/python3.10/dist-packages (from autokeras) (2.12.0)\n",
            "Collecting keras-tuner>=1.1.0 (from autokeras)\n",
            "  Downloading keras_tuner-1.3.5-py3-none-any.whl (176 kB)\n",
            "\u001b[2K     \u001b[90m━━━━━━━━━━━━━━━━━━━━━━━━━━━━━━━━━━━━━━\u001b[0m \u001b[32m176.1/176.1 kB\u001b[0m \u001b[31m17.7 MB/s\u001b[0m eta \u001b[36m0:00:00\u001b[0m\n",
            "\u001b[?25hCollecting keras-nlp>=0.4.0 (from autokeras)\n",
            "  Downloading keras_nlp-0.5.2-py3-none-any.whl (527 kB)\n",
            "\u001b[2K     \u001b[90m━━━━━━━━━━━━━━━━━━━━━━━━━━━━━━━━━━━━━━\u001b[0m \u001b[32m527.7/527.7 kB\u001b[0m \u001b[31m21.7 MB/s\u001b[0m eta \u001b[36m0:00:00\u001b[0m\n",
            "\u001b[?25hRequirement already satisfied: pandas in /usr/local/lib/python3.10/dist-packages (from autokeras) (1.5.3)\n",
            "Requirement already satisfied: absl-py in /usr/local/lib/python3.10/dist-packages (from keras-nlp>=0.4.0->autokeras) (1.4.0)\n",
            "Requirement already satisfied: numpy in /usr/local/lib/python3.10/dist-packages (from keras-nlp>=0.4.0->autokeras) (1.22.4)\n",
            "Collecting tensorflow-text (from keras-nlp>=0.4.0->autokeras)\n",
            "  Downloading tensorflow_text-2.12.1-cp310-cp310-manylinux_2_17_x86_64.manylinux2014_x86_64.whl (6.0 MB)\n",
            "\u001b[2K     \u001b[90m━━━━━━━━━━━━━━━━━━━━━━━━━━━━━━━━━━━━━━━━\u001b[0m \u001b[32m6.0/6.0 MB\u001b[0m \u001b[31m62.9 MB/s\u001b[0m eta \u001b[36m0:00:00\u001b[0m\n",
            "\u001b[?25hRequirement already satisfied: requests in /usr/local/lib/python3.10/dist-packages (from keras-tuner>=1.1.0->autokeras) (2.27.1)\n",
            "Collecting kt-legacy (from keras-tuner>=1.1.0->autokeras)\n",
            "  Downloading kt_legacy-1.0.5-py3-none-any.whl (9.6 kB)\n",
            "Requirement already satisfied: astunparse>=1.6.0 in /usr/local/lib/python3.10/dist-packages (from tensorflow>=2.8.0->autokeras) (1.6.3)\n",
            "Requirement already satisfied: flatbuffers>=2.0 in /usr/local/lib/python3.10/dist-packages (from tensorflow>=2.8.0->autokeras) (23.3.3)\n",
            "Requirement already satisfied: gast<=0.4.0,>=0.2.1 in /usr/local/lib/python3.10/dist-packages (from tensorflow>=2.8.0->autokeras) (0.4.0)\n",
            "Requirement already satisfied: google-pasta>=0.1.1 in /usr/local/lib/python3.10/dist-packages (from tensorflow>=2.8.0->autokeras) (0.2.0)\n",
            "Requirement already satisfied: grpcio<2.0,>=1.24.3 in /usr/local/lib/python3.10/dist-packages (from tensorflow>=2.8.0->autokeras) (1.54.0)\n",
            "Requirement already satisfied: h5py>=2.9.0 in /usr/local/lib/python3.10/dist-packages (from tensorflow>=2.8.0->autokeras) (3.8.0)\n",
            "Requirement already satisfied: jax>=0.3.15 in /usr/local/lib/python3.10/dist-packages (from tensorflow>=2.8.0->autokeras) (0.4.10)\n",
            "Requirement already satisfied: keras<2.13,>=2.12.0 in /usr/local/lib/python3.10/dist-packages (from tensorflow>=2.8.0->autokeras) (2.12.0)\n",
            "Requirement already satisfied: libclang>=13.0.0 in /usr/local/lib/python3.10/dist-packages (from tensorflow>=2.8.0->autokeras) (16.0.0)\n",
            "Requirement already satisfied: opt-einsum>=2.3.2 in /usr/local/lib/python3.10/dist-packages (from tensorflow>=2.8.0->autokeras) (3.3.0)\n",
            "Requirement already satisfied: protobuf!=4.21.0,!=4.21.1,!=4.21.2,!=4.21.3,!=4.21.4,!=4.21.5,<5.0.0dev,>=3.20.3 in /usr/local/lib/python3.10/dist-packages (from tensorflow>=2.8.0->autokeras) (3.20.3)\n",
            "Requirement already satisfied: setuptools in /usr/local/lib/python3.10/dist-packages (from tensorflow>=2.8.0->autokeras) (67.7.2)\n",
            "Requirement already satisfied: six>=1.12.0 in /usr/local/lib/python3.10/dist-packages (from tensorflow>=2.8.0->autokeras) (1.16.0)\n",
            "Requirement already satisfied: tensorboard<2.13,>=2.12 in /usr/local/lib/python3.10/dist-packages (from tensorflow>=2.8.0->autokeras) (2.12.2)\n",
            "Requirement already satisfied: tensorflow-estimator<2.13,>=2.12.0 in /usr/local/lib/python3.10/dist-packages (from tensorflow>=2.8.0->autokeras) (2.12.0)\n",
            "Requirement already satisfied: termcolor>=1.1.0 in /usr/local/lib/python3.10/dist-packages (from tensorflow>=2.8.0->autokeras) (2.3.0)\n",
            "Requirement already satisfied: typing-extensions>=3.6.6 in /usr/local/lib/python3.10/dist-packages (from tensorflow>=2.8.0->autokeras) (4.5.0)\n",
            "Requirement already satisfied: wrapt<1.15,>=1.11.0 in /usr/local/lib/python3.10/dist-packages (from tensorflow>=2.8.0->autokeras) (1.14.1)\n",
            "Requirement already satisfied: tensorflow-io-gcs-filesystem>=0.23.1 in /usr/local/lib/python3.10/dist-packages (from tensorflow>=2.8.0->autokeras) (0.32.0)\n",
            "Requirement already satisfied: python-dateutil>=2.8.1 in /usr/local/lib/python3.10/dist-packages (from pandas->autokeras) (2.8.2)\n",
            "Requirement already satisfied: pytz>=2020.1 in /usr/local/lib/python3.10/dist-packages (from pandas->autokeras) (2022.7.1)\n",
            "Requirement already satisfied: wheel<1.0,>=0.23.0 in /usr/local/lib/python3.10/dist-packages (from astunparse>=1.6.0->tensorflow>=2.8.0->autokeras) (0.40.0)\n",
            "Requirement already satisfied: ml-dtypes>=0.1.0 in /usr/local/lib/python3.10/dist-packages (from jax>=0.3.15->tensorflow>=2.8.0->autokeras) (0.1.0)\n",
            "Requirement already satisfied: scipy>=1.7 in /usr/local/lib/python3.10/dist-packages (from jax>=0.3.15->tensorflow>=2.8.0->autokeras) (1.10.1)\n",
            "Requirement already satisfied: google-auth<3,>=1.6.3 in /usr/local/lib/python3.10/dist-packages (from tensorboard<2.13,>=2.12->tensorflow>=2.8.0->autokeras) (2.17.3)\n",
            "Requirement already satisfied: google-auth-oauthlib<1.1,>=0.5 in /usr/local/lib/python3.10/dist-packages (from tensorboard<2.13,>=2.12->tensorflow>=2.8.0->autokeras) (1.0.0)\n",
            "Requirement already satisfied: markdown>=2.6.8 in /usr/local/lib/python3.10/dist-packages (from tensorboard<2.13,>=2.12->tensorflow>=2.8.0->autokeras) (3.4.3)\n",
            "Requirement already satisfied: tensorboard-data-server<0.8.0,>=0.7.0 in /usr/local/lib/python3.10/dist-packages (from tensorboard<2.13,>=2.12->tensorflow>=2.8.0->autokeras) (0.7.0)\n",
            "Requirement already satisfied: tensorboard-plugin-wit>=1.6.0 in /usr/local/lib/python3.10/dist-packages (from tensorboard<2.13,>=2.12->tensorflow>=2.8.0->autokeras) (1.8.1)\n",
            "Requirement already satisfied: werkzeug>=1.0.1 in /usr/local/lib/python3.10/dist-packages (from tensorboard<2.13,>=2.12->tensorflow>=2.8.0->autokeras) (2.3.0)\n",
            "Requirement already satisfied: urllib3<1.27,>=1.21.1 in /usr/local/lib/python3.10/dist-packages (from requests->keras-tuner>=1.1.0->autokeras) (1.26.15)\n",
            "Requirement already satisfied: certifi>=2017.4.17 in /usr/local/lib/python3.10/dist-packages (from requests->keras-tuner>=1.1.0->autokeras) (2022.12.7)\n",
            "Requirement already satisfied: charset-normalizer~=2.0.0 in /usr/local/lib/python3.10/dist-packages (from requests->keras-tuner>=1.1.0->autokeras) (2.0.12)\n",
            "Requirement already satisfied: idna<4,>=2.5 in /usr/local/lib/python3.10/dist-packages (from requests->keras-tuner>=1.1.0->autokeras) (3.4)\n",
            "Requirement already satisfied: tensorflow-hub>=0.8.0 in /usr/local/lib/python3.10/dist-packages (from tensorflow-text->keras-nlp>=0.4.0->autokeras) (0.13.0)\n",
            "Requirement already satisfied: cachetools<6.0,>=2.0.0 in /usr/local/lib/python3.10/dist-packages (from google-auth<3,>=1.6.3->tensorboard<2.13,>=2.12->tensorflow>=2.8.0->autokeras) (5.3.0)\n",
            "Requirement already satisfied: pyasn1-modules>=0.2.1 in /usr/local/lib/python3.10/dist-packages (from google-auth<3,>=1.6.3->tensorboard<2.13,>=2.12->tensorflow>=2.8.0->autokeras) (0.3.0)\n",
            "Requirement already satisfied: rsa<5,>=3.1.4 in /usr/local/lib/python3.10/dist-packages (from google-auth<3,>=1.6.3->tensorboard<2.13,>=2.12->tensorflow>=2.8.0->autokeras) (4.9)\n",
            "Requirement already satisfied: requests-oauthlib>=0.7.0 in /usr/local/lib/python3.10/dist-packages (from google-auth-oauthlib<1.1,>=0.5->tensorboard<2.13,>=2.12->tensorflow>=2.8.0->autokeras) (1.3.1)\n",
            "Requirement already satisfied: MarkupSafe>=2.1.1 in /usr/local/lib/python3.10/dist-packages (from werkzeug>=1.0.1->tensorboard<2.13,>=2.12->tensorflow>=2.8.0->autokeras) (2.1.2)\n",
            "Requirement already satisfied: pyasn1<0.6.0,>=0.4.6 in /usr/local/lib/python3.10/dist-packages (from pyasn1-modules>=0.2.1->google-auth<3,>=1.6.3->tensorboard<2.13,>=2.12->tensorflow>=2.8.0->autokeras) (0.5.0)\n",
            "Requirement already satisfied: oauthlib>=3.0.0 in /usr/local/lib/python3.10/dist-packages (from requests-oauthlib>=0.7.0->google-auth-oauthlib<1.1,>=0.5->tensorboard<2.13,>=2.12->tensorflow>=2.8.0->autokeras) (3.2.2)\n",
            "Installing collected packages: kt-legacy, keras-tuner, tensorflow-text, keras-nlp, autokeras\n",
            "Successfully installed autokeras-1.1.0 keras-nlp-0.5.2 keras-tuner-1.3.5 kt-legacy-1.0.5 tensorflow-text-2.12.1\n",
            "Looking in indexes: https://pypi.org/simple, https://us-python.pkg.dev/colab-wheels/public/simple/\n",
            "Collecting Augmentor\n",
            "  Downloading Augmentor-0.2.12-py2.py3-none-any.whl (38 kB)\n",
            "Requirement already satisfied: Pillow>=5.2.0 in /usr/local/lib/python3.10/dist-packages (from Augmentor) (8.4.0)\n",
            "Requirement already satisfied: tqdm>=4.9.0 in /usr/local/lib/python3.10/dist-packages (from Augmentor) (4.65.0)\n",
            "Requirement already satisfied: numpy>=1.11.0 in /usr/local/lib/python3.10/dist-packages (from Augmentor) (1.22.4)\n",
            "Installing collected packages: Augmentor\n",
            "Successfully installed Augmentor-0.2.12\n"
          ]
        }
      ],
      "source": [
        "import gdown\n",
        "\n",
        "import os\n",
        "\n",
        "! pip install autokeras\n",
        "import autokeras as ak\n",
        "\n",
        "! pip install Augmentor\n",
        "import Augmentor\n",
        "\n",
        "import zipfile\n",
        "\n",
        "import numpy as np\n",
        "\n",
        "import tensorflow as tf\n",
        "\n",
        "from tensorflow.keras.models import Sequential, load_model\n",
        "\n",
        "from tensorflow.keras.layers import (Dense, Conv2D, MaxPooling2D, Flatten,\n",
        "                                     Dropout, BatchNormalization, Rescaling,\n",
        "                                     GlobalAveragePooling2D, RandomFlip, Input,\n",
        "                                     RandomRotation, RandomZoom, RandomContrast)\n",
        "\n",
        "from tensorflow.keras.applications import VGG19, ResNet50, Xception\n",
        "\n",
        "# from tensorflow.keras.applications.resnet50 import ResNet50, preprocess_input\n",
        "\n",
        "from tensorflow.keras.utils import to_categorical\n",
        "\n",
        "from tensorflow.keras.preprocessing.image import (ImageDataGenerator,\n",
        "                                                 DirectoryIterator)\n",
        "\n",
        "from tensorflow.keras.optimizers import Adam\n",
        "\n",
        "from tensorflow.keras.callbacks import ModelCheckpoint\n",
        "\n",
        "from sklearn.model_selection import train_test_split\n",
        "\n",
        "from sklearn.metrics import confusion_matrix, ConfusionMatrixDisplay\n",
        "\n",
        "from sklearn.preprocessing import LabelEncoder\n",
        "\n",
        "from sklearn.preprocessing import OneHotEncoder\n",
        "\n",
        "from PIL import Image, ImageEnhance\n",
        "\n",
        "import matplotlib.pyplot as plt\n",
        "\n",
        "%matplotlib inline"
      ]
    },
    {
      "cell_type": "markdown",
      "source": [
        "# **Подготовка датасета**"
      ],
      "metadata": {
        "id": "pPRqWB_Sbn8Q"
      }
    },
    {
      "cell_type": "markdown",
      "source": [
        "## **Задание гиперпараметров**"
      ],
      "metadata": {
        "id": "w-WCKvh-bPDH"
      }
    },
    {
      "cell_type": "code",
      "source": [
        "PATH          = '/content/drive/MyDrive/iris_ds'\n",
        "PATH_AUG      = '/content/drive/MyDrive/Iris'\n",
        "TRAIN_VAL_PATH_AUG = '/content/drive/MyDrive/Iris_train_val_aug'\n",
        "TRAIN_VAL_PATH = '/content/drive/MyDrive/iris_ds_train_val'\n",
        "TEST_PATH = '/content/drive/MyDrive/iris_ds_test'\n",
        "\n",
        "VAL_SPLIT           = 0.2\n",
        "\n",
        "IMG_WIDTH_1         = 160\n",
        "IMG_HEIGHT_1        = 120\n",
        "IMG_WIDTH_2         = 80\n",
        "IMG_HEIGHT_2        = 60\n",
        "IMG_CHANNELS        = 3\n",
        "\n",
        "ROTATION_RANGE      = 10\n",
        "WIDTH_SHIFT_RANGE   = 0.1\n",
        "HEIGHT_SHIFT_RANGE  = 0.1\n",
        "ZOOM_RANGE          = 0.1\n",
        "BRIGHTNESS_RANGE    = (0.5, 1.3)\n",
        "HORIZONTAL_FLIP     = False\n",
        "\n",
        "EPOCHS              = 20\n",
        "BATCH_SIZE          = 24\n",
        "OPTIMIZER_LEGACY    = tf.keras.optimizers.legacy.Adam(0.0001)\n",
        "OPTIMIZER           = tf.keras.optimizers.Adam(0.0001)"
      ],
      "metadata": {
        "id": "gSCENm0FbPQa"
      },
      "execution_count": null,
      "outputs": []
    },
    {
      "cell_type": "markdown",
      "source": [
        "## **Загрузка датасета**"
      ],
      "metadata": {
        "id": "1Nuho1BTbdmf"
      }
    },
    {
      "cell_type": "code",
      "source": [
        "from google.colab import drive\n",
        "drive.mount('/content/drive')"
      ],
      "metadata": {
        "id": "PZYmJsQbbdzF",
        "colab": {
          "base_uri": "https://localhost:8080/"
        },
        "outputId": "dbb1c0ee-de3a-4fbf-d558-38289ce63932"
      },
      "execution_count": null,
      "outputs": [
        {
          "output_type": "stream",
          "name": "stdout",
          "text": [
            "Mounted at /content/drive\n"
          ]
        }
      ]
    },
    {
      "cell_type": "code",
      "source": [
        "import os\n",
        "import shutil\n",
        "\n",
        "# Создание целевых папок, если они не существуют\n",
        "os.makedirs(TEST_PATH, exist_ok=True)\n",
        "os.makedirs(TRAIN_VAL_PATH, exist_ok=True)\n",
        "\n",
        "# Получение списка подпапок в папке PATH\n",
        "subfolders = [f for f in os.listdir(PATH) if os.path.isdir(os.path.join(PATH, f))]\n",
        "\n",
        "# Обработка каждой подпапки\n",
        "for subfolder in subfolders:\n",
        "    # Путь к исходной папке клиента\n",
        "    client_folder = os.path.join(PATH, subfolder)\n",
        "\n",
        "    # Путь к папке клиента в '/content/drive/MyDrive/iris_ds_test'\n",
        "    target_client_folder_1 = os.path.join(TEST_PATH, subfolder)\n",
        "    os.makedirs(target_client_folder_1, exist_ok=True)\n",
        "\n",
        "    # Путь к папке клиента в '/content/drive/MyDrive/iris_ds_train_val'\n",
        "    target_client_folder_2 = os.path.join(TRAIN_VAL_PATH, subfolder)\n",
        "    os.makedirs(target_client_folder_2, exist_ok=True)\n",
        "\n",
        "    # Получение списка файлов в папке клиента\n",
        "    files = os.listdir(client_folder)\n",
        "\n",
        "    # Копирование первого файла в '/content/drive/MyDrive/iris_ds_test'\n",
        "    first_file = files[0]\n",
        "    source_path = os.path.join(client_folder, first_file)\n",
        "    target_path = os.path.join(target_client_folder_1, first_file)\n",
        "    shutil.copyfile(source_path, target_path)\n",
        "\n",
        "    # Копирование оставшихся пяти файлов в '/content/drive/MyDrive/iris_ds_train_val'\n",
        "    remaining_files = files[1:]\n",
        "    for file in remaining_files:\n",
        "        source_path = os.path.join(client_folder, file)\n",
        "        target_path = os.path.join(target_client_folder_2, file)\n",
        "        shutil.copyfile(source_path, target_path)"
      ],
      "metadata": {
        "id": "WsxmTes1144q"
      },
      "execution_count": null,
      "outputs": []
    },
    {
      "cell_type": "markdown",
      "source": [
        "## **Аугментация**"
      ],
      "metadata": {
        "id": "Uxl5sULeb-lO"
      }
    },
    {
      "cell_type": "code",
      "source": [
        "for folder in os.listdir(TRAIN_VAL_PATH):\n",
        "    if os.path.isdir(os.path.join(TRAIN_VAL_PATH, folder)):\n",
        "        # Создаем генератор аугментации для каждой папки\n",
        "        p = Augmentor.Pipeline(os.path.join(TRAIN_VAL_PATH, folder), output_directory=os.path.join(f'/content/drive/MyDrive/Iris_train_val_aug/{folder}'))\n",
        "        # Добавляем операции аугментации\n",
        "        # Вращение изображения\n",
        "        p.rotate(probability=0.2, max_left_rotation=10, max_right_rotation=10)\n",
        "        # увеличение\n",
        "        #p.zoom(probability=0.2, min_factor=1.1, max_factor=1.2)\n",
        "        # Обрезание изображения\n",
        "        p.crop_random(probability=0.1, percentage_area=0.95)\n",
        "        # Изменение яркости\n",
        "        p.random_brightness(probability=0.5, min_factor=0.7, max_factor=1.3)\n",
        "        # Изменение контрасности\n",
        "        p.random_contrast(probability=0.5, min_factor=0.7, max_factor=1.3)\n",
        "        # Применяем аугментацию\n",
        "        p.sample(50)\n",
        "print('Аугментация завершена')"
      ],
      "metadata": {
        "id": "G08WRtGbb-1R",
        "colab": {
          "base_uri": "https://localhost:8080/",
          "height": 232
        },
        "outputId": "a754cf78-4e4e-464f-b339-b0eb9dfcd6cc"
      },
      "execution_count": null,
      "outputs": [
        {
          "output_type": "error",
          "ename": "FileNotFoundError",
          "evalue": "ignored",
          "traceback": [
            "\u001b[0;31m---------------------------------------------------------------------------\u001b[0m",
            "\u001b[0;31mFileNotFoundError\u001b[0m                         Traceback (most recent call last)",
            "\u001b[0;32m<ipython-input-3-28b3e3256a16>\u001b[0m in \u001b[0;36m<cell line: 1>\u001b[0;34m()\u001b[0m\n\u001b[0;32m----> 1\u001b[0;31m \u001b[0;32mfor\u001b[0m \u001b[0mfolder\u001b[0m \u001b[0;32min\u001b[0m \u001b[0mos\u001b[0m\u001b[0;34m.\u001b[0m\u001b[0mlistdir\u001b[0m\u001b[0;34m(\u001b[0m\u001b[0mTRAIN_PATH\u001b[0m\u001b[0;34m)\u001b[0m\u001b[0;34m:\u001b[0m\u001b[0;34m\u001b[0m\u001b[0;34m\u001b[0m\u001b[0m\n\u001b[0m\u001b[1;32m      2\u001b[0m     \u001b[0;32mif\u001b[0m \u001b[0mos\u001b[0m\u001b[0;34m.\u001b[0m\u001b[0mpath\u001b[0m\u001b[0;34m.\u001b[0m\u001b[0misdir\u001b[0m\u001b[0;34m(\u001b[0m\u001b[0mos\u001b[0m\u001b[0;34m.\u001b[0m\u001b[0mpath\u001b[0m\u001b[0;34m.\u001b[0m\u001b[0mjoin\u001b[0m\u001b[0;34m(\u001b[0m\u001b[0mTRAIN_PATH\u001b[0m\u001b[0;34m,\u001b[0m \u001b[0mfolder\u001b[0m\u001b[0;34m)\u001b[0m\u001b[0;34m)\u001b[0m\u001b[0;34m:\u001b[0m\u001b[0;34m\u001b[0m\u001b[0;34m\u001b[0m\u001b[0m\n\u001b[1;32m      3\u001b[0m         \u001b[0;31m# Создаем генератор аугментации для каждой папки\u001b[0m\u001b[0;34m\u001b[0m\u001b[0;34m\u001b[0m\u001b[0m\n\u001b[1;32m      4\u001b[0m         \u001b[0mp\u001b[0m \u001b[0;34m=\u001b[0m \u001b[0mAugmentor\u001b[0m\u001b[0;34m.\u001b[0m\u001b[0mPipeline\u001b[0m\u001b[0;34m(\u001b[0m\u001b[0mos\u001b[0m\u001b[0;34m.\u001b[0m\u001b[0mpath\u001b[0m\u001b[0;34m.\u001b[0m\u001b[0mjoin\u001b[0m\u001b[0;34m(\u001b[0m\u001b[0mTRAIN_PATH\u001b[0m\u001b[0;34m,\u001b[0m \u001b[0mfolder\u001b[0m\u001b[0;34m)\u001b[0m\u001b[0;34m,\u001b[0m \u001b[0moutput_directory\u001b[0m\u001b[0;34m=\u001b[0m\u001b[0mos\u001b[0m\u001b[0;34m.\u001b[0m\u001b[0mpath\u001b[0m\u001b[0;34m.\u001b[0m\u001b[0mjoin\u001b[0m\u001b[0;34m(\u001b[0m\u001b[0;34mf'/content/drive/MyDrive/Iris/{folder}'\u001b[0m\u001b[0;34m)\u001b[0m\u001b[0;34m)\u001b[0m\u001b[0;34m\u001b[0m\u001b[0;34m\u001b[0m\u001b[0m\n\u001b[1;32m      5\u001b[0m         \u001b[0;31m# Добавляем операции аугментации\u001b[0m\u001b[0;34m\u001b[0m\u001b[0;34m\u001b[0m\u001b[0m\n",
            "\u001b[0;31mFileNotFoundError\u001b[0m: [Errno 2] No such file or directory: '/content/drive/MyDrive/iris_ds'"
          ]
        }
      ]
    },
    {
      "cell_type": "markdown",
      "source": [
        "## **Создание базы**"
      ],
      "metadata": {
        "id": "4Lqxbiargux7"
      }
    },
    {
      "cell_type": "code",
      "source": [
        "CLASS_LIST = sorted(os.listdir(TRAIN_VAL_PATH_AUG))\n",
        "CLASS_COUNT = len(CLASS_LIST)\n",
        "\n",
        "print(f'Количество классов: {CLASS_COUNT}, метки классов: {CLASS_LIST}')"
      ],
      "metadata": {
        "id": "fhf5nbG5gvcP",
        "colab": {
          "base_uri": "https://localhost:8080/"
        },
        "outputId": "93ef7434-eb1a-4898-a07b-84b0a894a1b9"
      },
      "execution_count": null,
      "outputs": [
        {
          "output_type": "stream",
          "name": "stdout",
          "text": [
            "Количество классов: 64, метки классов: ['client_1', 'client_10', 'client_11', 'client_12', 'client_13', 'client_14', 'client_15', 'client_16', 'client_17', 'client_18', 'client_19', 'client_2', 'client_20', 'client_21', 'client_22', 'client_23', 'client_24', 'client_25', 'client_26', 'client_27', 'client_28', 'client_29', 'client_3', 'client_30', 'client_31', 'client_32', 'client_33', 'client_34', 'client_35', 'client_36', 'client_37', 'client_38', 'client_39', 'client_4', 'client_40', 'client_41', 'client_42', 'client_43', 'client_44', 'client_45', 'client_46', 'client_47', 'client_48', 'client_49', 'client_5', 'client_50', 'client_51', 'client_52', 'client_53', 'client_54', 'client_55', 'client_56', 'client_57', 'client_58', 'client_59', 'client_6', 'client_60', 'client_61', 'client_62', 'client_63', 'client_64', 'client_7', 'client_8', 'client_9']\n"
          ]
        }
      ]
    },
    {
      "cell_type": "code",
      "source": [
        "data_files = []\n",
        "data_labels = []\n",
        "\n",
        "for class_label in range(CLASS_COUNT):    # Для всех классов по порядку номеров (их меток)\n",
        "    class_name = CLASS_LIST[class_label]  # Выборка имени класса из списка имен\n",
        "    class_path = f'{TRAIN_VAL_PATH_AUG}/{class_name}'  # Формирование полного пути к папке с изображениями класса\n",
        "    class_files = os.listdir(class_path)  # Получение списка имен файлов с изображениями текущего класса\n",
        "    data_files += [f'{class_path}/{file_name}' for file_name in class_files]\n",
        "    data_labels += [class_label] * len(class_files)\n",
        "    print(f'Размер класса {class_name} составляет {len(class_files)} снимков')\n",
        "\n",
        "print('Общий размер базы для обучения:', len(data_labels))"
      ],
      "metadata": {
        "id": "z33I7y47hFnG",
        "colab": {
          "base_uri": "https://localhost:8080/"
        },
        "outputId": "78e7960d-1ee0-48fc-8e3f-eac447d37a23"
      },
      "execution_count": null,
      "outputs": [
        {
          "output_type": "stream",
          "name": "stdout",
          "text": [
            "Размер класса client_1 составляет 50 снимков\n",
            "Размер класса client_10 составляет 50 снимков\n",
            "Размер класса client_11 составляет 50 снимков\n",
            "Размер класса client_12 составляет 50 снимков\n",
            "Размер класса client_13 составляет 50 снимков\n",
            "Размер класса client_14 составляет 50 снимков\n",
            "Размер класса client_15 составляет 50 снимков\n",
            "Размер класса client_16 составляет 50 снимков\n",
            "Размер класса client_17 составляет 50 снимков\n",
            "Размер класса client_18 составляет 50 снимков\n",
            "Размер класса client_19 составляет 50 снимков\n",
            "Размер класса client_2 составляет 50 снимков\n",
            "Размер класса client_20 составляет 50 снимков\n",
            "Размер класса client_21 составляет 50 снимков\n",
            "Размер класса client_22 составляет 50 снимков\n",
            "Размер класса client_23 составляет 50 снимков\n",
            "Размер класса client_24 составляет 50 снимков\n",
            "Размер класса client_25 составляет 50 снимков\n",
            "Размер класса client_26 составляет 50 снимков\n",
            "Размер класса client_27 составляет 50 снимков\n",
            "Размер класса client_28 составляет 50 снимков\n",
            "Размер класса client_29 составляет 50 снимков\n",
            "Размер класса client_3 составляет 50 снимков\n",
            "Размер класса client_30 составляет 50 снимков\n",
            "Размер класса client_31 составляет 50 снимков\n",
            "Размер класса client_32 составляет 50 снимков\n",
            "Размер класса client_33 составляет 50 снимков\n",
            "Размер класса client_34 составляет 50 снимков\n",
            "Размер класса client_35 составляет 50 снимков\n",
            "Размер класса client_36 составляет 50 снимков\n",
            "Размер класса client_37 составляет 50 снимков\n",
            "Размер класса client_38 составляет 50 снимков\n",
            "Размер класса client_39 составляет 50 снимков\n",
            "Размер класса client_4 составляет 50 снимков\n",
            "Размер класса client_40 составляет 50 снимков\n",
            "Размер класса client_41 составляет 50 снимков\n",
            "Размер класса client_42 составляет 50 снимков\n",
            "Размер класса client_43 составляет 50 снимков\n",
            "Размер класса client_44 составляет 50 снимков\n",
            "Размер класса client_45 составляет 50 снимков\n",
            "Размер класса client_46 составляет 50 снимков\n",
            "Размер класса client_47 составляет 50 снимков\n",
            "Размер класса client_48 составляет 50 снимков\n",
            "Размер класса client_49 составляет 50 снимков\n",
            "Размер класса client_5 составляет 50 снимков\n",
            "Размер класса client_50 составляет 50 снимков\n",
            "Размер класса client_51 составляет 50 снимков\n",
            "Размер класса client_52 составляет 50 снимков\n",
            "Размер класса client_53 составляет 50 снимков\n",
            "Размер класса client_54 составляет 50 снимков\n",
            "Размер класса client_55 составляет 50 снимков\n",
            "Размер класса client_56 составляет 50 снимков\n",
            "Размер класса client_57 составляет 50 снимков\n",
            "Размер класса client_58 составляет 50 снимков\n",
            "Размер класса client_59 составляет 50 снимков\n",
            "Размер класса client_6 составляет 50 снимков\n",
            "Размер класса client_60 составляет 50 снимков\n",
            "Размер класса client_61 составляет 50 снимков\n",
            "Размер класса client_62 составляет 50 снимков\n",
            "Размер класса client_63 составляет 50 снимков\n",
            "Размер класса client_64 составляет 50 снимков\n",
            "Размер класса client_7 составляет 50 снимков\n",
            "Размер класса client_8 составляет 50 снимков\n",
            "Размер класса client_9 составляет 50 снимков\n",
            "Общий размер базы для обучения: 3200\n"
          ]
        }
      ]
    },
    {
      "cell_type": "code",
      "source": [
        "# data_images_1 = []\n",
        "\n",
        "# for file_name in data_files:\n",
        "#     img = Image.open(file_name).resize((IMG_WIDTH_1, IMG_HEIGHT_1))\n",
        "#     img_np = np.array(img)\n",
        "#     data_images_1.append(img_np)\n",
        "\n",
        "# x_data_big = np.array(data_images_1)\n",
        "# y_data = np.array(data_labels)\n",
        "\n",
        "# print(f'В массив собрано {len(data_images_1)} фотографий следующей формы: {img_np.shape}')\n",
        "# print(f'Общий массив данных изображений следующей формы: {x_data_big.shape}')\n",
        "# print(f'Общий массив меток классов следующей формы: {y_data.shape}')\n",
        "\n",
        "data_images = []\n",
        "\n",
        "for file_name in data_files:\n",
        "    img = Image.open(file_name).resize((IMG_WIDTH_2, IMG_HEIGHT_2))\n",
        "    img_np = np.array(img)\n",
        "    data_images.append(img_np)\n",
        "\n",
        "x_data_small = np.array(data_images)\n",
        "y_data = np.array(data_labels)\n",
        "\n",
        "print(f'В массив собрано {len(data_images)} фотографий следующей формы: {img_np.shape}')\n",
        "print(f'Общий массив данных изображений следующей формы: {x_data_small.shape}')\n",
        "print(f'Общий массив меток классов следующей формы: {y_data.shape}')"
      ],
      "metadata": {
        "id": "Ur6hUXa4hFwc",
        "colab": {
          "base_uri": "https://localhost:8080/"
        },
        "outputId": "7f1085f8-2f2f-485d-b001-d04d840f5da8"
      },
      "execution_count": null,
      "outputs": [
        {
          "output_type": "stream",
          "name": "stdout",
          "text": [
            "В массив собрано 3200 фотографий следующей формы: (60, 80, 3)\n",
            "Общий массив данных изображений следующей формы: (3200, 60, 80, 3)\n",
            "Общий массив меток классов следующей формы: (3200,)\n"
          ]
        }
      ]
    },
    {
      "cell_type": "code",
      "source": [
        "CLASS_LIST_TEST = sorted(os.listdir(TEST_PATH))\n",
        "CLASS_COUNT_TEST = len(CLASS_LIST_TEST)\n",
        "\n",
        "print(f'Количество классов: {CLASS_COUNT_TEST}, метки классов: {CLASS_LIST_TEST}')"
      ],
      "metadata": {
        "colab": {
          "base_uri": "https://localhost:8080/"
        },
        "id": "O96GnwSF2dQT",
        "outputId": "788b76fa-74bc-4cce-ea15-35c2201cc068"
      },
      "execution_count": null,
      "outputs": [
        {
          "output_type": "stream",
          "name": "stdout",
          "text": [
            "Количество классов: 64, метки классов: ['client_1', 'client_10', 'client_11', 'client_12', 'client_13', 'client_14', 'client_15', 'client_16', 'client_17', 'client_18', 'client_19', 'client_2', 'client_20', 'client_21', 'client_22', 'client_23', 'client_24', 'client_25', 'client_26', 'client_27', 'client_28', 'client_29', 'client_3', 'client_30', 'client_31', 'client_32', 'client_33', 'client_34', 'client_35', 'client_36', 'client_37', 'client_38', 'client_39', 'client_4', 'client_40', 'client_41', 'client_42', 'client_43', 'client_44', 'client_45', 'client_46', 'client_47', 'client_48', 'client_49', 'client_5', 'client_50', 'client_51', 'client_52', 'client_53', 'client_54', 'client_55', 'client_56', 'client_57', 'client_58', 'client_59', 'client_6', 'client_60', 'client_61', 'client_62', 'client_63', 'client_64', 'client_7', 'client_8', 'client_9']\n"
          ]
        }
      ]
    },
    {
      "cell_type": "code",
      "source": [
        "data_files_test = []\n",
        "data_labels_test = []\n",
        "\n",
        "for class_label_test in range(CLASS_COUNT_TEST):    # Для всех классов по порядку номеров (их меток)\n",
        "    class_name_test = CLASS_LIST_TEST[class_label_test]  # Выборка имени класса из списка имен\n",
        "    class_path_test = f'{TEST_PATH}/{class_name_test}'  # Формирование полного пути к папке с изображениями класса\n",
        "    class_files_test = os.listdir(class_path_test)  # Получение списка имен файлов с изображениями текущего класса\n",
        "    data_files_test += [f'{class_path_test}/{file_name}' for file_name in class_files_test]\n",
        "    data_labels_test += [class_label_test] * len(class_files_test)\n",
        "    print(f'Размер класса {class_name_test} составляет {len(class_files_test)} снимков')\n",
        "\n",
        "print('Общий размер базы для проверки:', len(data_labels_test))"
      ],
      "metadata": {
        "colab": {
          "base_uri": "https://localhost:8080/"
        },
        "id": "c3zo-V7Z2dZS",
        "outputId": "cff0b596-7783-4d3c-9ba7-c98413b9f553"
      },
      "execution_count": null,
      "outputs": [
        {
          "output_type": "stream",
          "name": "stdout",
          "text": [
            "Размер класса client_1 составляет 1 снимков\n",
            "Размер класса client_10 составляет 1 снимков\n",
            "Размер класса client_11 составляет 1 снимков\n",
            "Размер класса client_12 составляет 1 снимков\n",
            "Размер класса client_13 составляет 1 снимков\n",
            "Размер класса client_14 составляет 1 снимков\n",
            "Размер класса client_15 составляет 1 снимков\n",
            "Размер класса client_16 составляет 1 снимков\n",
            "Размер класса client_17 составляет 1 снимков\n",
            "Размер класса client_18 составляет 1 снимков\n",
            "Размер класса client_19 составляет 1 снимков\n",
            "Размер класса client_2 составляет 1 снимков\n",
            "Размер класса client_20 составляет 1 снимков\n",
            "Размер класса client_21 составляет 1 снимков\n",
            "Размер класса client_22 составляет 1 снимков\n",
            "Размер класса client_23 составляет 1 снимков\n",
            "Размер класса client_24 составляет 1 снимков\n",
            "Размер класса client_25 составляет 1 снимков\n",
            "Размер класса client_26 составляет 1 снимков\n",
            "Размер класса client_27 составляет 1 снимков\n",
            "Размер класса client_28 составляет 1 снимков\n",
            "Размер класса client_29 составляет 1 снимков\n",
            "Размер класса client_3 составляет 1 снимков\n",
            "Размер класса client_30 составляет 1 снимков\n",
            "Размер класса client_31 составляет 1 снимков\n",
            "Размер класса client_32 составляет 1 снимков\n",
            "Размер класса client_33 составляет 1 снимков\n",
            "Размер класса client_34 составляет 1 снимков\n",
            "Размер класса client_35 составляет 1 снимков\n",
            "Размер класса client_36 составляет 1 снимков\n",
            "Размер класса client_37 составляет 1 снимков\n",
            "Размер класса client_38 составляет 1 снимков\n",
            "Размер класса client_39 составляет 1 снимков\n",
            "Размер класса client_4 составляет 1 снимков\n",
            "Размер класса client_40 составляет 1 снимков\n",
            "Размер класса client_41 составляет 1 снимков\n",
            "Размер класса client_42 составляет 1 снимков\n",
            "Размер класса client_43 составляет 1 снимков\n",
            "Размер класса client_44 составляет 1 снимков\n",
            "Размер класса client_45 составляет 1 снимков\n",
            "Размер класса client_46 составляет 1 снимков\n",
            "Размер класса client_47 составляет 1 снимков\n",
            "Размер класса client_48 составляет 1 снимков\n",
            "Размер класса client_49 составляет 1 снимков\n",
            "Размер класса client_5 составляет 1 снимков\n",
            "Размер класса client_50 составляет 1 снимков\n",
            "Размер класса client_51 составляет 1 снимков\n",
            "Размер класса client_52 составляет 1 снимков\n",
            "Размер класса client_53 составляет 1 снимков\n",
            "Размер класса client_54 составляет 1 снимков\n",
            "Размер класса client_55 составляет 1 снимков\n",
            "Размер класса client_56 составляет 1 снимков\n",
            "Размер класса client_57 составляет 1 снимков\n",
            "Размер класса client_58 составляет 1 снимков\n",
            "Размер класса client_59 составляет 1 снимков\n",
            "Размер класса client_6 составляет 1 снимков\n",
            "Размер класса client_60 составляет 1 снимков\n",
            "Размер класса client_61 составляет 1 снимков\n",
            "Размер класса client_62 составляет 1 снимков\n",
            "Размер класса client_63 составляет 1 снимков\n",
            "Размер класса client_64 составляет 1 снимков\n",
            "Размер класса client_7 составляет 1 снимков\n",
            "Размер класса client_8 составляет 1 снимков\n",
            "Размер класса client_9 составляет 1 снимков\n",
            "Общий размер базы для проверки: 64\n"
          ]
        }
      ]
    },
    {
      "cell_type": "code",
      "source": [
        "data_images_test = []\n",
        "\n",
        "for file_name in data_files_test:\n",
        "    img_test = Image.open(file_name).resize((IMG_WIDTH_2, IMG_HEIGHT_2))\n",
        "    img_np_test = np.array(img_test)\n",
        "    data_images_test.append(img_np_test)\n",
        "\n",
        "x_data_test = np.array(data_images_test)\n",
        "y_data_test = np.array(data_labels_test)\n",
        "\n",
        "print(f'В массив собрано {len(data_images_test)} фотографий следующей формы: {img_np_test.shape}')\n",
        "print(f'Общий массив данных изображений следующей формы: {x_data_test.shape}')\n",
        "print(f'Общий массив меток классов следующей формы: {y_data_test.shape}')"
      ],
      "metadata": {
        "colab": {
          "base_uri": "https://localhost:8080/"
        },
        "id": "TPV1jJ-r2ddC",
        "outputId": "2bfaf6df-7602-4626-f5a3-f3b84a3fc82e"
      },
      "execution_count": null,
      "outputs": [
        {
          "output_type": "stream",
          "name": "stdout",
          "text": [
            "В массив собрано 64 фотографий следующей формы: (60, 80, 3)\n",
            "Общий массив данных изображений следующей формы: (64, 60, 80, 3)\n",
            "Общий массив меток классов следующей формы: (64,)\n"
          ]
        }
      ]
    },
    {
      "cell_type": "markdown",
      "source": [
        "## **Деление на выборки**"
      ],
      "metadata": {
        "id": "fZj6tvo1jSMm"
      }
    },
    {
      "cell_type": "code",
      "source": [
        "# Разделение выборки на обучающую и проверочную\n",
        "# x_ds_big, x_val_big, y_ds_big, y_val_big = train_test_split(x_data_big, y_data, test_size=0.2, random_state=42)\n",
        "# x_train_big, x_test_big, y_train_big, y_test_big = train_test_split(x_ds_big, y_ds_big, test_size=0.1, random_state=42)\n",
        "\n",
        "x_train_small, x_val_small, y_train_small, y_val_small = train_test_split(x_data_small, y_data, test_size=0.2, random_state=42)\n",
        "# x_train_small, x_test_small, y_train_small, y_test_small = train_test_split(x_ds_small, y_ds_small, test_size=0.1, random_state=42)"
      ],
      "metadata": {
        "id": "wxfvjao-hGYG"
      },
      "execution_count": null,
      "outputs": []
    },
    {
      "cell_type": "code",
      "source": [
        "y_train_small = to_categorical(y_train_small)\n",
        "# y_train_big = to_categorical(y_train_big)\n",
        "\n",
        "y_val_small = to_categorical(y_val_small)\n",
        "# y_val_big = to_categorical(y_val_big)\n",
        "\n",
        "y_data_test = to_categorical(y_data_test)\n",
        "# y_test_big = to_categorical(y_test_big)"
      ],
      "metadata": {
        "id": "Jyj_6lNThGbs"
      },
      "execution_count": null,
      "outputs": []
    },
    {
      "cell_type": "code",
      "source": [
        "# print('Размерности датасетов с изображениями 160 на 120')\n",
        "# print('Тренировочный датасет:')\n",
        "# print(x_train_big.shape)\n",
        "# print(y_train_big.shape)\n",
        "# print('Проверочный датасет:')\n",
        "# print(x_val_big.shape)\n",
        "# print(y_val_big.shape)\n",
        "# print('Тестовый датасет:')\n",
        "# print(x_test_big.shape)\n",
        "# print(y_test_big.shape)\n",
        "\n",
        "print('\\nРазмерности датасетов с изображениями 80 на 60')\n",
        "print('Тренировочный датасет:')\n",
        "print(x_train_small.shape)\n",
        "print(y_train_small.shape)\n",
        "print('Проверочный датасет:')\n",
        "print(x_val_small.shape)\n",
        "print(y_val_small.shape)\n",
        "print('Тестовый датасет:')\n",
        "print(x_data_test.shape)\n",
        "print(y_data_test.shape)"
      ],
      "metadata": {
        "id": "CGxSwIAdhGfe",
        "colab": {
          "base_uri": "https://localhost:8080/"
        },
        "outputId": "5c3ac240-e5f1-4378-d596-3a0c474d6322"
      },
      "execution_count": null,
      "outputs": [
        {
          "output_type": "stream",
          "name": "stdout",
          "text": [
            "\n",
            "Размерности датасетов с изображениями 80 на 60\n",
            "Тренировочный датасет:\n",
            "(2560, 60, 80, 3)\n",
            "(2560, 64)\n",
            "Проверочный датасет:\n",
            "(640, 60, 80, 3)\n",
            "(640, 64)\n",
            "Тестовый датасет:\n",
            "(64, 60, 80, 3)\n",
            "(64, 64)\n"
          ]
        }
      ]
    },
    {
      "cell_type": "markdown",
      "source": [
        "# **Оптимизация обучения модели**"
      ],
      "metadata": {
        "id": "oWsHTIn-mpLM"
      }
    },
    {
      "cell_type": "code",
      "source": [
        "# AUTOTUNE = tf.data.AUTOTUNE\n",
        "# train_ds = train_ds.cache().shuffle(1000).prefetch(buffer_size=AUTOTUNE)\n",
        "# validation_ds = validation_ds.cache().prefetch(buffer_size=AUTOTUNE)"
      ],
      "metadata": {
        "id": "MOmL13JHllMX"
      },
      "execution_count": null,
      "outputs": []
    },
    {
      "cell_type": "code",
      "source": [
        "checkpoint = ModelCheckpoint(filepath=\"my_model.hdf5\", monitor=\"val_loss\", verbose=0, save_best_only=True)"
      ],
      "metadata": {
        "id": "ENwl_m9gllQQ"
      },
      "execution_count": null,
      "outputs": []
    },
    {
      "cell_type": "markdown",
      "source": [
        "# **Работа с моделью**"
      ],
      "metadata": {
        "id": "5mlB9DKVn8YP"
      }
    },
    {
      "cell_type": "markdown",
      "source": [
        "## **Архитектура модели**"
      ],
      "metadata": {
        "id": "u6KmeXgXpNPy"
      }
    },
    {
      "cell_type": "code",
      "source": [
        "# vgg19_preprocess_input = tf.keras.applications.vgg19.preprocess_input\n",
        "# vgg19_layer = tf.keras.applications.vgg19.VGG19(input_shape=x_train_small.shape[1:],\n",
        "#                          include_top=False,\n",
        "#                          weights='imagenet')\n",
        "\n",
        "# xception_preprocess_input = tf.keras.applications.xception.preprocess_input\n",
        "# xception_layer = tf.keras.applications.xception.Xception(input_shape=x_train_small.shape[1:],\n",
        "#                          include_top=False,\n",
        "#                          weights='imagenet')\n",
        "\n",
        "resnet50_preprocess_input = tf.keras.applications.resnet50.preprocess_input\n",
        "resnet50_layer = tf.keras.applications.resnet50.ResNet50(input_shape=x_train_small.shape[1:],\n",
        "                         include_top=False,\n",
        "                         weights='imagenet')\n",
        "\n",
        "inputs = tf.keras.Input(shape=x_train_small.shape[1:])\n",
        "# x = vgg19_preprocess_input(inputs)\n",
        "# x = vgg19_layer(x, training=False)\n",
        "x = resnet50_preprocess_input(inputs)\n",
        "x = resnet50_layer(x, training=False)\n",
        "# x = xception_preprocess_input(x)\n",
        "# x = xception_layer(x, training=False)\n",
        "\n",
        "x = GlobalAveragePooling2D()(x)\n",
        "x = Dropout(0.2)(x)\n",
        "# x = Conv2D(16, (3, 3), padding='valid', activation='relu')(x)\n",
        "# x = BatchNormalization()(x)\n",
        "# x = Conv2D(32, (3, 3), padding='valid', activation='relu')(x)\n",
        "# x = BatchNormalization()(x)\n",
        "# x = Dropout(0.2)(x)\n",
        "# x = Flatten()(x)\n",
        "# x = Dense(100, activation='relu')(x)\n",
        "# x = BatchNormalization()(x)\n",
        "# x = Dense(50, activation='relu')(x)\n",
        "# x = Dropout(0.2)(x)\n",
        "outputs = Dense(64, activation='softmax')(x)\n",
        "model = tf.keras.Model(inputs, outputs)"
      ],
      "metadata": {
        "id": "JxBGWc_SllUN",
        "colab": {
          "base_uri": "https://localhost:8080/"
        },
        "outputId": "b58fea02-b4c1-46e4-e7b9-1126aa4c1f63"
      },
      "execution_count": null,
      "outputs": [
        {
          "output_type": "stream",
          "name": "stdout",
          "text": [
            "Downloading data from https://storage.googleapis.com/tensorflow/keras-applications/resnet/resnet50_weights_tf_dim_ordering_tf_kernels_notop.h5\n",
            "94765736/94765736 [==============================] - 0s 0us/step\n"
          ]
        }
      ]
    },
    {
      "cell_type": "markdown",
      "source": [
        "## **Обучение модели**"
      ],
      "metadata": {
        "id": "ffV1euwEpZ35"
      }
    },
    {
      "cell_type": "code",
      "source": [
        "model.compile(\n",
        "              optimizer=tf.keras.optimizers.Adam(0.0001),\n",
        "              loss='categorical_crossentropy',\n",
        "              metrics='accuracy')"
      ],
      "metadata": {
        "id": "1pfIfc1GoeEs"
      },
      "execution_count": null,
      "outputs": []
    },
    {
      "cell_type": "code",
      "source": [
        "history_resnet = model.fit(\n",
        "                          x_train_small,\n",
        "                          y_train_small,\n",
        "                          validation_data=(x_val_small, y_val_small),\n",
        "                          epochs=20,\n",
        "                          callbacks=checkpoint,\n",
        "                          )"
      ],
      "metadata": {
        "id": "itgdfojvoeIm",
        "colab": {
          "base_uri": "https://localhost:8080/"
        },
        "outputId": "a3a509fd-8a6e-49cc-8840-72795dc4a583"
      },
      "execution_count": null,
      "outputs": [
        {
          "output_type": "stream",
          "name": "stdout",
          "text": [
            "Epoch 1/20\n",
            "80/80 [==============================] - 71s 128ms/step - loss: 3.1382 - accuracy: 0.2207 - val_loss: 0.9072 - val_accuracy: 0.7312\n",
            "Epoch 2/20\n",
            "80/80 [==============================] - 7s 88ms/step - loss: 0.4526 - accuracy: 0.8641 - val_loss: 0.0619 - val_accuracy: 0.9844\n",
            "Epoch 3/20\n",
            "80/80 [==============================] - 7s 89ms/step - loss: 0.1044 - accuracy: 0.9715 - val_loss: 0.0528 - val_accuracy: 0.9891\n",
            "Epoch 4/20\n",
            "80/80 [==============================] - 7s 93ms/step - loss: 0.0510 - accuracy: 0.9852 - val_loss: 0.0105 - val_accuracy: 0.9969\n",
            "Epoch 5/20\n",
            "80/80 [==============================] - 5s 68ms/step - loss: 0.0439 - accuracy: 0.9895 - val_loss: 0.0256 - val_accuracy: 0.9937\n",
            "Epoch 6/20\n",
            "80/80 [==============================] - 6s 71ms/step - loss: 0.1458 - accuracy: 0.9691 - val_loss: 0.1618 - val_accuracy: 0.9594\n",
            "Epoch 7/20\n",
            "80/80 [==============================] - 5s 68ms/step - loss: 0.0708 - accuracy: 0.9809 - val_loss: 0.0534 - val_accuracy: 0.9891\n",
            "Epoch 8/20\n",
            "80/80 [==============================] - 7s 93ms/step - loss: 0.0488 - accuracy: 0.9922 - val_loss: 0.0052 - val_accuracy: 0.9984\n",
            "Epoch 9/20\n",
            "80/80 [==============================] - 7s 86ms/step - loss: 0.0055 - accuracy: 0.9988 - val_loss: 3.5450e-04 - val_accuracy: 1.0000\n",
            "Epoch 10/20\n",
            "80/80 [==============================] - 7s 90ms/step - loss: 1.9272e-04 - accuracy: 1.0000 - val_loss: 1.4897e-04 - val_accuracy: 1.0000\n",
            "Epoch 11/20\n",
            "80/80 [==============================] - 7s 90ms/step - loss: 4.0226e-05 - accuracy: 1.0000 - val_loss: 9.3630e-05 - val_accuracy: 1.0000\n",
            "Epoch 12/20\n",
            "80/80 [==============================] - 7s 92ms/step - loss: 1.2635e-05 - accuracy: 1.0000 - val_loss: 6.9760e-05 - val_accuracy: 1.0000\n",
            "Epoch 13/20\n",
            "80/80 [==============================] - 7s 87ms/step - loss: 6.6432e-06 - accuracy: 1.0000 - val_loss: 4.0028e-05 - val_accuracy: 1.0000\n",
            "Epoch 14/20\n",
            "80/80 [==============================] - 7s 88ms/step - loss: 4.3002e-06 - accuracy: 1.0000 - val_loss: 3.3011e-05 - val_accuracy: 1.0000\n",
            "Epoch 15/20\n",
            "80/80 [==============================] - 7s 88ms/step - loss: 5.2758e-06 - accuracy: 1.0000 - val_loss: 3.0365e-05 - val_accuracy: 1.0000\n",
            "Epoch 16/20\n",
            "80/80 [==============================] - 7s 92ms/step - loss: 3.3381e-06 - accuracy: 1.0000 - val_loss: 2.1389e-05 - val_accuracy: 1.0000\n",
            "Epoch 17/20\n",
            "80/80 [==============================] - 7s 89ms/step - loss: 3.2579e-06 - accuracy: 1.0000 - val_loss: 1.7104e-05 - val_accuracy: 1.0000\n",
            "Epoch 18/20\n",
            "80/80 [==============================] - 5s 67ms/step - loss: 1.5420e-06 - accuracy: 1.0000 - val_loss: 1.7282e-05 - val_accuracy: 1.0000\n",
            "Epoch 19/20\n",
            "80/80 [==============================] - 7s 92ms/step - loss: 2.9745e-06 - accuracy: 1.0000 - val_loss: 1.5668e-05 - val_accuracy: 1.0000\n",
            "Epoch 20/20\n",
            "80/80 [==============================] - 5s 67ms/step - loss: 6.4963e-07 - accuracy: 1.0000 - val_loss: 1.8236e-05 - val_accuracy: 1.0000\n"
          ]
        }
      ]
    },
    {
      "cell_type": "code",
      "source": [
        "model_resnet50 = model.save_weights(filepath='model_weights_resnet50.h5')"
      ],
      "metadata": {
        "id": "wq1uuEhUetv9"
      },
      "execution_count": null,
      "outputs": []
    },
    {
      "cell_type": "code",
      "source": [
        "model.load_weights(filepath='model_weights_resnet50.h5')"
      ],
      "metadata": {
        "id": "W-GeXZNDet9e"
      },
      "execution_count": null,
      "outputs": []
    },
    {
      "cell_type": "markdown",
      "source": [
        "# **Проверка модели**"
      ],
      "metadata": {
        "id": "7BTf7x3BrTyH"
      }
    },
    {
      "cell_type": "markdown",
      "source": [
        "## **Визуализация результатов работы модели**"
      ],
      "metadata": {
        "id": "LKz3yaLitD6k"
      }
    },
    {
      "cell_type": "code",
      "source": [
        "# Визуализация точности на обучающей выборке\n",
        "plt.plot(history_resnet.history['accuracy'],\n",
        "         label='Доля верных ответов на обучающем наборе')\n",
        "\n",
        "# Визуализация точности на проверочной выборке\n",
        "plt.plot(history_resnet.history['val_accuracy'],\n",
        "         label='Доля верных ответов на проверочном наборе')\n",
        "\n",
        "# Отрисовка подписей осей\n",
        "plt.xlabel('Эпоха обучения')\n",
        "plt.ylabel('Доля верных ответов')\n",
        "\n",
        "# Отрисовка легенды\n",
        "plt.legend()\n",
        "\n",
        "# Вывод графика\n",
        "plt.show()"
      ],
      "metadata": {
        "id": "ePT8wjOvtEbl",
        "colab": {
          "base_uri": "https://localhost:8080/",
          "height": 449
        },
        "outputId": "cf880d24-882f-4963-f29e-927351826d18"
      },
      "execution_count": null,
      "outputs": [
        {
          "output_type": "display_data",
          "data": {
            "text/plain": [
              "<Figure size 640x480 with 1 Axes>"
            ],
            "image/png": "[encoded data removed]"
          },
          "metadata": {}
        }
      ]
    },
    {
      "cell_type": "code",
      "source": [
        "# Визуализация точности на обучающей выборке\n",
        "plt.plot(history_resnet.history['loss'],\n",
        "         label='Ошибка на обучающем наборе')\n",
        "\n",
        "# Визуализация точности на проверочной выборке\n",
        "plt.plot(history_resnet.history['val_loss'],\n",
        "         label='Ошибка на проверочном наборе')\n",
        "\n",
        "# Отрисовка подписей осей\n",
        "plt.xlabel('Эпоха обучения')\n",
        "plt.ylabel('Ошибка')\n",
        "\n",
        "plt.legend()\n",
        "\n",
        "plt.show()"
      ],
      "metadata": {
        "id": "FQlJqb0RuNcd",
        "colab": {
          "base_uri": "https://localhost:8080/",
          "height": 449
        },
        "outputId": "1cd14f5c-f9a4-4471-dc67-d34d7bff63d0"
      },
      "execution_count": null,
      "outputs": [
        {
          "output_type": "display_data",
          "data": {
            "text/plain": [
              "<Figure size 640x480 with 1 Axes>"
            ],
            "image/png": "[encoded data removed]"
          },
          "metadata": {}
        }
      ]
    },
    {
      "cell_type": "markdown",
      "source": [
        "## **Проверка evaluate**"
      ],
      "metadata": {
        "id": "NtD32wzMsaNW"
      }
    },
    {
      "cell_type": "code",
      "source": [
        "scores_small = model.evaluate(x_data_test,\n",
        "                              y_data_test,\n",
        "                              verbose=1\n",
        "                              )\n",
        "\n",
        "print('Процент верных ответов на тестовых данных размером 80 на 60:', round(scores_small[1],4) * 100, '%')"
      ],
      "metadata": {
        "id": "X8-jHLq8oeMl",
        "colab": {
          "base_uri": "https://localhost:8080/"
        },
        "outputId": "8669c3d5-f755-4dd9-9898-56794d8b71fd"
      },
      "execution_count": null,
      "outputs": [
        {
          "output_type": "stream",
          "name": "stdout",
          "text": [
            "2/2 [==============================] - 0s 31ms/step - loss: 0.0270 - accuracy: 0.9844\n",
            "Процент верных ответов на тестовых данных размером 80 на 60: 98.44000000000001 %\n"
          ]
        }
      ]
    },
    {
      "cell_type": "markdown",
      "source": [
        "## **Проверка predict**"
      ],
      "metadata": {
        "id": "I-yzUrQasG7b"
      }
    },
    {
      "cell_type": "code",
      "source": [
        "x = x_data_test[50]\n",
        "print(x.shape)\n",
        "\n",
        "x = np.expand_dims(x, axis=0)\n",
        "print(x.shape)\n",
        "\n",
        "prediction = model.predict(x)\n",
        "# print(prediction)\n",
        "\n",
        "pred = np.argmax(prediction)\n",
        "print(f'Распознан пациент: {pred}')\n",
        "print(f'Настоящий пациент: {np.argmax(y_data_test[50])}')"
      ],
      "metadata": {
        "id": "kZxForYOllYT",
        "colab": {
          "base_uri": "https://localhost:8080/"
        },
        "outputId": "54b0dcc2-0fa7-4831-f63d-ee8b2b0a33d8"
      },
      "execution_count": null,
      "outputs": [
        {
          "output_type": "stream",
          "name": "stdout",
          "text": [
            "(60, 80, 3)\n",
            "(1, 60, 80, 3)\n",
            "1/1 [==============================] - 0s 68ms/step\n",
            "Распознан пациент: 50\n",
            "Настоящий пациент: 50\n"
          ]
        }
      ]
    }
  ]
}