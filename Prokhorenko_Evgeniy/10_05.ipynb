{
  "cells": [
    {
      "cell_type": "markdown",
      "metadata": {
        "id": "view-in-github",
        "colab_type": "text"
      },
      "source": [
        "<a href=\"https://colab.research.google.com/github/Untick/IrisID_gr2/blob/Prokhorenko-Evgeniy-folder/Prokhorenko_Evgeniy/10_05.ipynb\" target=\"_parent\"><img src=\"https://colab.research.google.com/assets/colab-badge.svg\" alt=\"Open In Colab\"/></a>"
      ]
    },
    {
      "cell_type": "markdown",
      "metadata": {
        "id": "JaCbho-qd9Pw"
      },
      "source": [
        "# Загрузка и подготовка данных для подачи в нейронную сеть"
      ]
    },
    {
      "cell_type": "code",
      "execution_count": null,
      "metadata": {
        "id": "ox7wPTLwvvsg",
        "colab": {
          "base_uri": "https://localhost:8080/"
        },
        "outputId": "deceec0c-0bb1-42f4-f212-39afce10d82c"
      },
      "outputs": [
        {
          "output_type": "stream",
          "name": "stdout",
          "text": [
            "Mounted at /content/drive\n",
            "Looking in indexes: https://pypi.org/simple, https://us-python.pkg.dev/colab-wheels/public/simple/\n",
            "Collecting Augmentor\n",
            "  Downloading Augmentor-0.2.12-py2.py3-none-any.whl (38 kB)\n",
            "Requirement already satisfied: Pillow>=5.2.0 in /usr/local/lib/python3.10/dist-packages (from Augmentor) (8.4.0)\n",
            "Requirement already satisfied: tqdm>=4.9.0 in /usr/local/lib/python3.10/dist-packages (from Augmentor) (4.65.0)\n",
            "Requirement already satisfied: numpy>=1.11.0 in /usr/local/lib/python3.10/dist-packages (from Augmentor) (1.22.4)\n",
            "Installing collected packages: Augmentor\n",
            "Successfully installed Augmentor-0.2.12\n",
            "Looking in indexes: https://pypi.org/simple, https://us-python.pkg.dev/colab-wheels/public/simple/\n",
            "Collecting autokeras\n",
            "  Downloading autokeras-1.1.0-py3-none-any.whl (148 kB)\n",
            "\u001b[2K     \u001b[90m━━━━━━━━━━━━━━━━━━━━━━━━━━━━━━━━━━━━━━━\u001b[0m \u001b[32m148.6/148.6 kB\u001b[0m \u001b[31m4.7 MB/s\u001b[0m eta \u001b[36m0:00:00\u001b[0m\n",
            "\u001b[?25hRequirement already satisfied: packaging in /usr/local/lib/python3.10/dist-packages (from autokeras) (23.1)\n",
            "Requirement already satisfied: tensorflow>=2.8.0 in /usr/local/lib/python3.10/dist-packages (from autokeras) (2.12.0)\n",
            "Collecting keras-tuner>=1.1.0 (from autokeras)\n",
            "  Downloading keras_tuner-1.3.5-py3-none-any.whl (176 kB)\n",
            "\u001b[2K     \u001b[90m━━━━━━━━━━━━━━━━━━━━━━━━━━━━━━━━━━━━━━\u001b[0m \u001b[32m176.1/176.1 kB\u001b[0m \u001b[31m24.8 MB/s\u001b[0m eta \u001b[36m0:00:00\u001b[0m\n",
            "\u001b[?25hCollecting keras-nlp>=0.4.0 (from autokeras)\n",
            "  Downloading keras_nlp-0.5.1-py3-none-any.whl (527 kB)\n",
            "\u001b[2K     \u001b[90m━━━━━━━━━━━━━━━━━━━━━━━━━━━━━━━━━━━━━━\u001b[0m \u001b[32m527.1/527.1 kB\u001b[0m \u001b[31m51.4 MB/s\u001b[0m eta \u001b[36m0:00:00\u001b[0m\n",
            "\u001b[?25hRequirement already satisfied: pandas in /usr/local/lib/python3.10/dist-packages (from autokeras) (1.5.3)\n",
            "Requirement already satisfied: absl-py in /usr/local/lib/python3.10/dist-packages (from keras-nlp>=0.4.0->autokeras) (1.4.0)\n",
            "Requirement already satisfied: numpy in /usr/local/lib/python3.10/dist-packages (from keras-nlp>=0.4.0->autokeras) (1.22.4)\n",
            "Collecting tensorflow-text (from keras-nlp>=0.4.0->autokeras)\n",
            "  Downloading tensorflow_text-2.12.1-cp310-cp310-manylinux_2_17_x86_64.manylinux2014_x86_64.whl (6.0 MB)\n",
            "\u001b[2K     \u001b[90m━━━━━━━━━━━━━━━━━━━━━━━━━━━━━━━━━━━━━━━━\u001b[0m \u001b[32m6.0/6.0 MB\u001b[0m \u001b[31m102.9 MB/s\u001b[0m eta \u001b[36m0:00:00\u001b[0m\n",
            "\u001b[?25hRequirement already satisfied: requests in /usr/local/lib/python3.10/dist-packages (from keras-tuner>=1.1.0->autokeras) (2.27.1)\n",
            "Collecting kt-legacy (from keras-tuner>=1.1.0->autokeras)\n",
            "  Downloading kt_legacy-1.0.5-py3-none-any.whl (9.6 kB)\n",
            "Requirement already satisfied: astunparse>=1.6.0 in /usr/local/lib/python3.10/dist-packages (from tensorflow>=2.8.0->autokeras) (1.6.3)\n",
            "Requirement already satisfied: flatbuffers>=2.0 in /usr/local/lib/python3.10/dist-packages (from tensorflow>=2.8.0->autokeras) (23.3.3)\n",
            "Requirement already satisfied: gast<=0.4.0,>=0.2.1 in /usr/local/lib/python3.10/dist-packages (from tensorflow>=2.8.0->autokeras) (0.4.0)\n",
            "Requirement already satisfied: google-pasta>=0.1.1 in /usr/local/lib/python3.10/dist-packages (from tensorflow>=2.8.0->autokeras) (0.2.0)\n",
            "Requirement already satisfied: grpcio<2.0,>=1.24.3 in /usr/local/lib/python3.10/dist-packages (from tensorflow>=2.8.0->autokeras) (1.54.0)\n",
            "Requirement already satisfied: h5py>=2.9.0 in /usr/local/lib/python3.10/dist-packages (from tensorflow>=2.8.0->autokeras) (3.8.0)\n",
            "Requirement already satisfied: jax>=0.3.15 in /usr/local/lib/python3.10/dist-packages (from tensorflow>=2.8.0->autokeras) (0.4.8)\n",
            "Requirement already satisfied: keras<2.13,>=2.12.0 in /usr/local/lib/python3.10/dist-packages (from tensorflow>=2.8.0->autokeras) (2.12.0)\n",
            "Requirement already satisfied: libclang>=13.0.0 in /usr/local/lib/python3.10/dist-packages (from tensorflow>=2.8.0->autokeras) (16.0.0)\n",
            "Requirement already satisfied: opt-einsum>=2.3.2 in /usr/local/lib/python3.10/dist-packages (from tensorflow>=2.8.0->autokeras) (3.3.0)\n",
            "Requirement already satisfied: protobuf!=4.21.0,!=4.21.1,!=4.21.2,!=4.21.3,!=4.21.4,!=4.21.5,<5.0.0dev,>=3.20.3 in /usr/local/lib/python3.10/dist-packages (from tensorflow>=2.8.0->autokeras) (3.20.3)\n",
            "Requirement already satisfied: setuptools in /usr/local/lib/python3.10/dist-packages (from tensorflow>=2.8.0->autokeras) (67.7.2)\n",
            "Requirement already satisfied: six>=1.12.0 in /usr/local/lib/python3.10/dist-packages (from tensorflow>=2.8.0->autokeras) (1.16.0)\n",
            "Requirement already satisfied: tensorboard<2.13,>=2.12 in /usr/local/lib/python3.10/dist-packages (from tensorflow>=2.8.0->autokeras) (2.12.2)\n",
            "Requirement already satisfied: tensorflow-estimator<2.13,>=2.12.0 in /usr/local/lib/python3.10/dist-packages (from tensorflow>=2.8.0->autokeras) (2.12.0)\n",
            "Requirement already satisfied: termcolor>=1.1.0 in /usr/local/lib/python3.10/dist-packages (from tensorflow>=2.8.0->autokeras) (2.3.0)\n",
            "Requirement already satisfied: typing-extensions>=3.6.6 in /usr/local/lib/python3.10/dist-packages (from tensorflow>=2.8.0->autokeras) (4.5.0)\n",
            "Requirement already satisfied: wrapt<1.15,>=1.11.0 in /usr/local/lib/python3.10/dist-packages (from tensorflow>=2.8.0->autokeras) (1.14.1)\n",
            "Requirement already satisfied: tensorflow-io-gcs-filesystem>=0.23.1 in /usr/local/lib/python3.10/dist-packages (from tensorflow>=2.8.0->autokeras) (0.32.0)\n",
            "Requirement already satisfied: python-dateutil>=2.8.1 in /usr/local/lib/python3.10/dist-packages (from pandas->autokeras) (2.8.2)\n",
            "Requirement already satisfied: pytz>=2020.1 in /usr/local/lib/python3.10/dist-packages (from pandas->autokeras) (2022.7.1)\n",
            "Requirement already satisfied: wheel<1.0,>=0.23.0 in /usr/local/lib/python3.10/dist-packages (from astunparse>=1.6.0->tensorflow>=2.8.0->autokeras) (0.40.0)\n",
            "Requirement already satisfied: ml-dtypes>=0.0.3 in /usr/local/lib/python3.10/dist-packages (from jax>=0.3.15->tensorflow>=2.8.0->autokeras) (0.1.0)\n",
            "Requirement already satisfied: scipy>=1.7 in /usr/local/lib/python3.10/dist-packages (from jax>=0.3.15->tensorflow>=2.8.0->autokeras) (1.10.1)\n",
            "Requirement already satisfied: google-auth<3,>=1.6.3 in /usr/local/lib/python3.10/dist-packages (from tensorboard<2.13,>=2.12->tensorflow>=2.8.0->autokeras) (2.17.3)\n",
            "Requirement already satisfied: google-auth-oauthlib<1.1,>=0.5 in /usr/local/lib/python3.10/dist-packages (from tensorboard<2.13,>=2.12->tensorflow>=2.8.0->autokeras) (1.0.0)\n",
            "Requirement already satisfied: markdown>=2.6.8 in /usr/local/lib/python3.10/dist-packages (from tensorboard<2.13,>=2.12->tensorflow>=2.8.0->autokeras) (3.4.3)\n",
            "Requirement already satisfied: tensorboard-data-server<0.8.0,>=0.7.0 in /usr/local/lib/python3.10/dist-packages (from tensorboard<2.13,>=2.12->tensorflow>=2.8.0->autokeras) (0.7.0)\n",
            "Requirement already satisfied: tensorboard-plugin-wit>=1.6.0 in /usr/local/lib/python3.10/dist-packages (from tensorboard<2.13,>=2.12->tensorflow>=2.8.0->autokeras) (1.8.1)\n",
            "Requirement already satisfied: werkzeug>=1.0.1 in /usr/local/lib/python3.10/dist-packages (from tensorboard<2.13,>=2.12->tensorflow>=2.8.0->autokeras) (2.3.0)\n",
            "Requirement already satisfied: urllib3<1.27,>=1.21.1 in /usr/local/lib/python3.10/dist-packages (from requests->keras-tuner>=1.1.0->autokeras) (1.26.15)\n",
            "Requirement already satisfied: certifi>=2017.4.17 in /usr/local/lib/python3.10/dist-packages (from requests->keras-tuner>=1.1.0->autokeras) (2022.12.7)\n",
            "Requirement already satisfied: charset-normalizer~=2.0.0 in /usr/local/lib/python3.10/dist-packages (from requests->keras-tuner>=1.1.0->autokeras) (2.0.12)\n",
            "Requirement already satisfied: idna<4,>=2.5 in /usr/local/lib/python3.10/dist-packages (from requests->keras-tuner>=1.1.0->autokeras) (3.4)\n",
            "Requirement already satisfied: tensorflow-hub>=0.8.0 in /usr/local/lib/python3.10/dist-packages (from tensorflow-text->keras-nlp>=0.4.0->autokeras) (0.13.0)\n",
            "Requirement already satisfied: cachetools<6.0,>=2.0.0 in /usr/local/lib/python3.10/dist-packages (from google-auth<3,>=1.6.3->tensorboard<2.13,>=2.12->tensorflow>=2.8.0->autokeras) (5.3.0)\n",
            "Requirement already satisfied: pyasn1-modules>=0.2.1 in /usr/local/lib/python3.10/dist-packages (from google-auth<3,>=1.6.3->tensorboard<2.13,>=2.12->tensorflow>=2.8.0->autokeras) (0.3.0)\n",
            "Requirement already satisfied: rsa<5,>=3.1.4 in /usr/local/lib/python3.10/dist-packages (from google-auth<3,>=1.6.3->tensorboard<2.13,>=2.12->tensorflow>=2.8.0->autokeras) (4.9)\n",
            "Requirement already satisfied: requests-oauthlib>=0.7.0 in /usr/local/lib/python3.10/dist-packages (from google-auth-oauthlib<1.1,>=0.5->tensorboard<2.13,>=2.12->tensorflow>=2.8.0->autokeras) (1.3.1)\n",
            "Requirement already satisfied: MarkupSafe>=2.1.1 in /usr/local/lib/python3.10/dist-packages (from werkzeug>=1.0.1->tensorboard<2.13,>=2.12->tensorflow>=2.8.0->autokeras) (2.1.2)\n",
            "Requirement already satisfied: pyasn1<0.6.0,>=0.4.6 in /usr/local/lib/python3.10/dist-packages (from pyasn1-modules>=0.2.1->google-auth<3,>=1.6.3->tensorboard<2.13,>=2.12->tensorflow>=2.8.0->autokeras) (0.5.0)\n",
            "Requirement already satisfied: oauthlib>=3.0.0 in /usr/local/lib/python3.10/dist-packages (from requests-oauthlib>=0.7.0->google-auth-oauthlib<1.1,>=0.5->tensorboard<2.13,>=2.12->tensorflow>=2.8.0->autokeras) (3.2.2)\n",
            "Installing collected packages: kt-legacy, keras-tuner, tensorflow-text, keras-nlp, autokeras\n",
            "Successfully installed autokeras-1.1.0 keras-nlp-0.5.1 keras-tuner-1.3.5 kt-legacy-1.0.5 tensorflow-text-2.12.1\n",
            "Looking in indexes: https://pypi.org/simple, https://us-python.pkg.dev/colab-wheels/public/simple/\n",
            "Requirement already satisfied: autokeras in /usr/local/lib/python3.10/dist-packages (1.1.0)\n",
            "Requirement already satisfied: packaging in /usr/local/lib/python3.10/dist-packages (from autokeras) (23.1)\n",
            "Requirement already satisfied: tensorflow>=2.8.0 in /usr/local/lib/python3.10/dist-packages (from autokeras) (2.12.0)\n",
            "Requirement already satisfied: keras-tuner>=1.1.0 in /usr/local/lib/python3.10/dist-packages (from autokeras) (1.3.5)\n",
            "Requirement already satisfied: keras-nlp>=0.4.0 in /usr/local/lib/python3.10/dist-packages (from autokeras) (0.5.1)\n",
            "Requirement already satisfied: pandas in /usr/local/lib/python3.10/dist-packages (from autokeras) (1.5.3)\n",
            "Requirement already satisfied: absl-py in /usr/local/lib/python3.10/dist-packages (from keras-nlp>=0.4.0->autokeras) (1.4.0)\n",
            "Requirement already satisfied: numpy in /usr/local/lib/python3.10/dist-packages (from keras-nlp>=0.4.0->autokeras) (1.22.4)\n",
            "Requirement already satisfied: tensorflow-text in /usr/local/lib/python3.10/dist-packages (from keras-nlp>=0.4.0->autokeras) (2.12.1)\n",
            "Requirement already satisfied: requests in /usr/local/lib/python3.10/dist-packages (from keras-tuner>=1.1.0->autokeras) (2.27.1)\n",
            "Requirement already satisfied: kt-legacy in /usr/local/lib/python3.10/dist-packages (from keras-tuner>=1.1.0->autokeras) (1.0.5)\n",
            "Requirement already satisfied: astunparse>=1.6.0 in /usr/local/lib/python3.10/dist-packages (from tensorflow>=2.8.0->autokeras) (1.6.3)\n",
            "Requirement already satisfied: flatbuffers>=2.0 in /usr/local/lib/python3.10/dist-packages (from tensorflow>=2.8.0->autokeras) (23.3.3)\n",
            "Requirement already satisfied: gast<=0.4.0,>=0.2.1 in /usr/local/lib/python3.10/dist-packages (from tensorflow>=2.8.0->autokeras) (0.4.0)\n",
            "Requirement already satisfied: google-pasta>=0.1.1 in /usr/local/lib/python3.10/dist-packages (from tensorflow>=2.8.0->autokeras) (0.2.0)\n",
            "Requirement already satisfied: grpcio<2.0,>=1.24.3 in /usr/local/lib/python3.10/dist-packages (from tensorflow>=2.8.0->autokeras) (1.54.0)\n",
            "Requirement already satisfied: h5py>=2.9.0 in /usr/local/lib/python3.10/dist-packages (from tensorflow>=2.8.0->autokeras) (3.8.0)\n",
            "Requirement already satisfied: jax>=0.3.15 in /usr/local/lib/python3.10/dist-packages (from tensorflow>=2.8.0->autokeras) (0.4.8)\n",
            "Requirement already satisfied: keras<2.13,>=2.12.0 in /usr/local/lib/python3.10/dist-packages (from tensorflow>=2.8.0->autokeras) (2.12.0)\n",
            "Requirement already satisfied: libclang>=13.0.0 in /usr/local/lib/python3.10/dist-packages (from tensorflow>=2.8.0->autokeras) (16.0.0)\n",
            "Requirement already satisfied: opt-einsum>=2.3.2 in /usr/local/lib/python3.10/dist-packages (from tensorflow>=2.8.0->autokeras) (3.3.0)\n",
            "Requirement already satisfied: protobuf!=4.21.0,!=4.21.1,!=4.21.2,!=4.21.3,!=4.21.4,!=4.21.5,<5.0.0dev,>=3.20.3 in /usr/local/lib/python3.10/dist-packages (from tensorflow>=2.8.0->autokeras) (3.20.3)\n",
            "Requirement already satisfied: setuptools in /usr/local/lib/python3.10/dist-packages (from tensorflow>=2.8.0->autokeras) (67.7.2)\n",
            "Requirement already satisfied: six>=1.12.0 in /usr/local/lib/python3.10/dist-packages (from tensorflow>=2.8.0->autokeras) (1.16.0)\n",
            "Requirement already satisfied: tensorboard<2.13,>=2.12 in /usr/local/lib/python3.10/dist-packages (from tensorflow>=2.8.0->autokeras) (2.12.2)\n",
            "Requirement already satisfied: tensorflow-estimator<2.13,>=2.12.0 in /usr/local/lib/python3.10/dist-packages (from tensorflow>=2.8.0->autokeras) (2.12.0)\n",
            "Requirement already satisfied: termcolor>=1.1.0 in /usr/local/lib/python3.10/dist-packages (from tensorflow>=2.8.0->autokeras) (2.3.0)\n",
            "Requirement already satisfied: typing-extensions>=3.6.6 in /usr/local/lib/python3.10/dist-packages (from tensorflow>=2.8.0->autokeras) (4.5.0)\n",
            "Requirement already satisfied: wrapt<1.15,>=1.11.0 in /usr/local/lib/python3.10/dist-packages (from tensorflow>=2.8.0->autokeras) (1.14.1)\n",
            "Requirement already satisfied: tensorflow-io-gcs-filesystem>=0.23.1 in /usr/local/lib/python3.10/dist-packages (from tensorflow>=2.8.0->autokeras) (0.32.0)\n",
            "Requirement already satisfied: python-dateutil>=2.8.1 in /usr/local/lib/python3.10/dist-packages (from pandas->autokeras) (2.8.2)\n",
            "Requirement already satisfied: pytz>=2020.1 in /usr/local/lib/python3.10/dist-packages (from pandas->autokeras) (2022.7.1)\n",
            "Requirement already satisfied: wheel<1.0,>=0.23.0 in /usr/local/lib/python3.10/dist-packages (from astunparse>=1.6.0->tensorflow>=2.8.0->autokeras) (0.40.0)\n",
            "Requirement already satisfied: ml-dtypes>=0.0.3 in /usr/local/lib/python3.10/dist-packages (from jax>=0.3.15->tensorflow>=2.8.0->autokeras) (0.1.0)\n",
            "Requirement already satisfied: scipy>=1.7 in /usr/local/lib/python3.10/dist-packages (from jax>=0.3.15->tensorflow>=2.8.0->autokeras) (1.10.1)\n",
            "Requirement already satisfied: google-auth<3,>=1.6.3 in /usr/local/lib/python3.10/dist-packages (from tensorboard<2.13,>=2.12->tensorflow>=2.8.0->autokeras) (2.17.3)\n",
            "Requirement already satisfied: google-auth-oauthlib<1.1,>=0.5 in /usr/local/lib/python3.10/dist-packages (from tensorboard<2.13,>=2.12->tensorflow>=2.8.0->autokeras) (1.0.0)\n",
            "Requirement already satisfied: markdown>=2.6.8 in /usr/local/lib/python3.10/dist-packages (from tensorboard<2.13,>=2.12->tensorflow>=2.8.0->autokeras) (3.4.3)\n",
            "Requirement already satisfied: tensorboard-data-server<0.8.0,>=0.7.0 in /usr/local/lib/python3.10/dist-packages (from tensorboard<2.13,>=2.12->tensorflow>=2.8.0->autokeras) (0.7.0)\n",
            "Requirement already satisfied: tensorboard-plugin-wit>=1.6.0 in /usr/local/lib/python3.10/dist-packages (from tensorboard<2.13,>=2.12->tensorflow>=2.8.0->autokeras) (1.8.1)\n",
            "Requirement already satisfied: werkzeug>=1.0.1 in /usr/local/lib/python3.10/dist-packages (from tensorboard<2.13,>=2.12->tensorflow>=2.8.0->autokeras) (2.3.0)\n",
            "Requirement already satisfied: urllib3<1.27,>=1.21.1 in /usr/local/lib/python3.10/dist-packages (from requests->keras-tuner>=1.1.0->autokeras) (1.26.15)\n",
            "Requirement already satisfied: certifi>=2017.4.17 in /usr/local/lib/python3.10/dist-packages (from requests->keras-tuner>=1.1.0->autokeras) (2022.12.7)\n",
            "Requirement already satisfied: charset-normalizer~=2.0.0 in /usr/local/lib/python3.10/dist-packages (from requests->keras-tuner>=1.1.0->autokeras) (2.0.12)\n",
            "Requirement already satisfied: idna<4,>=2.5 in /usr/local/lib/python3.10/dist-packages (from requests->keras-tuner>=1.1.0->autokeras) (3.4)\n",
            "Requirement already satisfied: tensorflow-hub>=0.8.0 in /usr/local/lib/python3.10/dist-packages (from tensorflow-text->keras-nlp>=0.4.0->autokeras) (0.13.0)\n",
            "Requirement already satisfied: cachetools<6.0,>=2.0.0 in /usr/local/lib/python3.10/dist-packages (from google-auth<3,>=1.6.3->tensorboard<2.13,>=2.12->tensorflow>=2.8.0->autokeras) (5.3.0)\n",
            "Requirement already satisfied: pyasn1-modules>=0.2.1 in /usr/local/lib/python3.10/dist-packages (from google-auth<3,>=1.6.3->tensorboard<2.13,>=2.12->tensorflow>=2.8.0->autokeras) (0.3.0)\n",
            "Requirement already satisfied: rsa<5,>=3.1.4 in /usr/local/lib/python3.10/dist-packages (from google-auth<3,>=1.6.3->tensorboard<2.13,>=2.12->tensorflow>=2.8.0->autokeras) (4.9)\n",
            "Requirement already satisfied: requests-oauthlib>=0.7.0 in /usr/local/lib/python3.10/dist-packages (from google-auth-oauthlib<1.1,>=0.5->tensorboard<2.13,>=2.12->tensorflow>=2.8.0->autokeras) (1.3.1)\n",
            "Requirement already satisfied: MarkupSafe>=2.1.1 in /usr/local/lib/python3.10/dist-packages (from werkzeug>=1.0.1->tensorboard<2.13,>=2.12->tensorflow>=2.8.0->autokeras) (2.1.2)\n",
            "Requirement already satisfied: pyasn1<0.6.0,>=0.4.6 in /usr/local/lib/python3.10/dist-packages (from pyasn1-modules>=0.2.1->google-auth<3,>=1.6.3->tensorboard<2.13,>=2.12->tensorflow>=2.8.0->autokeras) (0.5.0)\n",
            "Requirement already satisfied: oauthlib>=3.0.0 in /usr/local/lib/python3.10/dist-packages (from requests-oauthlib>=0.7.0->google-auth-oauthlib<1.1,>=0.5->tensorboard<2.13,>=2.12->tensorflow>=2.8.0->autokeras) (3.2.2)\n",
            "Looking in indexes: https://pypi.org/simple, https://us-python.pkg.dev/colab-wheels/public/simple/\n",
            "Requirement already satisfied: keras-tuner in /usr/local/lib/python3.10/dist-packages (1.3.5)\n",
            "Requirement already satisfied: packaging in /usr/local/lib/python3.10/dist-packages (from keras-tuner) (23.1)\n",
            "Requirement already satisfied: requests in /usr/local/lib/python3.10/dist-packages (from keras-tuner) (2.27.1)\n",
            "Requirement already satisfied: kt-legacy in /usr/local/lib/python3.10/dist-packages (from keras-tuner) (1.0.5)\n",
            "Requirement already satisfied: urllib3<1.27,>=1.21.1 in /usr/local/lib/python3.10/dist-packages (from requests->keras-tuner) (1.26.15)\n",
            "Requirement already satisfied: certifi>=2017.4.17 in /usr/local/lib/python3.10/dist-packages (from requests->keras-tuner) (2022.12.7)\n",
            "Requirement already satisfied: charset-normalizer~=2.0.0 in /usr/local/lib/python3.10/dist-packages (from requests->keras-tuner) (2.0.12)\n",
            "Requirement already satisfied: idna<4,>=2.5 in /usr/local/lib/python3.10/dist-packages (from requests->keras-tuner) (3.4)\n"
          ]
        }
      ],
      "source": [
        "from google.colab import drive\n",
        "drive.mount('/content/drive')\n",
        "! pip install Augmentor\n",
        "import Augmentor\n",
        "import zipfile\n",
        "import os\n",
        "import numpy as np\n",
        "from PIL import Image\n",
        "from keras.utils import to_categorical\n",
        "from sklearn.model_selection import train_test_split\n",
        "from keras.models import Sequential\n",
        "from keras.layers import Conv2D, MaxPooling2D, Flatten, Dense\n",
        "from sklearn.preprocessing import LabelEncoder\n",
        "from sklearn.preprocessing import OneHotEncoder\n",
        "\n",
        "import seaborn as sns\n",
        "# Строим график точности на проверочной выборке\n",
        "import matplotlib.pyplot as plt\n",
        "\n",
        "# Утилиты предобработки данных\n",
        "from keras import  utils\n",
        "\n",
        "# устанавливаем Autokeras\n",
        "!pip install autokeras\n",
        "!pip install --upgrade autokeras\n",
        "import autokeras as ak\n",
        "\n",
        "from PIL import Image                     # Отрисовка изображений\n",
        "import random                             # Генерация случайных чисел \n",
        "import tensorflow as tf\n",
        "'''\n",
        "это одна из наиболее популярных библиотек машинного обучения и искусственного \n",
        "интеллекта. Она используется для создания и обучения различных моделей машинного\n",
        "обучения, в том числе нейронных сетей.\n",
        "'''\n",
        "from sklearn.metrics import confusion_matrix #\n",
        "!pip install keras-tuner --upgrade\n",
        "from keras_tuner.applications import HyperResNet\n",
        "import keras_tuner\n",
        "%matplotlib inline"
      ]
    },
    {
      "cell_type": "markdown",
      "metadata": {
        "id": "O_cQYvfwD2cv"
      },
      "source": [
        "#Аугментация изображений для получения больше картинок для обучения нейронной сети"
      ]
    },
    {
      "cell_type": "code",
      "execution_count": null,
      "metadata": {
        "id": "nRPuGA45kNEK"
      },
      "outputs": [],
      "source": [
        "# Указываем путь к архиву и название папки, в которую нужно распаковать\n",
        "zip_path = \"/content/drive/MyDrive/Iris.zip\"\n",
        "dir_path = \"Iris\"\n",
        "\n",
        "# Распаковываем архив\n",
        "with zipfile.ZipFile(zip_path, 'r') as zip_ref:\n",
        "    zip_ref.extractall(dir_path)\n",
        "'''\n",
        "    Код сначала распакует архив в папку \"Iris\", затем для каждой подпапки в этой \n",
        "    папке создаст генератор аугментации и применит к нему набор аугментационных \n",
        "    операций, сохраняя измененные изображения в подпапку с суффиксом \"_augmented\".\n",
        "    В каждой папке содержится по 6 изображений\n",
        "'''\n",
        "\n",
        "# Применяем аугментацию к каждой папке с изображениями\n",
        "for folder in os.listdir(dir_path):\n",
        "    if os.path.isdir(os.path.join(dir_path, folder)):\n",
        "        # Создаем генератор аугментации для каждой папки\n",
        "        p = Augmentor.Pipeline(os.path.join(dir_path, folder), output_directory=os.path.join('/content/drive/MyDrive/Iris2', folder))\n",
        "        # Добавляем операции аугментации\n",
        "        # Вращение изображения\n",
        "        p.rotate(probability=0.2, max_left_rotation=5, max_right_rotation=5)\n",
        "        # увеличение\n",
        "        #p.zoom(probability=0.2, min_factor=1.1, max_factor=1.2)\n",
        "        # Обрезание изображения\n",
        "        #p.crop_random(probability=0.1, percentage_area=0.2)\n",
        "        # Изменение яркости\n",
        "        p.random_brightness(probability=0.5, min_factor=0.5, max_factor=1.2)\n",
        "        # Изменение сонтрасности\n",
        "        p.random_contrast(probability=0.5, min_factor=0.5, max_factor=1.2)\n",
        "        # Применяем аугментацию\n",
        "        p.sample(45)\n",
        "        print(folder, '- Аугментация завершена')\n"
      ]
    },
    {
      "cell_type": "markdown",
      "metadata": {
        "id": "6HveL6B4QHm-"
      },
      "source": [
        "# Архивируем данные после проверки визуально, что насоздавала аугментация\n"
      ]
    },
    {
      "cell_type": "code",
      "execution_count": null,
      "metadata": {
        "id": "IXrdyyPYpxgn"
      },
      "outputs": [],
      "source": [
        "def create_archive(folder_path, archive_path):\n",
        "    \"\"\"Функция для создания архива папки\"\"\"\n",
        "    with zipfile.ZipFile(archive_path, 'w', zipfile.ZIP_DEFLATED) as zipf:\n",
        "        for root, dirs, files in os.walk(folder_path):\n",
        "            for file in files:\n",
        "                zipf.write(os.path.join(root, file))\n",
        "\n",
        "# Путь до папки с результатами\n",
        "folder_path = '/content/drive/MyDrive/Iris2'\n",
        "\n",
        "# Путь до создаваемого архива\n",
        "archive_path = '/content/drive/MyDrive/Iris2.zip'\n",
        "\n",
        "# Создание архива\n",
        "create_archive(folder_path, archive_path)"
      ]
    },
    {
      "cell_type": "code",
      "execution_count": null,
      "metadata": {
        "id": "UqjS4fDLTZm9"
      },
      "outputs": [],
      "source": [
        "# Эта команда распакует архив в папку `/content/Iris/`\n",
        "!unzip /content/drive/MyDrive/Iris2.zip -d /content/\n",
        "IMAGE_PATH = '/content/content/drive/MyDrive/Iris2'"
      ]
    },
    {
      "cell_type": "markdown",
      "metadata": {
        "id": "RHhdOYkL9ks7"
      },
      "source": [
        "Теперь вы можете увидеть, что находится в загруженной базе. Для этого функцией `listdir()` из модуля **os** получите список папок по адресу **IMAGE_PATH**:"
      ]
    },
    {
      "cell_type": "code",
      "execution_count": null,
      "metadata": {
        "id": "lSMkmZ8mTS0o"
      },
      "outputs": [],
      "source": [
        "# Получите список папок\n",
        "os.listdir(IMAGE_PATH)"
      ]
    },
    {
      "cell_type": "markdown",
      "metadata": {
        "id": "Fbv_ho9kp2K2"
      },
      "source": [
        "Здесь видно, что файлы распределены по папкам, при этом названия папок соответствуют именам классов (маркам авто). Поэтому зададим список классов из списка папок. Функция `listdir()` возвращает список папок в неопределенном порядке, поэтому список классов желательно отсортировать, чтобы имена классов всегда шли в одном порядке. Метками классов будут индексы имен классов в списке классов. Количество классов определим как длину списка классов."
      ]
    },
    {
      "cell_type": "code",
      "execution_count": null,
      "metadata": {
        "id": "28Mr2XnnrB7b"
      },
      "outputs": [],
      "source": [
        "# Определение списка имен классов\n",
        "CLASS_LIST = sorted(os.listdir(IMAGE_PATH))\n",
        "\n",
        "# Определение количества классов\n",
        "CLASS_COUNT = len(CLASS_LIST)\n",
        "\n",
        "# Проверка результата\n",
        "print(f'Количество классов: {CLASS_COUNT}, метки классов: {CLASS_LIST}')"
      ]
    },
    {
      "cell_type": "code",
      "execution_count": null,
      "metadata": {
        "id": "CAgR3epheYQh"
      },
      "outputs": [],
      "source": [
        "i = 0\n",
        "\n",
        "# Формирование пути к выборке одной марки авто\n",
        "f'{IMAGE_PATH}{CLASS_LIST[i]}/'"
      ]
    },
    {
      "cell_type": "markdown",
      "metadata": {
        "id": "9icg9xbOF5ye"
      },
      "source": [
        "Отобразим визуально для примера по одному изображению из каждого класса (при помощи функции `imshow()` из модуля **matplotlib.pyplot**).\n",
        "\n",
        "Для этого импортируем необходимые библиотеки, создадим заготовку для изображений всех классов.\n",
        "\n",
        "Далее в цикле переберем все классы. Сформируем путь к классу, выберем из него один случайный экземпляр (при помощи функции `random.choice()`) и отобразим его в ячейке (получим содержимое картинки при помощи функции `open()` из модуля **Image**)."
      ]
    },
    {
      "cell_type": "code",
      "execution_count": null,
      "metadata": {
        "id": "ZG8kWH5MSQTy"
      },
      "outputs": [],
      "source": []
    },
    {
      "cell_type": "code",
      "execution_count": null,
      "metadata": {
        "id": "2Sg81ThUyScS"
      },
      "outputs": [],
      "source": [
        "data_dir = \"/content/drive/MyDrive/Iris2/\"\n",
        "\n",
        "# Получение списка папок в каталоге\n",
        "folders = [folder for folder in os.listdir(data_dir) if os.path.isdir(os.path.join(data_dir, folder))]\n",
        "\n",
        "# Показ по одной фотографии из каждой папки\n",
        "for folder in folders:\n",
        "    folder_path = os.path.join(data_dir, folder)\n",
        "    image_names = [name for name in os.listdir(folder_path) if os.path.isfile(os.path.join(folder_path, name))]\n",
        "    if len(image_names) > 0:\n",
        "        first_image_path = os.path.join(folder_path, image_names[0])\n",
        "        image = Image.open(first_image_path)\n",
        "        image.show()"
      ]
    },
    {
      "cell_type": "markdown",
      "metadata": {
        "id": "Uzy6IFQp0iYZ"
      },
      "source": [
        "# Изображения"
      ]
    },
    {
      "cell_type": "markdown",
      "metadata": {
        "id": "mvA50iQ2VYPV"
      },
      "source": [
        "Для выполнения задачи нужно выполнить следующие шаги:\n",
        "\n",
        "Импортировать модуль os для работы с файловой системой.\n",
        "Создать два пустых списка: один для хранения путей к файлам изображений, а другой для хранения меток классов (названий папок).\n",
        "Получить список папок, содержащихся в директории 'construction'.\n",
        "Для каждой папки пройтись по всем файлам внутри нее и добавить путь к файлу в первый список, а метку (название категории) во второй список.\n",
        "Вывести на экран количество изображений в каждой папке и имя папки.\n",
        "Вот код для выполнения всех этих шагов:"
      ]
    },
    {
      "cell_type": "code",
      "execution_count": null,
      "metadata": {
        "id": "N2xAI_QMSyog"
      },
      "outputs": [],
      "source": [
        "# Создаем пустые списки для хранения путей к файлам изображений и меток классов\n",
        "image_paths = []\n",
        "labels = []\n",
        "\n",
        "# Получаем список папок, содержащихся в директории '/Iris/'\n",
        "dir_path = \"/content/drive/MyDrive/Iris2/\"\n",
        "categories = os.listdir(dir_path)\n",
        "\n",
        "# Проходим по каждой папке и добавляем в списки путь к файлу изображения и метку класса\n",
        "for category in categories:\n",
        "    category_path = os.path.join(dir_path, category)\n",
        "    if os.path.isdir(category_path):\n",
        "        files = os.listdir(category_path)\n",
        "        print(f\"Number of images in '{category}': {len(files)}\")\n",
        "        for file_name in files:\n",
        "            file_path = os.path.join(category_path, file_name)\n",
        "            image_paths.append(file_path)\n",
        "            labels.append(category)\n",
        "\n",
        "# Выводим результаты\n",
        "print(\"Total number of images:\", len(image_paths))\n",
        "print(\"Total number of labels:\", len(labels))\n"
      ]
    },
    {
      "cell_type": "code",
      "execution_count": null,
      "metadata": {
        "id": "04Ij955PSyri"
      },
      "outputs": [],
      "source": [
        "\n",
        "# Создаем экземпляр LabelEncoder и преобразуем лейблы в числовой формат\n",
        "label_encoder = LabelEncoder()\n",
        "integer_encoded = label_encoder.fit_transform(labels)\n",
        "\n",
        "# Создаем экземпляр OneHotEncoder и преобразуем числовые значения в One-Hot Encoding\n",
        "onehot_encoder = OneHotEncoder(sparse=False)\n",
        "integer_encoded = integer_encoded.reshape(len(integer_encoded), 1)\n",
        "onehot_encoded = onehot_encoder.fit_transform(integer_encoded)\n",
        "\n",
        "# Выводим результат\n",
        "print(onehot_encoded)\n"
      ]
    },
    {
      "cell_type": "markdown",
      "metadata": {
        "id": "yourZhwmbvWn"
      },
      "source": [
        "Этот код сначала создает экземпляр LabelEncoder, который преобразует лейблы в числовой формат. Затем создается экземпляр OneHotEncoder, который преобразует числовые значения в формат One-Hot Encoding. Наконец, преобразованные данные выводятся на экран."
      ]
    },
    {
      "cell_type": "code",
      "execution_count": null,
      "metadata": {
        "id": "Iy9KKsudbpK5"
      },
      "outputs": [],
      "source": [
        "onehot_encoded[0]"
      ]
    },
    {
      "cell_type": "markdown",
      "metadata": {
        "id": "ovfXgVDkYh2V"
      },
      "source": [
        "Для выполнения задачи нужно выполнить следующие шаги:\n",
        "\n",
        "Импортировать модули numpy и Image из библиотеки Pillow.\n",
        "Создать пустой список для изображений.\n",
        "Пройтись по списку image_paths, открыв каждое изображение, приведя его к формату 64 на 64 пикселя и добавив его в пустой список в виде numpy массива.\n",
        "После окончания всех итераций, перевести созданный список в формат numpy массива.\n",
        "Cписок меток классов  перевести в формат numpy массива.\n",
        "Вот код для выполнения всех этих шагов:"
      ]
    },
    {
      "cell_type": "code",
      "execution_count": null,
      "metadata": {
        "id": "vsOdaCCJSyuf"
      },
      "outputs": [],
      "source": [
        "# Создаем пустой список для изображений\n",
        "images128 = []\n",
        "\n",
        "# Проходим по каждому пути к файлу изображения и добавляем его в список\n",
        "for path in image_paths:\n",
        "    with Image.open(path) as img:\n",
        "        img = img.resize((128, 128)) # изменяем размер изображения до 64x64 пикселей\n",
        "        img = np.array(img) # приводим изображение к формату numpy массива\n",
        "        images128.append(img) # добавляем изображение в список\n",
        "\n",
        "# Преобразуем список в формат numpy массива\n",
        "images128 = np.array(images128)\n",
        "\n",
        "# Преобразуем список меток классов в формат numpy массива\n",
        "\n",
        "labels_onehot128 = np.array(onehot_encoded)\n",
        "\n",
        "# Выводим размерности массивов с изображениями и метками классов\n",
        "print(\"Shape of images array:\", images128.shape)\n",
        "print(\"Shape of labels array:\", labels_onehot128.shape)\n",
        "\n",
        "images64 = []\n",
        "\n",
        "# Проходим по каждому пути к файлу изображения и добавляем его в список\n",
        "for path in image_paths:\n",
        "    with Image.open(path) as img:\n",
        "        img = img.resize((64, 64)) # изменяем размер изображения до 64x64 пикселей\n",
        "        img = np.array(img) # приводим изображение к формату numpy массива\n",
        "        images64.append(img) # добавляем изображение в список\n",
        "\n",
        "# Преобразуем список в формат numpy массива\n",
        "images64 = np.array(images64)\n",
        "\n",
        "# Преобразуем список меток классов в формат numpy массива\n",
        "\n",
        "labels_onehot64 = np.array(onehot_encoded)\n",
        "\n",
        "# Выводим размерности массивов с изображениями и метками классов\n",
        "print(\"Shape of images array:\", images64.shape)\n",
        "print(\"Shape of labels array:\", labels_onehot64.shape)\n"
      ]
    },
    {
      "cell_type": "code",
      "execution_count": null,
      "metadata": {
        "id": "T4RMmgDqSy5L"
      },
      "outputs": [],
      "source": [
        "# Нормируем массив изображений\n",
        "images_normalized64 = images64 / 255.0\n",
        "\n",
        "# Выводим результат\n",
        "print(images_normalized64[0])\n",
        "\n",
        "# Нормируем массив изображений\n",
        "images_normalized128 = images128 / 255.0\n",
        "\n",
        "# Выводим результат\n",
        "print(images_normalized128[0])"
      ]
    },
    {
      "cell_type": "code",
      "execution_count": null,
      "metadata": {
        "id": "wavGBJ_RSy7a"
      },
      "outputs": [],
      "source": [
        "\n",
        "# Разделяем данные на тренировочную и тестовую выборки\n",
        "X_Train128, X_val128, y_Train128, y_val128 = train_test_split(images128, labels_onehot128, test_size=0.2, random_state=42)\n",
        "X_train128, X_test128, y_train128, y_test128 = train_test_split(X_Train128, y_Train128, test_size=0.2, random_state=42)\n",
        "# Выводим размеры тренировочной и тестовой выборок\n",
        "print(\"X_train128 shape:\", X_train128.shape)\n",
        "print(\"y_train128 shape:\", y_train128.shape)\n",
        "print(\"X_val128 shape:\", X_val128.shape)\n",
        "print(\"y_val128 shape:\", y_val128.shape)\n",
        "print(\"X_test128 shape:\", X_test128.shape)\n",
        "print(\"y_test128 shape:\", y_test128.shape)\n"
      ]
    },
    {
      "cell_type": "code",
      "source": [
        "# Разделяем данные на тренировочную и тестовую выборки\n",
        "X_Train64, X_val64, y_Train64, y_val64 = train_test_split(images64, labels_onehot64, test_size=0.2, random_state=42)\n",
        "X_train64, X_test64, y_train64, y_test64 = train_test_split(X_Train64, y_Train64, test_size=0.2, random_state=42)\n",
        "# Выводим размеры тренировочной и тестовой выборок\n",
        "print(\"X_train shape:\", X_train64.shape)\n",
        "print(\"y_train shape:\", y_train64.shape)\n",
        "print(\"X_val shape:\", X_val64.shape)\n",
        "print(\"y_val shape:\", y_val64.shape)\n",
        "print(\"X_test shape:\", X_test64.shape)\n",
        "print(\"y_test shape:\", y_test64.shape)\n"
      ],
      "metadata": {
        "id": "key2krO0mVMg"
      },
      "execution_count": null,
      "outputs": []
    },
    {
      "cell_type": "markdown",
      "source": [
        "# Cохранение и дальнейшая загрузка данных для создания нейронных сетей "
      ],
      "metadata": {
        "id": "tSGbM9vzi7qA"
      }
    },
    {
      "cell_type": "code",
      "source": [
        "np.save('/content/drive/MyDrive/Colab Notebooks/X_train128'    , X_train128)\n",
        "np.save('/content/drive/MyDrive/Colab Notebooks/y_train128'    , y_train128)\n",
        "np.save('/content/drive/MyDrive/Colab Notebooks/X_val128'      , X_val128)\n",
        "np.save('/content/drive/MyDrive/Colab Notebooks/y_val128'      , y_val128)\n",
        "np.save('/content/drive/MyDrive/Colab Notebooks/X_test128'     , X_test128)\n",
        "np.save('/content/drive/MyDrive/Colab Notebooks/y_test128'     , y_test128)\n",
        "\n",
        "np.save('/content/drive/MyDrive/Colab Notebooks/X_train64'    , X_train64)\n",
        "np.save('/content/drive/MyDrive/Colab Notebooks/y_train64'    , y_train64)\n",
        "np.save('/content/drive/MyDrive/Colab Notebooks/X_val64'      , X_val64)\n",
        "np.save('/content/drive/MyDrive/Colab Notebooks/y_val64'      , y_val64)\n",
        "np.save('/content/drive/MyDrive/Colab Notebooks/X_test64'     , X_test64)\n",
        "np.save('/content/drive/MyDrive/Colab Notebooks/y_test64'     , y_test64)"
      ],
      "metadata": {
        "id": "N0ehnaewi7PU"
      },
      "execution_count": null,
      "outputs": []
    },
    {
      "cell_type": "code",
      "source": [
        "print(\"X_train shape:\", X_train64.shape)\n",
        "print(\"y_train shape:\", y_train64.shape)\n",
        "print(\"X_val shape:\", X_val64.shape)\n",
        "print(\"y_val shape:\", y_val64.shape)\n",
        "print(\"X_test shape:\", X_test64.shape)\n",
        "print(\"y_test shape:\", y_test64.shape)"
      ],
      "metadata": {
        "id": "vEwu0k4h6L07"
      },
      "execution_count": null,
      "outputs": []
    },
    {
      "cell_type": "code",
      "source": [
        "X_train128 =             np.load('/content/drive/MyDrive/Colab Notebooks/X_train128.npy')\n",
        "y_train128 =             np.load('/content/drive/MyDrive/Colab Notebooks/y_train128.npy')\n",
        "X_val128   =             np.load('/content/drive/MyDrive/Colab Notebooks/X_val128.npy')\n",
        "y_val128   =             np.load('/content/drive/MyDrive/Colab Notebooks/y_val128.npy')\n",
        "X_test128  =             np.load('/content/drive/MyDrive/Colab Notebooks/X_test128.npy')\n",
        "y_test128  =             np.load('/content/drive/MyDrive/Colab Notebooks/y_test128.npy')\n",
        "\n",
        "X_train64  =             np.load('/content/drive/MyDrive/Colab Notebooks/X_train64.npy')\n",
        "y_train64  =             np.load('/content/drive/MyDrive/Colab Notebooks/y_train64.npy')\n",
        "X_val64    =             np.load('/content/drive/MyDrive/Colab Notebooks/X_val64.npy')\n",
        "y_val64    =             np.load('/content/drive/MyDrive/Colab Notebooks/y_val64.npy')\n",
        "X_test64   =             np.load('/content/drive/MyDrive/Colab Notebooks/X_test64.npy')\n",
        "y_test64   =             np.load('/content/drive/MyDrive/Colab Notebooks/y_test64.npy')"
      ],
      "metadata": {
        "id": "M9jCiL9A2-GQ"
      },
      "execution_count": null,
      "outputs": []
    },
    {
      "cell_type": "code",
      "execution_count": null,
      "metadata": {
        "id": "1-S-havbQENL"
      },
      "outputs": [],
      "source": [
        "\n",
        "# Создаем модель нейронной сети\n",
        "model = Sequential()\n",
        "model.add(Conv2D(32, (3, 3), activation='relu', input_shape=(128, 128, 3)))\n",
        "model.add(MaxPooling2D((2, 2)))\n",
        "model.add(Conv2D(64, (3, 3), activation='relu'))\n",
        "model.add(MaxPooling2D((2, 2)))\n",
        "model.add(Conv2D(64, (3, 3), activation='relu'))\n",
        "model.add(Flatten())\n",
        "model.add(Dense(64, activation='relu'))\n",
        "model.add(Dense(64, activation='softmax'))\n",
        "\n",
        "# Компилируем модель\n",
        "model.compile(optimizer='adam',\n",
        "              loss='categorical_crossentropy',\n",
        "              metrics=['accuracy'])\n",
        "\n",
        "# Обучаем модель на тренировочной выборке\n",
        "history = model.fit(X_train128, y_train128, epochs=20, validation_data=(X_val128, y_val128))\n",
        "\n",
        "# Строим график точности на проверочной выборке\n",
        "import matplotlib.pyplot as plt\n",
        "\n",
        "plt.plot(history.history['val_accuracy'])\n",
        "plt.title('Model accuracy')\n",
        "plt.ylabel('Accuracy')\n",
        "plt.xlabel('Epoch')\n",
        "plt.legend(['Test'], loc='upper left')\n",
        "plt.show()\n"
      ]
    },
    {
      "cell_type": "code",
      "execution_count": null,
      "metadata": {
        "id": "4iHVOJmAlBTY"
      },
      "outputs": [],
      "source": [
        "# Создание полотна для рисунка\n",
        "plt.figure(1, figsize=(18, 5))\n",
        "\n",
        "# Задание первой (левой) области для построения графиков\n",
        "plt.subplot(1, 2, 1)\n",
        "# Отрисовка графиков 'loss' и 'val_loss' из значений словаря history.history\n",
        "plt.plot(history.history['loss'], \n",
        "         label='Значение ошибки на обучающем наборе')\n",
        "plt.plot(history.history['val_loss'], \n",
        "         label='Значение ошибки на проверочном наборе')\n",
        "# Задание подписей осей \n",
        "plt.xlabel('Эпоха обучения')\n",
        "plt.ylabel('Значение ошибки')\n",
        "plt.legend()\n",
        "\n",
        "# Задание второй (правой) области для построения графиков\n",
        "plt.subplot(1, 2, 2) \n",
        "# Отрисовка графиков 'accuracy' и 'val_accuracy' из значений словаря history.history\n",
        "plt.plot(history.history['accuracy'], \n",
        "         label='Доля верных ответов на обучающем наборе')\n",
        "plt.plot(history.history['val_accuracy'], \n",
        "         label='Доля верных ответов на проверочном наборе')\n",
        "# Задание подписей осей \n",
        "plt.xlabel('Эпоха обучения')\n",
        "plt.ylabel('Доля верных ответов')\n",
        "plt.legend()\n",
        "\n",
        "# Фиксация графиков и рисование всей картинки\n",
        "plt.show()"
      ]
    },
    {
      "cell_type": "code",
      "execution_count": null,
      "metadata": {
        "id": "zpfIwhC_nqL9"
      },
      "outputs": [],
      "source": [
        "# Оценка точности модели на проверочной выборке\n",
        "accuracy = model.evaluate(X_test128, y_test128)[1]\n",
        "print(\"Accuracy on validation data:\", accuracy)"
      ]
    },
    {
      "cell_type": "code",
      "source": [
        "\n",
        "# Создаем модель нейронной сети\n",
        "model = Sequential()\n",
        "model.add(Conv2D(64, (3, 3), activation='relu', input_shape=(64, 64, 3)))\n",
        "model.add(MaxPooling2D((2, 2)))\n",
        "model.add(Conv2D(128, (3, 3), activation='relu'))\n",
        "model.add(MaxPooling2D((2, 2)))\n",
        "model.add(Conv2D(128, (3, 3), activation='relu'))\n",
        "model.add(Flatten())\n",
        "model.add(Dense(128, activation='relu'))\n",
        "model.add(Dense(64, activation='softmax'))\n",
        "\n",
        "# Компилируем модель\n",
        "model.compile(optimizer='adam',\n",
        "              loss='categorical_crossentropy',\n",
        "              metrics=['accuracy'])\n",
        "\n",
        "# Обучаем модель на тренировочной выборке\n",
        "history = model.fit(X_train64, y_train64, epochs=20, validation_data=(X_val64, y_val64))\n",
        "\n",
        "# Вывод модели \n",
        "utils.plot_model(model, dpi=60)\n",
        "\n",
        "plt.plot(history.history['val_accuracy'])\n",
        "plt.title('Model accuracy')\n",
        "plt.ylabel('Accuracy')\n",
        "plt.xlabel('Epoch')\n",
        "plt.legend(['Test'], loc='upper left')\n",
        "plt.show()\n",
        "\n"
      ],
      "metadata": {
        "id": "ggERwrWPCFYF"
      },
      "execution_count": null,
      "outputs": []
    },
    {
      "cell_type": "code",
      "source": [
        "# Создание полотна для рисунка\n",
        "plt.figure(1, figsize=(18, 5))\n",
        "\n",
        "# Задание первой (левой) области для построения графиков\n",
        "plt.subplot(1, 2, 1)\n",
        "# Отрисовка графиков 'loss' и 'val_loss' из значений словаря history.history\n",
        "plt.plot(history.history['loss'], \n",
        "         label='Значение ошибки на обучающем наборе')\n",
        "plt.plot(history.history['val_loss'], \n",
        "         label='Значение ошибки на проверочном наборе')\n",
        "# Задание подписей осей \n",
        "plt.xlabel('Эпоха обучения')\n",
        "plt.ylabel('Значение ошибки')\n",
        "plt.legend()\n",
        "\n",
        "# Задание второй (правой) области для построения графиков\n",
        "plt.subplot(1, 2, 2) \n",
        "# Отрисовка графиков 'accuracy' и 'val_accuracy' из значений словаря history.history\n",
        "plt.plot(history.history['accuracy'], \n",
        "         label='Доля верных ответов на обучающем наборе')\n",
        "plt.plot(history.history['val_accuracy'], \n",
        "         label='Доля верных ответов на проверочном наборе')\n",
        "# Задание подписей осей \n",
        "plt.xlabel('Эпоха обучения')\n",
        "plt.ylabel('Доля верных ответов')\n",
        "plt.legend()\n",
        "\n",
        "# Фиксация графиков и рисование всей картинки\n",
        "plt.show()"
      ],
      "metadata": {
        "id": "z3CSTraJCeXA"
      },
      "execution_count": null,
      "outputs": []
    },
    {
      "cell_type": "code",
      "source": [
        "# Оценка точности модели на проверочной выборке\n",
        "accuracy = model.evaluate(X_test64, y_test64)[1]\n",
        "print(\"Accuracy on validation data:\", accuracy)"
      ],
      "metadata": {
        "id": "MfwtBaoKCkZu"
      },
      "execution_count": null,
      "outputs": []
    },
    {
      "cell_type": "code",
      "execution_count": null,
      "metadata": {
        "id": "OVTh62KBR5fV"
      },
      "outputs": [],
      "source": [
        "\n",
        "\n",
        "# Инициализация классификатора AutoKeras\n",
        "clf = ak.ImageClassifier(\n",
        "    max_trials=4,\n",
        "    objective='val_accuracy',\n",
        "    directory='pavement_crack',\n",
        "    overwrite=True)\n",
        "\n",
        "clf.fit(X_train64, y_train64, epochs=14, validation_data=(X_val64, y_val64))\n",
        "clf.export_model().to_saved_model('model')"
      ]
    },
    {
      "cell_type": "markdown",
      "source": [
        "##Получаем архитектуру модели и используемые в ней параметры"
      ],
      "metadata": {
        "id": "AcsMxoqsYiZ8"
      }
    },
    {
      "cell_type": "code",
      "source": [
        "best_model = clf.export_model()\n",
        "best_model.summary()"
      ],
      "metadata": {
        "id": "x0lMtDO7EIU5"
      },
      "execution_count": null,
      "outputs": []
    },
    {
      "cell_type": "code",
      "source": [
        "# Оценка точности модели на проверочной выборке\n",
        "accuracy = best_model.evaluate(X_test64, y_test64)[1]\n",
        "print(\"Accuracy on validation data:\", accuracy)"
      ],
      "metadata": {
        "id": "zgj03cLsmAaH"
      },
      "execution_count": null,
      "outputs": []
    },
    {
      "cell_type": "code",
      "source": [
        "\n",
        "clf = ak.ImageClassifier(\n",
        "    overwrite=True,\n",
        "    max_trials=10,\n",
        "    objective=\"val_accuracy\"\n",
        ")\n",
        "\n",
        "clf.fit(\n",
        "    X_train64,\n",
        "    y_train64,\n",
        "    validation_data=(X_val64, y_val64),\n",
        "    epochs=100,\n",
        "    callbacks=[tf.keras.callbacks.EarlyStopping(\n",
        "        patience=10,\n",
        "        restore_best_weights=True\n",
        "    )]\n",
        ")\n",
        "\n",
        "clf.export_model().to_saved_model('model')"
      ],
      "metadata": {
        "id": "aNyn_S2Wr8X2"
      },
      "execution_count": null,
      "outputs": []
    },
    {
      "cell_type": "code",
      "source": [
        "\n",
        "clf = ak.ImageClassifier(\n",
        "    overwrite=True,\n",
        "    max_trials=10,\n",
        "    objective=\"val_accuracy\"\n",
        ")\n",
        "\n",
        "clf.fit(\n",
        "    X_train64,\n",
        "    y_train64,\n",
        "    validation_data=(X_val64, y_val64),\n",
        "    epochs=50,\n",
        "    callbacks=[tf.keras.callbacks.EarlyStopping(\n",
        "        patience=5,\n",
        "        restore_best_weights=True\n",
        "    )]\n",
        ")\n",
        "clf.export_model().to_saved_model('model')"
      ],
      "metadata": {
        "id": "yCm0GBpHza1_"
      },
      "execution_count": null,
      "outputs": []
    },
    {
      "cell_type": "code",
      "source": [
        "best_model = clf.export_model()\n",
        "best_model.summary()"
      ],
      "metadata": {
        "id": "sNXcCTUcsD6t"
      },
      "execution_count": null,
      "outputs": []
    },
    {
      "cell_type": "code",
      "source": [
        "# Оценка точности модели на проверочной выборке\n",
        "accuracy = best_model.evaluate(X_test64, y_test64)[1]\n",
        "print(\"Accuracy on validation data:\", accuracy)"
      ],
      "metadata": {
        "id": "bvLyicVvsD6t"
      },
      "execution_count": null,
      "outputs": []
    },
    {
      "cell_type": "code",
      "source": [
        "from sklearn.preprocessing import OneHotEncoder\n",
        "# преобразование мультиклассовых меток в мультиэтикеточные\n",
        "encoder = OneHotEncoder()\n",
        "y_test64_encoded = encoder.fit_transform(y_test64) \n",
        "# определенин `inputs` и `outputs`:\n",
        "\n",
        "input_node = ak.ImageInput()\n",
        "output_node = ak.Normalization()(input_node)\n",
        "output_node = ak.ConvBlock()(output_node)\n",
        "output_node = ak.DenseBlock()(output_node)\n",
        "output_node = ak.ClassificationHead()(output_node)\n",
        "clf = ak.AutoModel(inputs=input_node, outputs=output_node, overwrite=True, \n",
        "                   max_trials=10, objective='val_loss')\n",
        "'''\n",
        "В данном примере мы создаем `input_node` с помощью метода `ImageInput()`, \n",
        "а затем поочередно применяем блоки для нормализации, сверточных слоев, \n",
        "плотных слоев и блок для классификации, чтобы определить выходной узел \n",
        "`output_node`.\n",
        "'''\n",
        "\n",
        "clf = ak.AutoModel(\n",
        "    inputs=input_node,\n",
        "    outputs=output_node,\n",
        "    overwrite=True,\n",
        "    max_trials=10,\n",
        "    objective=\"val_accuracy\"\n",
        ")\n",
        "\n",
        "clf.fit(\n",
        "    X_train64,\n",
        "    y_train64,\n",
        "    validation_data=(X_val64, y_val64),\n",
        "    epochs=50,\n",
        "    callbacks=[tf.keras.callbacks.EarlyStopping(\n",
        "        patience=5,\n",
        "        restore_best_weights=True\n",
        "    )]\n",
        ")\n",
        "\n",
        "# Сохранение модели в формате Tensorflow SavedModel\n",
        "clf.export_model().save('/content/drive/MyDrive/model_1')\n"
      ],
      "metadata": {
        "id": "cCMh_vHMBW6d",
        "colab": {
          "base_uri": "https://localhost:8080/"
        },
        "outputId": "4db7e9da-c9d4-4244-9e27-183f12a737cf"
      },
      "execution_count": null,
      "outputs": [
        {
          "output_type": "stream",
          "name": "stdout",
          "text": [
            "Trial 10 Complete [00h 02m 18s]\n",
            "val_accuracy: 0.9878472089767456\n",
            "\n",
            "Best val_accuracy So Far: 0.9947916865348816\n",
            "Total elapsed time: 00h 13m 12s\n"
          ]
        },
        {
          "output_type": "stream",
          "name": "stderr",
          "text": [
            "WARNING:absl:Found untraced functions such as _jit_compiled_convolution_op, _jit_compiled_convolution_op, _jit_compiled_convolution_op, _jit_compiled_convolution_op, _update_step_xla while saving (showing 5 of 5). These functions will not be directly callable after loading.\n",
            "WARNING:tensorflow:Detecting that an object or model or tf.train.Checkpoint is being deleted with unrestored values. See the following logs for the specific values in question. To silence these warnings, use `status.expect_partial()`. See https://www.tensorflow.org/api_docs/python/tf/train/Checkpoint#restorefor details about the status object returned by the restore function.\n",
            "WARNING:tensorflow:Value in checkpoint could not be found in the restored object: (root).optimizer._variables.1\n",
            "WARNING:tensorflow:Value in checkpoint could not be found in the restored object: (root).optimizer._variables.2\n",
            "WARNING:tensorflow:Value in checkpoint could not be found in the restored object: (root).optimizer._variables.3\n",
            "WARNING:tensorflow:Value in checkpoint could not be found in the restored object: (root).optimizer._variables.4\n",
            "WARNING:tensorflow:Value in checkpoint could not be found in the restored object: (root).optimizer._variables.5\n",
            "WARNING:tensorflow:Value in checkpoint could not be found in the restored object: (root).optimizer._variables.6\n",
            "WARNING:tensorflow:Value in checkpoint could not be found in the restored object: (root).optimizer._variables.7\n",
            "WARNING:tensorflow:Value in checkpoint could not be found in the restored object: (root).optimizer._variables.8\n",
            "WARNING:tensorflow:Value in checkpoint could not be found in the restored object: (root).optimizer._variables.9\n",
            "WARNING:tensorflow:Value in checkpoint could not be found in the restored object: (root).optimizer._variables.10\n",
            "WARNING:tensorflow:Value in checkpoint could not be found in the restored object: (root).optimizer._variables.11\n",
            "WARNING:tensorflow:Value in checkpoint could not be found in the restored object: (root).optimizer._variables.12\n",
            "WARNING:tensorflow:Value in checkpoint could not be found in the restored object: (root).optimizer._variables.13\n",
            "WARNING:tensorflow:Value in checkpoint could not be found in the restored object: (root).optimizer._variables.14\n",
            "WARNING:tensorflow:Value in checkpoint could not be found in the restored object: (root).optimizer._variables.15\n",
            "WARNING:tensorflow:Value in checkpoint could not be found in the restored object: (root).optimizer._variables.16\n",
            "WARNING:tensorflow:Value in checkpoint could not be found in the restored object: (root).optimizer._variables.17\n",
            "WARNING:tensorflow:Value in checkpoint could not be found in the restored object: (root).optimizer._variables.18\n",
            "WARNING:tensorflow:Value in checkpoint could not be found in the restored object: (root).optimizer._variables.19\n",
            "WARNING:tensorflow:Value in checkpoint could not be found in the restored object: (root).optimizer._variables.20\n",
            "WARNING:tensorflow:Value in checkpoint could not be found in the restored object: (root).optimizer._variables.21\n",
            "WARNING:tensorflow:Value in checkpoint could not be found in the restored object: (root).optimizer._variables.22\n",
            "WARNING:tensorflow:Value in checkpoint could not be found in the restored object: (root).optimizer._variables.23\n",
            "WARNING:tensorflow:Value in checkpoint could not be found in the restored object: (root).optimizer._variables.24\n",
            "WARNING:tensorflow:Value in checkpoint could not be found in the restored object: (root).optimizer._variables.25\n",
            "WARNING:tensorflow:Value in checkpoint could not be found in the restored object: (root).optimizer._variables.26\n",
            "WARNING:tensorflow:Value in checkpoint could not be found in the restored object: (root).optimizer._variables.27\n",
            "WARNING:tensorflow:Value in checkpoint could not be found in the restored object: (root).optimizer._variables.28\n",
            "WARNING:tensorflow:Value in checkpoint could not be found in the restored object: (root).optimizer._variables.29\n",
            "WARNING:tensorflow:Value in checkpoint could not be found in the restored object: (root).optimizer._variables.30\n",
            "WARNING:tensorflow:Value in checkpoint could not be found in the restored object: (root).optimizer._variables.31\n",
            "WARNING:tensorflow:Value in checkpoint could not be found in the restored object: (root).optimizer._variables.32\n",
            "WARNING:tensorflow:Value in checkpoint could not be found in the restored object: (root).optimizer._variables.33\n",
            "WARNING:tensorflow:Value in checkpoint could not be found in the restored object: (root).optimizer._variables.34\n",
            "WARNING:tensorflow:Value in checkpoint could not be found in the restored object: (root).optimizer._variables.35\n",
            "WARNING:tensorflow:Value in checkpoint could not be found in the restored object: (root).optimizer._variables.36\n",
            "WARNING:absl:Found untraced functions such as _jit_compiled_convolution_op, _jit_compiled_convolution_op, _jit_compiled_convolution_op, _jit_compiled_convolution_op, _update_step_xla while saving (showing 5 of 5). These functions will not be directly callable after loading.\n"
          ]
        }
      ]
    },
    {
      "cell_type": "code",
      "source": [
        "#1. Загрузите сохраненную модель:\n",
        "model = tf.keras.models.load_model('/content/drive/MyDrive/model_1')\n",
        "#2. Выполните предсказания на тестовой выборке:\n",
        "y_pred = model.predict(X_test64)\n",
        "#3. Вычислите точность (accuracy) на тестовой выборке:\n",
        "accuracy = model.evaluate(X_test64, y_test64)[1]\n",
        "print(\"Accuracy on test data: {:.2%}\".format(accuracy))\n",
        "#4. Вычислите матрицу ошибок:\n",
        "y_test64_classes = [tf.argmax(y_test64[i]).numpy() for i in range(len(y_test64))]\n",
        "y_pred_classes = [tf.argmax(y_pred[i]).numpy() for i in range(len(y_pred))]\n",
        "confusion_mtx = confusion_matrix(y_test64_classes, y_pred_classes)\n",
        "#5. Отобразите матрицу ошибок в графическом виде:\n",
        "plt.figure(figsize=(30,30))\n",
        "sns.heatmap(confusion_mtx, annot=True, fmt='g', cmap='YlGnBu')\n",
        "plt.xlabel('Predicted')\n",
        "plt.ylabel('True')\n",
        "plt.show()"
      ],
      "metadata": {
        "id": "47YplQYEPQ4F",
        "colab": {
          "base_uri": "https://localhost:8080/",
          "height": 1000
        },
        "outputId": "3ff598a7-28b4-4ac0-e442-5004e4ea7536"
      },
      "execution_count": null,
      "outputs": [
        {
          "output_type": "stream",
          "name": "stdout",
          "text": [
            "15/15 [==============================] - 7s 26ms/step\n",
            "15/15 [==============================] - 0s 13ms/step - loss: 0.0434 - accuracy: 0.9935\n",
            "Accuracy on test data: 99.35%\n"
          ]
        },
        {
          "output_type": "display_data",
          "data": {
            "text/plain": [
              "<Figure size 3000x3000 with 2 Axes>"
            ],
            "image/png": "[encoded data removed]"
          },
          "metadata": {}
        }
      ]
    },
    {
      "cell_type": "code",
      "source": [
        "model.summary()"
      ],
      "metadata": {
        "id": "TWFwR6RusFaf",
        "colab": {
          "base_uri": "https://localhost:8080/"
        },
        "outputId": "e5ecae23-7f24-42a8-b95d-40323b496b33"
      },
      "execution_count": null,
      "outputs": [
        {
          "output_type": "stream",
          "name": "stdout",
          "text": [
            "Model: \"model\"\n",
            "_________________________________________________________________\n",
            " Layer (type)                Output Shape              Param #   \n",
            "=================================================================\n",
            " input_1 (InputLayer)        [(None, 64, 64, 3)]       0         \n",
            "                                                                 \n",
            " cast_to_float32 (CastToFloa  (None, 64, 64, 3)        0         \n",
            " t32)                                                            \n",
            "                                                                 \n",
            " normalization (Normalizatio  (None, 64, 64, 3)        7         \n",
            " n)                                                              \n",
            "                                                                 \n",
            " conv2d (Conv2D)             (None, 62, 62, 32)        896       \n",
            "                                                                 \n",
            " conv2d_1 (Conv2D)           (None, 60, 60, 512)       147968    \n",
            "                                                                 \n",
            " max_pooling2d (MaxPooling2D  (None, 30, 30, 512)      0         \n",
            " )                                                               \n",
            "                                                                 \n",
            " conv2d_2 (Conv2D)           (None, 28, 28, 32)        147488    \n",
            "                                                                 \n",
            " conv2d_3 (Conv2D)           (None, 26, 26, 32)        9248      \n",
            "                                                                 \n",
            " max_pooling2d_1 (MaxPooling  (None, 13, 13, 32)       0         \n",
            " 2D)                                                             \n",
            "                                                                 \n",
            " flatten (Flatten)           (None, 5408)              0         \n",
            "                                                                 \n",
            " dense (Dense)               (None, 32)                173088    \n",
            "                                                                 \n",
            " batch_normalization (BatchN  (None, 32)               128       \n",
            " ormalization)                                                   \n",
            "                                                                 \n",
            " re_lu (ReLU)                (None, 32)                0         \n",
            "                                                                 \n",
            " dense_1 (Dense)             (None, 32)                1056      \n",
            "                                                                 \n",
            " batch_normalization_1 (Batc  (None, 32)               128       \n",
            " hNormalization)                                                 \n",
            "                                                                 \n",
            " re_lu_1 (ReLU)              (None, 32)                0         \n",
            "                                                                 \n",
            " dropout (Dropout)           (None, 32)                0         \n",
            "                                                                 \n",
            " dense_2 (Dense)             (None, 64)                2112      \n",
            "                                                                 \n",
            " classification_head_1 (Soft  (None, 64)               0         \n",
            " max)                                                            \n",
            "                                                                 \n",
            "=================================================================\n",
            "Total params: 482,119\n",
            "Trainable params: 481,984\n",
            "Non-trainable params: 135\n",
            "_________________________________________________________________\n"
          ]
        }
      ]
    },
    {
      "cell_type": "code",
      "source": [
        "# Оценка точности модели на проверочной выборке\n",
        "accuracy = model.evaluate(X_test64, y_test64)[1]\n",
        "print(\"Accuracy on validation data:\", accuracy)"
      ],
      "metadata": {
        "id": "DjsUY4flsFaf",
        "colab": {
          "base_uri": "https://localhost:8080/"
        },
        "outputId": "919353f3-f696-4f18-dabe-bddf9ae5fbc9"
      },
      "execution_count": null,
      "outputs": [
        {
          "output_type": "stream",
          "name": "stdout",
          "text": [
            "15/15 [==============================] - 0s 17ms/step - loss: 0.0434 - accuracy: 0.9935\n",
            "Accuracy on validation data: 0.9934924244880676\n"
          ]
        }
      ]
    },
    {
      "cell_type": "markdown",
      "source": [
        "#Авто керас\n"
      ],
      "metadata": {
        "id": "i7cCzkWQ67fo"
      }
    },
    {
      "cell_type": "code",
      "source": [
        "from keras.callbacks import EarlyStopping "
      ],
      "metadata": {
        "id": "aLuTtyQU6_u_"
      },
      "execution_count": null,
      "outputs": []
    },
    {
      "cell_type": "code",
      "source": [
        "hypermodel = HyperResNet(input_shape=(64, 64, 3), classes=64)\n",
        "\n",
        "tuner3 = keras_tuner.RandomSearch(\n",
        "    hypermodel,\n",
        "    objective=\"val_accuracy\",\n",
        "    max_trials=4,\n",
        "    overwrite=True,\n",
        "    directory=\"my_dir\",\n",
        "    project_name=\"ResNet\",\n",
        ")\n",
        "\n",
        "# Добавляем остановку если нет изменений \n",
        "earlystop = EarlyStopping(monitor='val_accuracy', patience=5)\n",
        "\n",
        "tuner3.search(X_train64, y_train64, epochs=50, validation_data=(X_val64, y_val64), callbacks=[earlystop])\n",
        "\n",
        "# Получите лучшую модель\n",
        "best_model = tuner3.get_best_models(num_models=1)[0]\n",
        "\n",
        "# Оцените модель на Тестовой выборке\n",
        "accuracy = best_model.evaluate(X_test64, y_test64)[1]\n",
        "print(\"Accuracy on validation data:\", accuracy)"
      ],
      "metadata": {
        "id": "ZhpIOJcVIfxf",
        "colab": {
          "base_uri": "https://localhost:8080/"
        },
        "outputId": "bf5f058c-9fbb-46e2-a7ee-0163e7871390"
      },
      "execution_count": null,
      "outputs": [
        {
          "output_type": "stream",
          "name": "stdout",
          "text": [
            "Trial 4 Complete [00h 06m 08s]\n",
            "val_accuracy: 0.7291666865348816\n",
            "\n",
            "Best val_accuracy So Far: 0.8871527910232544\n",
            "Total elapsed time: 00h 18m 49s\n",
            "15/15 [==============================] - 4s 67ms/step - loss: 0.5495 - accuracy: 0.8568\n",
            "Accuracy on validation data: 0.8568329811096191\n"
          ]
        }
      ]
    }
  ],
  "metadata": {
    "accelerator": "GPU",
    "colab": {
      "collapsed_sections": [
        "O_cQYvfwD2cv"
      ],
      "machine_shape": "hm",
      "provenance": [],
      "gpuType": "T4",
      "include_colab_link": true
    },
    "gpuClass": "premium",
    "kernelspec": {
      "display_name": "Python 3",
      "name": "python3"
    },
    "language_info": {
      "name": "python"
    }
  },
  "nbformat": 4,
  "nbformat_minor": 0
}